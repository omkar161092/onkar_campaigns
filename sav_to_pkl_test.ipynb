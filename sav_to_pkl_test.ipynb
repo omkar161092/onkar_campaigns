{
  "nbformat": 4,
  "nbformat_minor": 0,
  "metadata": {
    "colab": {
      "name": "sav_to_pkl_test.ipynb",
      "provenance": []
    },
    "kernelspec": {
      "name": "python3",
      "display_name": "Python 3"
    },
    "language_info": {
      "name": "python"
    }
  },
  "cells": [
    {
      "cell_type": "code",
      "metadata": {
        "colab": {
          "base_uri": "https://localhost:8080/"
        },
        "id": "NTW15R0Gw74E",
        "outputId": "61deabcc-c302-4937-f1e7-90030bc5ea93"
      },
      "source": [
        "import pickle\n",
        "# save the model to disk\n",
        "filename = 'finalized_model.sav'\n",
        "#pickle.dump(model, open(filename, 'wb'))\n",
        " \n",
        "# load the model from disk\n",
        "loaded_model = pickle.load(open(filename, 'rb'))"
      ],
      "execution_count": 2,
      "outputs": [
        {
          "output_type": "stream",
          "name": "stderr",
          "text": [
            "/usr/local/lib/python3.7/dist-packages/sklearn/externals/six.py:31: FutureWarning: The module is deprecated in version 0.21 and will be removed in version 0.23 since we've dropped support for Python 2.7. Please rely on the official version of six (https://pypi.org/project/six/).\n",
            "  \"(https://pypi.org/project/six/).\", FutureWarning)\n"
          ]
        }
      ]
    },
    {
      "cell_type": "code",
      "metadata": {
        "colab": {
          "base_uri": "https://localhost:8080/"
        },
        "id": "H-nWNC7Kxt14",
        "outputId": "6ccb0c27-b2c9-49a4-8cb7-ad61ad259164"
      },
      "source": [
        "loaded_model"
      ],
      "execution_count": 3,
      "outputs": [
        {
          "output_type": "execute_result",
          "data": {
            "text/plain": [
              "StackingCVClassifier(classifiers=[LogisticRegression(C=1.0, class_weight=None,\n",
              "                                                     dual=False,\n",
              "                                                     fit_intercept=True,\n",
              "                                                     intercept_scaling=1,\n",
              "                                                     l1_ratio=None,\n",
              "                                                     max_iter=100,\n",
              "                                                     multi_class='auto',\n",
              "                                                     n_jobs=None, penalty='l2',\n",
              "                                                     random_state=None,\n",
              "                                                     solver='lbfgs', tol=0.0001,\n",
              "                                                     verbose=0,\n",
              "                                                     warm_start=False),\n",
              "                                  RandomForestClassifier(bootstrap=True,\n",
              "                                                         ccp_alpha=0.0,\n",
              "                                                         class_weight=None,\n",
              "                                                         criterion=...\n",
              "                                                   max_delta_step=0,\n",
              "                                                   max_depth=3,\n",
              "                                                   min_child_weight=1,\n",
              "                                                   missing=nan,\n",
              "                                                   n_estimators=100, n_jobs=1,\n",
              "                                                   nthread=None,\n",
              "                                                   objective='binary:logistic',\n",
              "                                                   random_state=0, reg_alpha=0,\n",
              "                                                   reg_lambda=1,\n",
              "                                                   scale_pos_weight=1,\n",
              "                                                   seed=None, silent=None,\n",
              "                                                   subsample=1, verbosity=1),\n",
              "                     shuffle=True, store_train_meta_features=False,\n",
              "                     stratify=True, use_clones=True,\n",
              "                     use_features_in_secondary=False, use_probas=True,\n",
              "                     verbose=0)"
            ]
          },
          "metadata": {},
          "execution_count": 3
        }
      ]
    },
    {
      "cell_type": "code",
      "metadata": {
        "id": "_eyZ-fO5yKVk"
      },
      "source": [
        "Pkl_Filename = \"Pickle_RL_Model.pkl\"  \n",
        "\n",
        "with open(Pkl_Filename, 'wb') as file:  \n",
        "    pickle.dump(loaded_model, file)"
      ],
      "execution_count": 5,
      "outputs": []
    },
    {
      "cell_type": "code",
      "metadata": {
        "id": "T8YmADHrxQKE"
      },
      "source": [
        "# save as object\n",
        "s = pickle.dumps(clf)\n",
        "clf2 = pickle.loads(s)\n",
        "\n",
        "# save to file\n",
        "from joblib import dump\n",
        "\n",
        "dump(clf, 'filename.joblib') \n",
        "\n",
        "# load from file\n",
        "from joblib import load\n",
        "\n",
        "clf = load('filename.joblib')"
      ],
      "execution_count": null,
      "outputs": []
    }
  ]
}