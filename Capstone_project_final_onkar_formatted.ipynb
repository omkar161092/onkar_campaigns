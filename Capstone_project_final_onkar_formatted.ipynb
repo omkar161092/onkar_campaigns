{
  "nbformat": 4,
  "nbformat_minor": 0,
  "metadata": {
    "colab": {
      "name": "Capstone_project_final_onkar.ipynb",
      "provenance": [],
      "collapsed_sections": [
        "LVqAHtBKl7zO",
        "om_b3y35BzWv",
        "B3laqZcnmmku",
        "7sJQWzKFqqCv",
        "ab0sZOqxrX3S",
        "y4Abnl-_rjTO",
        "9fSmqqNasp22",
        "x0SE5C1ltEhs",
        "rnSzozggtX5h",
        "8WXcwaGRtxuu",
        "0dYfsIpp8k6d",
        "7-xiIzvJ80Qu",
        "fkDsvY4RXiKs",
        "A24bUFnO1sDA",
        "akgfC3q7ZtZR",
        "5WHDZKcAbow3",
        "TbzKurpfe0me",
        "mAST0Ip0e81m",
        "DylHeV1EhJ7a",
        "_u4LTDd2fXBx",
        "7rhmtb1GER0C",
        "02p5nN4_9isd",
        "pAfa-h-iPOeA",
        "V_y2lGMFQwCa",
        "9mIBXmpM3jtZ",
        "bfYyf-aQ3rC_",
        "kNzSPjJJ3yaC",
        "3rKq8SaZU3SJ",
        "NUh1o3NW3_P8",
        "E6gBpswq4NfX",
        "D-MpQ7TZ4XwN",
        "IW2AxxftxB5x",
        "04gz6N0D2xoa",
        "rBYFBpWd1BKx",
        "jy5eaPaQ3HD9"
      ]
    },
    "kernelspec": {
      "display_name": "Python 3",
      "language": "python",
      "name": "python3"
    },
    "language_info": {
      "codemirror_mode": {
        "name": "ipython",
        "version": 3
      },
      "file_extension": ".py",
      "mimetype": "text/x-python",
      "name": "python",
      "nbconvert_exporter": "python",
      "pygments_lexer": "ipython3",
      "version": "3.7.9"
    }
  },
  "cells": [
    {
      "cell_type": "markdown",
      "metadata": {
        "id": "LVqAHtBKl7zO"
      },
      "source": [
        "#Importing Libraries and Data"
      ]
    },
    {
      "cell_type": "code",
      "metadata": {
        "id": "5Ltk9Rk1qhgr"
      },
      "source": [
        "import numpy as np\n",
        "import pandas as pd\n",
        "import matplotlib.pyplot as plt\n",
        "import seaborn as sns"
      ],
      "execution_count": 1,
      "outputs": []
    },
    {
      "cell_type": "code",
      "metadata": {
        "id": "Gna_LsqBNPO8"
      },
      "source": [
        "import warnings\n",
        "warnings.filterwarnings(\"ignore\")"
      ],
      "execution_count": 2,
      "outputs": []
    },
    {
      "cell_type": "code",
      "metadata": {
        "colab": {
          "base_uri": "https://localhost:8080/"
        },
        "id": "IrBgmYlfu3dI",
        "outputId": "a6410b19-b84b-4a2b-a920-2c6e0024bb3c"
      },
      "source": [
        "!pip install s3fs"
      ],
      "execution_count": 3,
      "outputs": [
        {
          "output_type": "stream",
          "name": "stdout",
          "text": [
            "Requirement already satisfied: s3fs in /usr/local/lib/python3.7/dist-packages (2021.10.0)\n",
            "Requirement already satisfied: aiobotocore~=1.4.1 in /usr/local/lib/python3.7/dist-packages (from s3fs) (1.4.2)\n",
            "Requirement already satisfied: fsspec==2021.10.0 in /usr/local/lib/python3.7/dist-packages (from s3fs) (2021.10.0)\n",
            "Requirement already satisfied: aiohttp>=3.3.1 in /usr/local/lib/python3.7/dist-packages (from aiobotocore~=1.4.1->s3fs) (3.7.4.post0)\n",
            "Requirement already satisfied: aioitertools>=0.5.1 in /usr/local/lib/python3.7/dist-packages (from aiobotocore~=1.4.1->s3fs) (0.8.0)\n",
            "Requirement already satisfied: botocore<1.20.107,>=1.20.106 in /usr/local/lib/python3.7/dist-packages (from aiobotocore~=1.4.1->s3fs) (1.20.106)\n",
            "Requirement already satisfied: wrapt>=1.10.10 in /usr/local/lib/python3.7/dist-packages (from aiobotocore~=1.4.1->s3fs) (1.12.1)\n",
            "Requirement already satisfied: typing-extensions>=3.6.5 in /usr/local/lib/python3.7/dist-packages (from aiohttp>=3.3.1->aiobotocore~=1.4.1->s3fs) (3.7.4.3)\n",
            "Requirement already satisfied: yarl<2.0,>=1.0 in /usr/local/lib/python3.7/dist-packages (from aiohttp>=3.3.1->aiobotocore~=1.4.1->s3fs) (1.7.0)\n",
            "Requirement already satisfied: chardet<5.0,>=2.0 in /usr/local/lib/python3.7/dist-packages (from aiohttp>=3.3.1->aiobotocore~=1.4.1->s3fs) (3.0.4)\n",
            "Requirement already satisfied: attrs>=17.3.0 in /usr/local/lib/python3.7/dist-packages (from aiohttp>=3.3.1->aiobotocore~=1.4.1->s3fs) (21.2.0)\n",
            "Requirement already satisfied: multidict<7.0,>=4.5 in /usr/local/lib/python3.7/dist-packages (from aiohttp>=3.3.1->aiobotocore~=1.4.1->s3fs) (5.2.0)\n",
            "Requirement already satisfied: async-timeout<4.0,>=3.0 in /usr/local/lib/python3.7/dist-packages (from aiohttp>=3.3.1->aiobotocore~=1.4.1->s3fs) (3.0.1)\n",
            "Requirement already satisfied: python-dateutil<3.0.0,>=2.1 in /usr/local/lib/python3.7/dist-packages (from botocore<1.20.107,>=1.20.106->aiobotocore~=1.4.1->s3fs) (2.8.2)\n",
            "Requirement already satisfied: urllib3<1.27,>=1.25.4 in /usr/local/lib/python3.7/dist-packages (from botocore<1.20.107,>=1.20.106->aiobotocore~=1.4.1->s3fs) (1.26.7)\n",
            "Requirement already satisfied: jmespath<1.0.0,>=0.7.1 in /usr/local/lib/python3.7/dist-packages (from botocore<1.20.107,>=1.20.106->aiobotocore~=1.4.1->s3fs) (0.10.0)\n",
            "Requirement already satisfied: six>=1.5 in /usr/local/lib/python3.7/dist-packages (from python-dateutil<3.0.0,>=2.1->botocore<1.20.107,>=1.20.106->aiobotocore~=1.4.1->s3fs) (1.15.0)\n",
            "Requirement already satisfied: idna>=2.0 in /usr/local/lib/python3.7/dist-packages (from yarl<2.0,>=1.0->aiohttp>=3.3.1->aiobotocore~=1.4.1->s3fs) (2.10)\n"
          ]
        }
      ]
    },
    {
      "cell_type": "code",
      "metadata": {
        "id": "RzE2N4GmqY63"
      },
      "source": [
        "##Reading non-event data\n",
        "non_event_data=pd.read_csv(\"s3://telecomcapstoneprojectonkar/non_events_data/000000_0\",names=[\"device_id\",\"gender\",\"age\",\"group_train\",\"phone_brand\",\"device_model\"])"
      ],
      "execution_count": 4,
      "outputs": []
    },
    {
      "cell_type": "code",
      "metadata": {
        "id": "Fg2gTnF4wSqJ"
      },
      "source": [
        "app_events_file_list=[\"s3://telecomcapstoneprojectonkar/app_events_data/000000_0\",\n",
        "                      \"s3://telecomcapstoneprojectonkar/app_events_data/000001_0\",\n",
        "                      \"s3://telecomcapstoneprojectonkar/app_events_data/000002_0\",\n",
        "                      \"s3://telecomcapstoneprojectonkar/app_events_data/000003_0\",\n",
        "                      \"s3://telecomcapstoneprojectonkar/app_events_data/000004_0\",\n",
        "                      \"s3://telecomcapstoneprojectonkar/app_events_data/000005_0\",\n",
        "                      \"s3://telecomcapstoneprojectonkar/app_events_data/000006_0\",\n",
        "                      \"s3://telecomcapstoneprojectonkar/app_events_data/000007_0\",\n",
        "                      \"s3://telecomcapstoneprojectonkar/app_events_data/000008_0\",\n",
        "                      \"s3://telecomcapstoneprojectonkar/app_events_data/000009_0\",\n",
        "                      \"s3://telecomcapstoneprojectonkar/app_events_data/000010_0\"]"
      ],
      "execution_count": 5,
      "outputs": []
    },
    {
      "cell_type": "code",
      "metadata": {
        "id": "5cPYcwwvxC-I"
      },
      "source": [
        "##Reading Event_Data\n",
        "app_events=pd.DataFrame(columns=[\"event_id\",\"app_id\",\"is_installed\",\"is_active\"])\n",
        "for file in app_events_file_list:\n",
        "  temp=pd.read_csv(file,header=None,names=[\"event_id\",\"app_id\",\"is_installed\",\"is_active\"])\n",
        "  dataframes=[app_events,temp]\n",
        "  app_events=pd.concat(dataframes)"
      ],
      "execution_count": 6,
      "outputs": []
    },
    {
      "cell_type": "code",
      "metadata": {
        "colab": {
          "base_uri": "https://localhost:8080/",
          "height": 203
        },
        "id": "la-r1DlA3qT1",
        "outputId": "b8f5f111-e503-43ba-8fa5-6d55c095bc2f"
      },
      "source": [
        "app_events.head()"
      ],
      "execution_count": 7,
      "outputs": [
        {
          "output_type": "execute_result",
          "data": {
            "text/html": [
              "<div>\n",
              "<style scoped>\n",
              "    .dataframe tbody tr th:only-of-type {\n",
              "        vertical-align: middle;\n",
              "    }\n",
              "\n",
              "    .dataframe tbody tr th {\n",
              "        vertical-align: top;\n",
              "    }\n",
              "\n",
              "    .dataframe thead th {\n",
              "        text-align: right;\n",
              "    }\n",
              "</style>\n",
              "<table border=\"1\" class=\"dataframe\">\n",
              "  <thead>\n",
              "    <tr style=\"text-align: right;\">\n",
              "      <th></th>\n",
              "      <th>event_id</th>\n",
              "      <th>app_id</th>\n",
              "      <th>is_installed</th>\n",
              "      <th>is_active</th>\n",
              "    </tr>\n",
              "  </thead>\n",
              "  <tbody>\n",
              "    <tr>\n",
              "      <th>0</th>\n",
              "      <td>2960967</td>\n",
              "      <td>8557198901083791098</td>\n",
              "      <td>1</td>\n",
              "      <td>1</td>\n",
              "    </tr>\n",
              "    <tr>\n",
              "      <th>1</th>\n",
              "      <td>2960967</td>\n",
              "      <td>-1633912854767170738</td>\n",
              "      <td>1</td>\n",
              "      <td>0</td>\n",
              "    </tr>\n",
              "    <tr>\n",
              "      <th>2</th>\n",
              "      <td>2960967</td>\n",
              "      <td>628020936226491308</td>\n",
              "      <td>1</td>\n",
              "      <td>0</td>\n",
              "    </tr>\n",
              "    <tr>\n",
              "      <th>3</th>\n",
              "      <td>2960967</td>\n",
              "      <td>7318279094145460336</td>\n",
              "      <td>1</td>\n",
              "      <td>0</td>\n",
              "    </tr>\n",
              "    <tr>\n",
              "      <th>4</th>\n",
              "      <td>2960967</td>\n",
              "      <td>3358418900419361927</td>\n",
              "      <td>1</td>\n",
              "      <td>0</td>\n",
              "    </tr>\n",
              "  </tbody>\n",
              "</table>\n",
              "</div>"
            ],
            "text/plain": [
              "  event_id                app_id is_installed is_active\n",
              "0  2960967   8557198901083791098            1         1\n",
              "1  2960967  -1633912854767170738            1         0\n",
              "2  2960967    628020936226491308            1         0\n",
              "3  2960967   7318279094145460336            1         0\n",
              "4  2960967   3358418900419361927            1         0"
            ]
          },
          "metadata": {},
          "execution_count": 7
        }
      ]
    },
    {
      "cell_type": "code",
      "metadata": {
        "id": "MRV5YJhls6il"
      },
      "source": [
        "#Read Event_Data\n",
        "event_data = pd.read_csv(\"s3://telecomcapstoneprojectonkar/event_data/000000_0\",names=[\"device_id\",\"gender\",\"age\",\"group_train\",\"event_id\",\"timestamp\",\"longitude\",\"latitude\"],encoding=\"latin-1\")\n",
        "event_data.event_id=event_data.event_id.apply(lambda x : np.nan if x==r\"\\N\" else x)\n",
        "event_data.timestamp=event_data.timestamp.apply(lambda x : np.nan if x==r\"\\N\" else x)\n",
        "event_data.longitude=event_data.longitude.apply(lambda x : np.nan if x==r\"\\N\" else x)\n",
        "event_data.latitude=event_data.latitude.apply(lambda x : np.nan if x==r\"\\N\" else x)\n"
      ],
      "execution_count": 8,
      "outputs": []
    },
    {
      "cell_type": "code",
      "metadata": {
        "id": "ZFDRz7JNNPPA"
      },
      "source": [
        "event_data.event_id=event_data.event_id.astype(\"float\")\n",
        "event_data.longitude=event_data.longitude.astype(\"float\")\n",
        "event_data.latitude=event_data.latitude.astype(\"float\")"
      ],
      "execution_count": 9,
      "outputs": []
    },
    {
      "cell_type": "code",
      "metadata": {
        "id": "1CVeMXYq-h1h"
      },
      "source": [
        "##Label Data\n",
        "app_labels = pd.read_csv(\"https://capstone-project-mlc-metadata.s3.amazonaws.com/app_labels_new.txt\")"
      ],
      "execution_count": 10,
      "outputs": []
    },
    {
      "cell_type": "code",
      "metadata": {
        "id": "jEvlmSGH-kNp"
      },
      "source": [
        "label_category = pd.read_csv(\"https://capstone-project-mlc-metadata.s3.amazonaws.com/label_categories.csv\")"
      ],
      "execution_count": 11,
      "outputs": []
    },
    {
      "cell_type": "code",
      "metadata": {
        "id": "m4Ej5P1YBg2V"
      },
      "source": [
        "label_data=pd.merge(app_labels,label_category,on=(\"label_id\"))"
      ],
      "execution_count": 12,
      "outputs": []
    },
    {
      "cell_type": "markdown",
      "metadata": {
        "id": "DmBtb6ZIlPl0"
      },
      "source": [
        "#EDA"
      ]
    },
    {
      "cell_type": "markdown",
      "metadata": {
        "id": "om_b3y35BzWv"
      },
      "source": [
        "##Checking for Null values"
      ]
    },
    {
      "cell_type": "code",
      "metadata": {
        "colab": {
          "base_uri": "https://localhost:8080/"
        },
        "id": "x9iGXDHVNPPB",
        "outputId": "90efd1c9-b662-43cf-b5b7-cffdaa99f5e5"
      },
      "source": [
        "event_data.isnull().sum()"
      ],
      "execution_count": 13,
      "outputs": [
        {
          "output_type": "execute_result",
          "data": {
            "text/plain": [
              "device_id          0\n",
              "gender             0\n",
              "age                0\n",
              "group_train        0\n",
              "event_id       51335\n",
              "timestamp      51335\n",
              "longitude      51335\n",
              "latitude       51335\n",
              "dtype: int64"
            ]
          },
          "metadata": {},
          "execution_count": 13
        }
      ]
    },
    {
      "cell_type": "code",
      "metadata": {
        "colab": {
          "base_uri": "https://localhost:8080/"
        },
        "id": "8i5tzT8ixvd1",
        "outputId": "8698d1bd-a7a9-400b-d56b-1ad09ee8321d"
      },
      "source": [
        "label_data.isnull().sum()"
      ],
      "execution_count": 14,
      "outputs": [
        {
          "output_type": "execute_result",
          "data": {
            "text/plain": [
              "app_id      0\n",
              "label_id    0\n",
              "category    0\n",
              "dtype: int64"
            ]
          },
          "metadata": {},
          "execution_count": 14
        }
      ]
    },
    {
      "cell_type": "code",
      "metadata": {
        "colab": {
          "base_uri": "https://localhost:8080/"
        },
        "id": "JucDBMIux23q",
        "outputId": "b35074cc-0a87-4429-c281-122211cb2ce4"
      },
      "source": [
        "non_event_data.isnull().sum()"
      ],
      "execution_count": 15,
      "outputs": [
        {
          "output_type": "execute_result",
          "data": {
            "text/plain": [
              "device_id       0\n",
              "gender          0\n",
              "age             0\n",
              "group_train     0\n",
              "phone_brand     0\n",
              "device_model    0\n",
              "dtype: int64"
            ]
          },
          "metadata": {},
          "execution_count": 15
        }
      ]
    },
    {
      "cell_type": "code",
      "metadata": {
        "colab": {
          "base_uri": "https://localhost:8080/"
        },
        "id": "LnKVUYEXx69j",
        "outputId": "eaa40a07-0c0e-4338-85c2-0a880f7f8e3f"
      },
      "source": [
        "app_events.isnull().sum()"
      ],
      "execution_count": 16,
      "outputs": [
        {
          "output_type": "execute_result",
          "data": {
            "text/plain": [
              "event_id        0\n",
              "app_id          0\n",
              "is_installed    0\n",
              "is_active       0\n",
              "dtype: int64"
            ]
          },
          "metadata": {},
          "execution_count": 16
        }
      ]
    },
    {
      "cell_type": "code",
      "metadata": {
        "colab": {
          "base_uri": "https://localhost:8080/"
        },
        "id": "To40buPUyBxm",
        "outputId": "68228877-b5a3-4c7d-c4f2-cd35160c7153"
      },
      "source": [
        "len(event_data)"
      ],
      "execution_count": 17,
      "outputs": [
        {
          "output_type": "execute_result",
          "data": {
            "text/plain": [
              "1266933"
            ]
          },
          "metadata": {},
          "execution_count": 17
        }
      ]
    },
    {
      "cell_type": "code",
      "metadata": {
        "colab": {
          "base_uri": "https://localhost:8080/"
        },
        "id": "chc2DZk3z49D",
        "outputId": "1507547c-0c83-4fdb-bd7e-9fc6567501ab"
      },
      "source": [
        "event_data.shape"
      ],
      "execution_count": 18,
      "outputs": [
        {
          "output_type": "execute_result",
          "data": {
            "text/plain": [
              "(1266933, 8)"
            ]
          },
          "metadata": {},
          "execution_count": 18
        }
      ]
    },
    {
      "cell_type": "code",
      "metadata": {
        "colab": {
          "base_uri": "https://localhost:8080/"
        },
        "id": "RaTV819P0crI",
        "outputId": "84cb2f23-dc06-48b8-a1e5-13e9b544ffbb"
      },
      "source": [
        "non_event_data.shape"
      ],
      "execution_count": 19,
      "outputs": [
        {
          "output_type": "execute_result",
          "data": {
            "text/plain": [
              "(74646, 6)"
            ]
          },
          "metadata": {},
          "execution_count": 19
        }
      ]
    },
    {
      "cell_type": "code",
      "metadata": {
        "colab": {
          "base_uri": "https://localhost:8080/"
        },
        "id": "89C2GGLQpBBx",
        "outputId": "2f2a7b26-7751-4f88-bb07-9afb8dc3d02a"
      },
      "source": [
        "non_event_data.dtypes"
      ],
      "execution_count": 20,
      "outputs": [
        {
          "output_type": "execute_result",
          "data": {
            "text/plain": [
              "device_id        int64\n",
              "gender          object\n",
              "age              int64\n",
              "group_train     object\n",
              "phone_brand     object\n",
              "device_model    object\n",
              "dtype: object"
            ]
          },
          "metadata": {},
          "execution_count": 20
        }
      ]
    },
    {
      "cell_type": "markdown",
      "metadata": {
        "id": "B3laqZcnmmku"
      },
      "source": [
        "##Plots\n",
        "This covers the Sub-tasks given to perform as part of EDA"
      ]
    },
    {
      "cell_type": "markdown",
      "metadata": {
        "id": "7sJQWzKFqqCv"
      },
      "source": [
        "###Plot appropriate graphs representing the distribution of age and gender in the data set [univariate]."
      ]
    },
    {
      "cell_type": "code",
      "metadata": {
        "colab": {
          "base_uri": "https://localhost:8080/",
          "height": 281
        },
        "id": "_UQaJomZ07ks",
        "outputId": "25d6c6c7-3be0-4834-b3b8-cecf8c3d0a42"
      },
      "source": [
        "non_event_data[\"age\"].plot(kind=\"box\")\n",
        "plt.title(\"Univariate Analysis for age\")\n",
        "plt.show()"
      ],
      "execution_count": 21,
      "outputs": [
        {
          "output_type": "display_data",
          "data": {
            "image/png": "[encoded data removed]",
            "text/plain": [
              "<Figure size 432x288 with 1 Axes>"
            ]
          },
          "metadata": {
            "needs_background": "light"
          }
        }
      ]
    },
    {
      "cell_type": "code",
      "metadata": {
        "colab": {
          "base_uri": "https://localhost:8080/",
          "height": 294
        },
        "id": "gdgkMeuD1Ys9",
        "outputId": "efc7bf26-3585-45e6-eec2-8f4d7dcc104a"
      },
      "source": [
        "non_event_data[\"gender\"].value_counts(normalize=True).plot(kind=\"bar\")\n",
        "plt.title(\"Univariate Analysis for gender\")\n",
        "plt.xlabel(\"gender\")\n",
        "plt.ylabel(\"%of device_id\")\n",
        "plt.show()"
      ],
      "execution_count": 22,
      "outputs": [
        {
          "output_type": "display_data",
          "data": {
            "image/png": "[encoded data removed]",
            "text/plain": [
              "<Figure size 432x288 with 1 Axes>"
            ]
          },
          "metadata": {
            "needs_background": "light"
          }
        }
      ]
    },
    {
      "cell_type": "markdown",
      "metadata": {
        "id": "ab0sZOqxrX3S"
      },
      "source": [
        "###Boxplot analysis for gender and age [bivariate]."
      ]
    },
    {
      "cell_type": "code",
      "metadata": {
        "colab": {
          "base_uri": "https://localhost:8080/",
          "height": 295
        },
        "id": "AVsPwykU2rXN",
        "outputId": "31df2671-46ad-487a-9dd4-bfd94f107fd3"
      },
      "source": [
        "sns.boxplot(x=non_event_data[\"gender\"],y=non_event_data[\"age\"])\n",
        "plt.title(\"Bivariate Analysis for gender and age\")\n",
        "plt.show()"
      ],
      "execution_count": 23,
      "outputs": [
        {
          "output_type": "display_data",
          "data": {
            "image/png": "[encoded data removed]",
            "text/plain": [
              "<Figure size 432x288 with 1 Axes>"
            ]
          },
          "metadata": {
            "needs_background": "light"
          }
        }
      ]
    },
    {
      "cell_type": "code",
      "metadata": {
        "colab": {
          "base_uri": "https://localhost:8080/",
          "height": 282
        },
        "id": "KS8nViVs3eY0",
        "outputId": "ce898a2a-8bda-4bbe-db30-258af3a8534c"
      },
      "source": [
        "sns.countplot(non_event_data[\"gender\"])\n",
        "plt.show()"
      ],
      "execution_count": 24,
      "outputs": [
        {
          "output_type": "display_data",
          "data": {
            "image/png": "[encoded data removed]",
            "text/plain": [
              "<Figure size 432x288 with 1 Axes>"
            ]
          },
          "metadata": {
            "needs_background": "light"
          }
        }
      ]
    },
    {
      "cell_type": "code",
      "metadata": {
        "colab": {
          "base_uri": "https://localhost:8080/",
          "height": 279
        },
        "id": "oCsfkgrq37N0",
        "outputId": "b3ade7c4-30c4-4673-8357-1d4a7bfddcbb"
      },
      "source": [
        "sns.countplot(non_event_data[\"age\"])\n",
        "plt.show()"
      ],
      "execution_count": 25,
      "outputs": [
        {
          "output_type": "display_data",
          "data": {
            "image/png": "[encoded data removed]",
            "text/plain": [
              "<Figure size 432x288 with 1 Axes>"
            ]
          },
          "metadata": {
            "needs_background": "light"
          }
        }
      ]
    },
    {
      "cell_type": "markdown",
      "metadata": {
        "id": "y4Abnl-_rjTO"
      },
      "source": [
        "###Plot the percentage of the device_ids with and without event data."
      ]
    },
    {
      "cell_type": "code",
      "metadata": {
        "id": "PzMC3dCv3_Qh"
      },
      "source": [
        "event_data['flag']= event_data.apply(lambda x : \"Null\" if pd.isnull(x['event_id']) else \"NotNull\", axis = 1)"
      ],
      "execution_count": 26,
      "outputs": []
    },
    {
      "cell_type": "code",
      "metadata": {
        "colab": {
          "base_uri": "https://localhost:8080/"
        },
        "id": "B7TWKnJp5Vev",
        "outputId": "2269b198-030d-4f0b-f3c4-8fdf788284d8"
      },
      "source": [
        "len(event_data[event_data[\"flag\"]==\"Null\"])"
      ],
      "execution_count": 27,
      "outputs": [
        {
          "output_type": "execute_result",
          "data": {
            "text/plain": [
              "51335"
            ]
          },
          "metadata": {},
          "execution_count": 27
        }
      ]
    },
    {
      "cell_type": "code",
      "metadata": {
        "colab": {
          "base_uri": "https://localhost:8080/",
          "height": 323
        },
        "id": "Y9jJpNvO6_XN",
        "outputId": "bf01ca89-b71e-46ca-bec3-7d06d1227dae"
      },
      "source": [
        "event_data[\"flag\"].value_counts(normalize=True).plot(kind=\"bar\")\n",
        "plt.title(\"Percentage of DeviceID's with and without event_id\")\n",
        "plt.xlabel(\"event_id null/notnull\")\n",
        "plt.ylabel(\"Percentage of device-id\")\n",
        "plt.show()"
      ],
      "execution_count": 28,
      "outputs": [
        {
          "output_type": "display_data",
          "data": {
            "image/png": "[encoded data removed]",
            "text/plain": [
              "<Figure size 432x288 with 1 Axes>"
            ]
          },
          "metadata": {
            "needs_background": "light"
          }
        }
      ]
    },
    {
      "cell_type": "markdown",
      "metadata": {
        "id": "9fSmqqNasp22"
      },
      "source": [
        "###Plot a graph representing the distribution of events over different days of a week. "
      ]
    },
    {
      "cell_type": "code",
      "metadata": {
        "id": "rEhdyJTl7QED"
      },
      "source": [
        "event_data[\"timestamp\"] = pd.to_datetime(event_data[\"timestamp\"])"
      ],
      "execution_count": 29,
      "outputs": []
    },
    {
      "cell_type": "code",
      "metadata": {
        "colab": {
          "base_uri": "https://localhost:8080/"
        },
        "id": "sDGsnFHl79Pv",
        "outputId": "ab9401ae-d9dd-41b9-d5d2-9226b73cc6f5"
      },
      "source": [
        "event_data.dtypes"
      ],
      "execution_count": 30,
      "outputs": [
        {
          "output_type": "execute_result",
          "data": {
            "text/plain": [
              "device_id               int64\n",
              "gender                 object\n",
              "age                     int64\n",
              "group_train            object\n",
              "event_id              float64\n",
              "timestamp      datetime64[ns]\n",
              "longitude             float64\n",
              "latitude              float64\n",
              "flag                   object\n",
              "dtype: object"
            ]
          },
          "metadata": {},
          "execution_count": 30
        }
      ]
    },
    {
      "cell_type": "code",
      "metadata": {
        "id": "EpKdddcI8Hj4"
      },
      "source": [
        "import datetime as dt\n",
        "event_data[\"day_of_week\"]=event_data[\"timestamp\"].dt.dayofweek"
      ],
      "execution_count": 31,
      "outputs": []
    },
    {
      "cell_type": "code",
      "metadata": {
        "colab": {
          "base_uri": "https://localhost:8080/",
          "height": 296
        },
        "id": "v1_4_S6r82DC",
        "outputId": "6c27e038-baa6-446b-b80a-5b07395d4354"
      },
      "source": [
        "sns.histplot(data=event_data, x = event_data[\"day_of_week\"])\n",
        "plt.title(\"Distribution of events over weekdays\")\n",
        "plt.show()"
      ],
      "execution_count": 32,
      "outputs": [
        {
          "output_type": "display_data",
          "data": {
            "image/png": "[encoded data removed]",
            "text/plain": [
              "<Figure size 432x288 with 1 Axes>"
            ]
          },
          "metadata": {
            "needs_background": "light"
          }
        }
      ]
    },
    {
      "cell_type": "code",
      "metadata": {
        "colab": {
          "base_uri": "https://localhost:8080/"
        },
        "id": "489o3Im2-DBG",
        "outputId": "b5e8f72e-ec3f-454f-b06e-4411ab5638ff"
      },
      "source": [
        "event_data[\"day_of_week\"].value_counts()"
      ],
      "execution_count": 33,
      "outputs": [
        {
          "output_type": "execute_result",
          "data": {
            "text/plain": [
              "1.0    180296\n",
              "3.0    180041\n",
              "2.0    178371\n",
              "4.0    176657\n",
              "0.0    169381\n",
              "5.0    166835\n",
              "6.0    164017\n",
              "Name: day_of_week, dtype: int64"
            ]
          },
          "metadata": {},
          "execution_count": 33
        }
      ]
    },
    {
      "cell_type": "markdown",
      "metadata": {
        "id": "x0SE5C1ltEhs"
      },
      "source": [
        "###Plot a graph representing the distribution of events per hour "
      ]
    },
    {
      "cell_type": "code",
      "metadata": {
        "id": "yPhjtIs0-OSz"
      },
      "source": [
        "event_data[\"hour\"]=event_data[\"timestamp\"].dt.hour"
      ],
      "execution_count": 34,
      "outputs": []
    },
    {
      "cell_type": "code",
      "metadata": {
        "colab": {
          "base_uri": "https://localhost:8080/"
        },
        "id": "9cD1OPPv-sqy",
        "outputId": "e6d821eb-466c-41bc-e0d1-e879265ad33a"
      },
      "source": [
        "event_data[\"timestamp\"].dt.week.value_counts()"
      ],
      "execution_count": 35,
      "outputs": [
        {
          "output_type": "execute_result",
          "data": {
            "text/plain": [
              "18.0    1051204\n",
              "17.0     164394\n",
              "Name: timestamp, dtype: int64"
            ]
          },
          "metadata": {},
          "execution_count": 35
        }
      ]
    },
    {
      "cell_type": "code",
      "metadata": {
        "colab": {
          "base_uri": "https://localhost:8080/",
          "height": 295
        },
        "id": "SU14HXYG-zWN",
        "outputId": "49dfb84f-6cfb-4bdc-ee41-487bfed94e5a"
      },
      "source": [
        "sns.histplot(data=event_data[event_data[\"timestamp\"].dt.week==17], x = event_data[\"hour\"])\n",
        "plt.title(\"Distribution of events for hour\")\n",
        "plt.show()\n"
      ],
      "execution_count": 36,
      "outputs": [
        {
          "output_type": "display_data",
          "data": {
            "image/png": "[encoded data removed]",
            "text/plain": [
              "<Figure size 432x288 with 1 Axes>"
            ]
          },
          "metadata": {
            "needs_background": "light"
          }
        }
      ]
    },
    {
      "cell_type": "markdown",
      "metadata": {
        "id": "rnSzozggtX5h"
      },
      "source": [
        "###The difference in the distribution of events per hour for Male and Female consumers. [Show the difference using an appropriate chart for one-week data.]"
      ]
    },
    {
      "cell_type": "code",
      "metadata": {
        "colab": {
          "base_uri": "https://localhost:8080/",
          "height": 295
        },
        "id": "NUz54YUWA8Ui",
        "outputId": "a9d569a4-d075-4fc1-f321-4da7fa7af52f"
      },
      "source": [
        "sns.boxplot(data=event_data[event_data[\"timestamp\"].dt.week==17], y = event_data[\"hour\"] , x = event_data[\"gender\"] )\n",
        "plt.title(\"Distribution for each hour based on gender\")\n",
        "plt.show()"
      ],
      "execution_count": 37,
      "outputs": [
        {
          "output_type": "display_data",
          "data": {
            "image/png": "[encoded data removed]",
            "text/plain": [
              "<Figure size 432x288 with 1 Axes>"
            ]
          },
          "metadata": {
            "needs_background": "light"
          }
        }
      ]
    },
    {
      "cell_type": "code",
      "metadata": {
        "colab": {
          "base_uri": "https://localhost:8080/",
          "height": 295
        },
        "id": "x8StgCwIBlu5",
        "outputId": "9cfd7a2f-93a0-4356-ea94-22c00d6c6001"
      },
      "source": [
        "sns.histplot(data=event_data[event_data[\"timestamp\"].dt.week==17], x = event_data['hour'], hue='gender')\n",
        "plt.title(\"Distribution for each hour based on gender\")\n",
        "plt.show()"
      ],
      "execution_count": 38,
      "outputs": [
        {
          "output_type": "display_data",
          "data": {
            "image/png": "[encoded data removed]",
            "text/plain": [
              "<Figure size 432x288 with 1 Axes>"
            ]
          },
          "metadata": {
            "needs_background": "light"
          }
        }
      ]
    },
    {
      "cell_type": "markdown",
      "metadata": {
        "id": "8WXcwaGRtxuu"
      },
      "source": [
        "###Is there any difference in the distribution of Events for different Age Groups over different days of the week? "
      ]
    },
    {
      "cell_type": "code",
      "metadata": {
        "id": "BF2YFYLVeFta"
      },
      "source": [
        "def age_binning(age):\n",
        "  if(age<25):\n",
        "    return \"0-24\"\n",
        "  elif((age>24) and (age<33)):\n",
        "    return \"25-32\"\n",
        "  elif((age>32) and (age<46)):\n",
        "    return \"32-45\"\n",
        "  else:\n",
        "    return \"46+\""
      ],
      "execution_count": 39,
      "outputs": []
    },
    {
      "cell_type": "code",
      "metadata": {
        "id": "JI5KEX9mhtKe"
      },
      "source": [
        "event_data_week=event_data[event_data[\"timestamp\"].dt.week==18]"
      ],
      "execution_count": 40,
      "outputs": []
    },
    {
      "cell_type": "code",
      "metadata": {
        "colab": {
          "base_uri": "https://localhost:8080/"
        },
        "id": "ZgfWR1H-jF8m",
        "outputId": "ed097279-87b1-4d1f-fbfa-e7ead8081cbc"
      },
      "source": [
        "event_data_week[\"day_of_week\"].value_counts()"
      ],
      "execution_count": 41,
      "outputs": [
        {
          "output_type": "execute_result",
          "data": {
            "text/plain": [
              "1.0    180296\n",
              "3.0    180041\n",
              "2.0    178371\n",
              "4.0    176657\n",
              "0.0    169381\n",
              "5.0    166457\n",
              "6.0         1\n",
              "Name: day_of_week, dtype: int64"
            ]
          },
          "metadata": {},
          "execution_count": 41
        }
      ]
    },
    {
      "cell_type": "code",
      "metadata": {
        "id": "V5oFjom3h8Xw"
      },
      "source": [
        "event_data_week[\"bin_age\"]=event_data_week[\"age\"].apply(age_binning)"
      ],
      "execution_count": 42,
      "outputs": []
    },
    {
      "cell_type": "code",
      "metadata": {
        "id": "jH733OnZiIn4"
      },
      "source": [
        "df_age=pd.pivot_table(data=event_data_week,index=\"day_of_week\",columns=\"bin_age\",values=\"event_id\",aggfunc=\"count\")"
      ],
      "execution_count": 43,
      "outputs": []
    },
    {
      "cell_type": "code",
      "metadata": {
        "colab": {
          "base_uri": "https://localhost:8080/",
          "height": 295
        },
        "id": "YtFh6ujaisY2",
        "outputId": "16de942c-8837-4356-b2d5-4ff2225ae71b"
      },
      "source": [
        "df_age"
      ],
      "execution_count": 44,
      "outputs": [
        {
          "output_type": "execute_result",
          "data": {
            "text/html": [
              "<div>\n",
              "<style scoped>\n",
              "    .dataframe tbody tr th:only-of-type {\n",
              "        vertical-align: middle;\n",
              "    }\n",
              "\n",
              "    .dataframe tbody tr th {\n",
              "        vertical-align: top;\n",
              "    }\n",
              "\n",
              "    .dataframe thead th {\n",
              "        text-align: right;\n",
              "    }\n",
              "</style>\n",
              "<table border=\"1\" class=\"dataframe\">\n",
              "  <thead>\n",
              "    <tr style=\"text-align: right;\">\n",
              "      <th>bin_age</th>\n",
              "      <th>0-24</th>\n",
              "      <th>25-32</th>\n",
              "      <th>32-45</th>\n",
              "      <th>46+</th>\n",
              "    </tr>\n",
              "    <tr>\n",
              "      <th>day_of_week</th>\n",
              "      <th></th>\n",
              "      <th></th>\n",
              "      <th></th>\n",
              "      <th></th>\n",
              "    </tr>\n",
              "  </thead>\n",
              "  <tbody>\n",
              "    <tr>\n",
              "      <th>0.0</th>\n",
              "      <td>27123.0</td>\n",
              "      <td>65877.0</td>\n",
              "      <td>55232.0</td>\n",
              "      <td>21149.0</td>\n",
              "    </tr>\n",
              "    <tr>\n",
              "      <th>1.0</th>\n",
              "      <td>26144.0</td>\n",
              "      <td>71487.0</td>\n",
              "      <td>59882.0</td>\n",
              "      <td>22783.0</td>\n",
              "    </tr>\n",
              "    <tr>\n",
              "      <th>2.0</th>\n",
              "      <td>27114.0</td>\n",
              "      <td>69098.0</td>\n",
              "      <td>58851.0</td>\n",
              "      <td>23308.0</td>\n",
              "    </tr>\n",
              "    <tr>\n",
              "      <th>3.0</th>\n",
              "      <td>26842.0</td>\n",
              "      <td>72543.0</td>\n",
              "      <td>57949.0</td>\n",
              "      <td>22707.0</td>\n",
              "    </tr>\n",
              "    <tr>\n",
              "      <th>4.0</th>\n",
              "      <td>26975.0</td>\n",
              "      <td>70270.0</td>\n",
              "      <td>57477.0</td>\n",
              "      <td>21935.0</td>\n",
              "    </tr>\n",
              "    <tr>\n",
              "      <th>5.0</th>\n",
              "      <td>26317.0</td>\n",
              "      <td>65176.0</td>\n",
              "      <td>53698.0</td>\n",
              "      <td>21266.0</td>\n",
              "    </tr>\n",
              "    <tr>\n",
              "      <th>6.0</th>\n",
              "      <td>NaN</td>\n",
              "      <td>1.0</td>\n",
              "      <td>NaN</td>\n",
              "      <td>NaN</td>\n",
              "    </tr>\n",
              "  </tbody>\n",
              "</table>\n",
              "</div>"
            ],
            "text/plain": [
              "bin_age         0-24    25-32    32-45      46+\n",
              "day_of_week                                    \n",
              "0.0          27123.0  65877.0  55232.0  21149.0\n",
              "1.0          26144.0  71487.0  59882.0  22783.0\n",
              "2.0          27114.0  69098.0  58851.0  23308.0\n",
              "3.0          26842.0  72543.0  57949.0  22707.0\n",
              "4.0          26975.0  70270.0  57477.0  21935.0\n",
              "5.0          26317.0  65176.0  53698.0  21266.0\n",
              "6.0              NaN      1.0      NaN      NaN"
            ]
          },
          "metadata": {},
          "execution_count": 44
        }
      ]
    },
    {
      "cell_type": "code",
      "metadata": {
        "colab": {
          "base_uri": "https://localhost:8080/",
          "height": 302
        },
        "id": "ScCGj4Awid-A",
        "outputId": "b1c2a2fa-84b0-4d13-f9cd-1e98573fd701"
      },
      "source": [
        "df_age.plot(kind=\"bar\")\n",
        "plt.title(\"distribution of events based on age\")\n",
        "plt.show()"
      ],
      "execution_count": 45,
      "outputs": [
        {
          "output_type": "display_data",
          "data": {
            "image/png": "[encoded data removed]",
            "text/plain": [
              "<Figure size 432x288 with 1 Axes>"
            ]
          },
          "metadata": {
            "needs_background": "light"
          }
        }
      ]
    },
    {
      "cell_type": "markdown",
      "metadata": {
        "id": "0dYfsIpp8k6d"
      },
      "source": [
        "###Stacked bar chart for the top 10 mobile brands across male and female consumers."
      ]
    },
    {
      "cell_type": "code",
      "metadata": {
        "id": "Cm5b48VywnbN"
      },
      "source": [
        "phone_brands=pd.pivot_table(data=non_event_data,index=\"phone_brand\",columns=\"gender\",values=\"device_id\",aggfunc=\"count\")"
      ],
      "execution_count": 46,
      "outputs": []
    },
    {
      "cell_type": "code",
      "metadata": {
        "id": "3zQL-qyhzg4N"
      },
      "source": [
        "phone_brands[\"total\"]=phone_brands[\"F\"]+phone_brands[\"M\"]"
      ],
      "execution_count": 47,
      "outputs": []
    },
    {
      "cell_type": "code",
      "metadata": {
        "colab": {
          "base_uri": "https://localhost:8080/",
          "height": 332
        },
        "id": "6e8tP70Pz8OZ",
        "outputId": "5c4353a0-784b-4086-df36-1e85bb833c9f"
      },
      "source": [
        "phone_brands.nlargest(10,\"total\")[[\"F\",\"M\"]].plot(kind=\"bar\",stacked=True)\n",
        "plt.title(\"Top 10 mobile brands\")\n",
        "plt.show()"
      ],
      "execution_count": 48,
      "outputs": [
        {
          "output_type": "display_data",
          "data": {
            "image/png": "[encoded data removed]",
            "text/plain": [
              "<Figure size 432x288 with 1 Axes>"
            ]
          },
          "metadata": {
            "needs_background": "light"
          }
        }
      ]
    },
    {
      "cell_type": "markdown",
      "metadata": {
        "id": "7-xiIzvJ80Qu"
      },
      "source": [
        "###Prepare a chart representing the ten frequently used applications and their respective male and female percentage."
      ]
    },
    {
      "cell_type": "code",
      "metadata": {
        "colab": {
          "base_uri": "https://localhost:8080/",
          "height": 203
        },
        "id": "SfbbPWiU-Wbc",
        "outputId": "e96bb4d9-0d0d-41d4-d54b-e701d11c0685"
      },
      "source": [
        "app_events.head()"
      ],
      "execution_count": 49,
      "outputs": [
        {
          "output_type": "execute_result",
          "data": {
            "text/html": [
              "<div>\n",
              "<style scoped>\n",
              "    .dataframe tbody tr th:only-of-type {\n",
              "        vertical-align: middle;\n",
              "    }\n",
              "\n",
              "    .dataframe tbody tr th {\n",
              "        vertical-align: top;\n",
              "    }\n",
              "\n",
              "    .dataframe thead th {\n",
              "        text-align: right;\n",
              "    }\n",
              "</style>\n",
              "<table border=\"1\" class=\"dataframe\">\n",
              "  <thead>\n",
              "    <tr style=\"text-align: right;\">\n",
              "      <th></th>\n",
              "      <th>event_id</th>\n",
              "      <th>app_id</th>\n",
              "      <th>is_installed</th>\n",
              "      <th>is_active</th>\n",
              "    </tr>\n",
              "  </thead>\n",
              "  <tbody>\n",
              "    <tr>\n",
              "      <th>0</th>\n",
              "      <td>2960967</td>\n",
              "      <td>8557198901083791098</td>\n",
              "      <td>1</td>\n",
              "      <td>1</td>\n",
              "    </tr>\n",
              "    <tr>\n",
              "      <th>1</th>\n",
              "      <td>2960967</td>\n",
              "      <td>-1633912854767170738</td>\n",
              "      <td>1</td>\n",
              "      <td>0</td>\n",
              "    </tr>\n",
              "    <tr>\n",
              "      <th>2</th>\n",
              "      <td>2960967</td>\n",
              "      <td>628020936226491308</td>\n",
              "      <td>1</td>\n",
              "      <td>0</td>\n",
              "    </tr>\n",
              "    <tr>\n",
              "      <th>3</th>\n",
              "      <td>2960967</td>\n",
              "      <td>7318279094145460336</td>\n",
              "      <td>1</td>\n",
              "      <td>0</td>\n",
              "    </tr>\n",
              "    <tr>\n",
              "      <th>4</th>\n",
              "      <td>2960967</td>\n",
              "      <td>3358418900419361927</td>\n",
              "      <td>1</td>\n",
              "      <td>0</td>\n",
              "    </tr>\n",
              "  </tbody>\n",
              "</table>\n",
              "</div>"
            ],
            "text/plain": [
              "  event_id                app_id is_installed is_active\n",
              "0  2960967   8557198901083791098            1         1\n",
              "1  2960967  -1633912854767170738            1         0\n",
              "2  2960967    628020936226491308            1         0\n",
              "3  2960967   7318279094145460336            1         0\n",
              "4  2960967   3358418900419361927            1         0"
            ]
          },
          "metadata": {},
          "execution_count": 49
        }
      ]
    },
    {
      "cell_type": "markdown",
      "metadata": {
        "id": "fkDsvY4RXiKs"
      },
      "source": [
        "###List the top 10 mobile phone brands bought by customers by age groups. [Consider the following age groups: 0–24, 25–32, 33–45, and 46+]"
      ]
    },
    {
      "cell_type": "code",
      "metadata": {
        "colab": {
          "base_uri": "https://localhost:8080/",
          "height": 203
        },
        "id": "LlgKegBSCEcW",
        "outputId": "5a7c80e8-5eb8-4dda-b296-49b14ed89db5"
      },
      "source": [
        "non_event_data.head()"
      ],
      "execution_count": 50,
      "outputs": [
        {
          "output_type": "execute_result",
          "data": {
            "text/html": [
              "<div>\n",
              "<style scoped>\n",
              "    .dataframe tbody tr th:only-of-type {\n",
              "        vertical-align: middle;\n",
              "    }\n",
              "\n",
              "    .dataframe tbody tr th {\n",
              "        vertical-align: top;\n",
              "    }\n",
              "\n",
              "    .dataframe thead th {\n",
              "        text-align: right;\n",
              "    }\n",
              "</style>\n",
              "<table border=\"1\" class=\"dataframe\">\n",
              "  <thead>\n",
              "    <tr style=\"text-align: right;\">\n",
              "      <th></th>\n",
              "      <th>device_id</th>\n",
              "      <th>gender</th>\n",
              "      <th>age</th>\n",
              "      <th>group_train</th>\n",
              "      <th>phone_brand</th>\n",
              "      <th>device_model</th>\n",
              "    </tr>\n",
              "  </thead>\n",
              "  <tbody>\n",
              "    <tr>\n",
              "      <th>0</th>\n",
              "      <td>-7548291590301750000</td>\n",
              "      <td>M</td>\n",
              "      <td>33</td>\n",
              "      <td>M32+</td>\n",
              "      <td>Huawei</td>\n",
              "      <td>è£è€€3C</td>\n",
              "    </tr>\n",
              "    <tr>\n",
              "      <th>1</th>\n",
              "      <td>6943568600617760000</td>\n",
              "      <td>M</td>\n",
              "      <td>37</td>\n",
              "      <td>M32+</td>\n",
              "      <td>Xiaomi</td>\n",
              "      <td>xnote</td>\n",
              "    </tr>\n",
              "    <tr>\n",
              "      <th>2</th>\n",
              "      <td>5441349705980020000</td>\n",
              "      <td>M</td>\n",
              "      <td>40</td>\n",
              "      <td>M32+</td>\n",
              "      <td>OPPO</td>\n",
              "      <td>R7s</td>\n",
              "    </tr>\n",
              "    <tr>\n",
              "      <th>3</th>\n",
              "      <td>-5393876656119450000</td>\n",
              "      <td>M</td>\n",
              "      <td>33</td>\n",
              "      <td>M32+</td>\n",
              "      <td>Xiaomi</td>\n",
              "      <td>MI 4</td>\n",
              "    </tr>\n",
              "    <tr>\n",
              "      <th>4</th>\n",
              "      <td>4543988487649880000</td>\n",
              "      <td>M</td>\n",
              "      <td>53</td>\n",
              "      <td>M32+</td>\n",
              "      <td>samsung</td>\n",
              "      <td>Galaxy S4</td>\n",
              "    </tr>\n",
              "  </tbody>\n",
              "</table>\n",
              "</div>"
            ],
            "text/plain": [
              "             device_id gender  age group_train phone_brand device_model\n",
              "0 -7548291590301750000      M   33        M32+      Huawei     è£è€€3C\n",
              "1  6943568600617760000      M   37        M32+      Xiaomi        xnote\n",
              "2  5441349705980020000      M   40        M32+        OPPO          R7s\n",
              "3 -5393876656119450000      M   33        M32+      Xiaomi         MI 4\n",
              "4  4543988487649880000      M   53        M32+     samsung    Galaxy S4"
            ]
          },
          "metadata": {},
          "execution_count": 50
        }
      ]
    },
    {
      "cell_type": "code",
      "metadata": {
        "id": "rT4xpJoYXnup"
      },
      "source": [
        "top_10_brands=list(non_event_data.groupby(\"phone_brand\").count().nlargest(10,\"age\").index)"
      ],
      "execution_count": 51,
      "outputs": []
    },
    {
      "cell_type": "code",
      "metadata": {
        "colab": {
          "base_uri": "https://localhost:8080/"
        },
        "id": "vkSsiFfyZwVb",
        "outputId": "4be005bc-d9db-4a99-8a8a-e50aecd0007d"
      },
      "source": [
        "top_10_brands"
      ],
      "execution_count": 52,
      "outputs": [
        {
          "output_type": "execute_result",
          "data": {
            "text/plain": [
              "['Xiaomi',\n",
              " 'samsung',\n",
              " 'Huawei',\n",
              " 'OPPO',\n",
              " 'vivo',\n",
              " 'Meizu',\n",
              " 'Coolpad',\n",
              " 'lenovo',\n",
              " 'Gionee',\n",
              " 'HTC']"
            ]
          },
          "metadata": {},
          "execution_count": 52
        }
      ]
    },
    {
      "cell_type": "code",
      "metadata": {
        "id": "WQNbiN2aaJbN"
      },
      "source": [
        "phone_brands=non_event_data[non_event_data[\"phone_brand\"].isin(top_10_brands)]"
      ],
      "execution_count": 53,
      "outputs": []
    },
    {
      "cell_type": "code",
      "metadata": {
        "id": "-TdCHLtbfhj7"
      },
      "source": [
        "phone_brands[\"bin_age\"]=phone_brands[\"age\"].apply(age_binning)"
      ],
      "execution_count": 54,
      "outputs": []
    },
    {
      "cell_type": "code",
      "metadata": {
        "colab": {
          "base_uri": "https://localhost:8080/",
          "height": 203
        },
        "id": "pwCNfTDdgDhH",
        "outputId": "b9f7382a-df7f-4c77-e1cd-ebc303ff7f2f"
      },
      "source": [
        "phone_brands.head()"
      ],
      "execution_count": 55,
      "outputs": [
        {
          "output_type": "execute_result",
          "data": {
            "text/html": [
              "<div>\n",
              "<style scoped>\n",
              "    .dataframe tbody tr th:only-of-type {\n",
              "        vertical-align: middle;\n",
              "    }\n",
              "\n",
              "    .dataframe tbody tr th {\n",
              "        vertical-align: top;\n",
              "    }\n",
              "\n",
              "    .dataframe thead th {\n",
              "        text-align: right;\n",
              "    }\n",
              "</style>\n",
              "<table border=\"1\" class=\"dataframe\">\n",
              "  <thead>\n",
              "    <tr style=\"text-align: right;\">\n",
              "      <th></th>\n",
              "      <th>device_id</th>\n",
              "      <th>gender</th>\n",
              "      <th>age</th>\n",
              "      <th>group_train</th>\n",
              "      <th>phone_brand</th>\n",
              "      <th>device_model</th>\n",
              "      <th>bin_age</th>\n",
              "    </tr>\n",
              "  </thead>\n",
              "  <tbody>\n",
              "    <tr>\n",
              "      <th>0</th>\n",
              "      <td>-7548291590301750000</td>\n",
              "      <td>M</td>\n",
              "      <td>33</td>\n",
              "      <td>M32+</td>\n",
              "      <td>Huawei</td>\n",
              "      <td>è£è€€3C</td>\n",
              "      <td>32-45</td>\n",
              "    </tr>\n",
              "    <tr>\n",
              "      <th>1</th>\n",
              "      <td>6943568600617760000</td>\n",
              "      <td>M</td>\n",
              "      <td>37</td>\n",
              "      <td>M32+</td>\n",
              "      <td>Xiaomi</td>\n",
              "      <td>xnote</td>\n",
              "      <td>32-45</td>\n",
              "    </tr>\n",
              "    <tr>\n",
              "      <th>2</th>\n",
              "      <td>5441349705980020000</td>\n",
              "      <td>M</td>\n",
              "      <td>40</td>\n",
              "      <td>M32+</td>\n",
              "      <td>OPPO</td>\n",
              "      <td>R7s</td>\n",
              "      <td>32-45</td>\n",
              "    </tr>\n",
              "    <tr>\n",
              "      <th>3</th>\n",
              "      <td>-5393876656119450000</td>\n",
              "      <td>M</td>\n",
              "      <td>33</td>\n",
              "      <td>M32+</td>\n",
              "      <td>Xiaomi</td>\n",
              "      <td>MI 4</td>\n",
              "      <td>32-45</td>\n",
              "    </tr>\n",
              "    <tr>\n",
              "      <th>4</th>\n",
              "      <td>4543988487649880000</td>\n",
              "      <td>M</td>\n",
              "      <td>53</td>\n",
              "      <td>M32+</td>\n",
              "      <td>samsung</td>\n",
              "      <td>Galaxy S4</td>\n",
              "      <td>46+</td>\n",
              "    </tr>\n",
              "  </tbody>\n",
              "</table>\n",
              "</div>"
            ],
            "text/plain": [
              "             device_id gender  age group_train phone_brand device_model bin_age\n",
              "0 -7548291590301750000      M   33        M32+      Huawei     è£è€€3C   32-45\n",
              "1  6943568600617760000      M   37        M32+      Xiaomi        xnote   32-45\n",
              "2  5441349705980020000      M   40        M32+        OPPO          R7s   32-45\n",
              "3 -5393876656119450000      M   33        M32+      Xiaomi         MI 4   32-45\n",
              "4  4543988487649880000      M   53        M32+     samsung    Galaxy S4     46+"
            ]
          },
          "metadata": {},
          "execution_count": 55
        }
      ]
    },
    {
      "cell_type": "code",
      "metadata": {
        "id": "OohXqEAPgklw"
      },
      "source": [
        "df=pd.pivot_table(data=phone_brands,index=\"phone_brand\",columns=\"bin_age\",values=\"device_id\",aggfunc=\"count\")"
      ],
      "execution_count": 56,
      "outputs": []
    },
    {
      "cell_type": "code",
      "metadata": {
        "colab": {
          "base_uri": "https://localhost:8080/",
          "height": 332
        },
        "id": "8jV9QypBgw5P",
        "outputId": "733588b9-9709-4d4a-abaf-051b3b2b04e0"
      },
      "source": [
        "df.plot(kind=\"bar\",stacked=True)\n",
        "plt.title(\"top mobile brands purchased based on age\")\n",
        "plt.show()"
      ],
      "execution_count": 57,
      "outputs": [
        {
          "output_type": "display_data",
          "data": {
            "image/png": "[encoded data removed]",
            "text/plain": [
              "<Figure size 432x288 with 1 Axes>"
            ]
          },
          "metadata": {
            "needs_background": "light"
          }
        }
      ]
    },
    {
      "cell_type": "markdown",
      "metadata": {
        "id": "A24bUFnO1sDA"
      },
      "source": [
        "#Data Preparation"
      ]
    },
    {
      "cell_type": "markdown",
      "metadata": {
        "id": "akgfC3q7ZtZR"
      },
      "source": [
        "###Scenario 1(All data available) and Scenario 2(Only phone data available)"
      ]
    },
    {
      "cell_type": "code",
      "metadata": {
        "id": "LLSk1frralEZ"
      },
      "source": [
        "df=pd.merge(event_data,non_event_data,on=\"device_id\",how=\"left\")"
      ],
      "execution_count": 58,
      "outputs": []
    },
    {
      "cell_type": "code",
      "metadata": {
        "id": "7H_qdsWK-fpe"
      },
      "source": [
        "train_test_csv=pd.read_csv(\"s3://telecomcapstoneprojectonkar/train_test_split.csv\",header=0)"
      ],
      "execution_count": 60,
      "outputs": []
    },
    {
      "cell_type": "code",
      "metadata": {
        "colab": {
          "base_uri": "https://localhost:8080/",
          "height": 203
        },
        "id": "kgu2ZMdK_hlW",
        "outputId": "3ba134b0-fd40-42ac-ae5b-87db9ecefe0d"
      },
      "source": [
        "train_test_csv.head()"
      ],
      "execution_count": 61,
      "outputs": [
        {
          "output_type": "execute_result",
          "data": {
            "text/html": [
              "<div>\n",
              "<style scoped>\n",
              "    .dataframe tbody tr th:only-of-type {\n",
              "        vertical-align: middle;\n",
              "    }\n",
              "\n",
              "    .dataframe tbody tr th {\n",
              "        vertical-align: top;\n",
              "    }\n",
              "\n",
              "    .dataframe thead th {\n",
              "        text-align: right;\n",
              "    }\n",
              "</style>\n",
              "<table border=\"1\" class=\"dataframe\">\n",
              "  <thead>\n",
              "    <tr style=\"text-align: right;\">\n",
              "      <th></th>\n",
              "      <th>device_id</th>\n",
              "      <th>gender</th>\n",
              "      <th>age</th>\n",
              "      <th>group</th>\n",
              "      <th>train_test_flag</th>\n",
              "    </tr>\n",
              "  </thead>\n",
              "  <tbody>\n",
              "    <tr>\n",
              "      <th>0</th>\n",
              "      <td>-7548291590301750000</td>\n",
              "      <td>M</td>\n",
              "      <td>33</td>\n",
              "      <td>M32+</td>\n",
              "      <td>train</td>\n",
              "    </tr>\n",
              "    <tr>\n",
              "      <th>1</th>\n",
              "      <td>6943568600617760000</td>\n",
              "      <td>M</td>\n",
              "      <td>37</td>\n",
              "      <td>M32+</td>\n",
              "      <td>train</td>\n",
              "    </tr>\n",
              "    <tr>\n",
              "      <th>2</th>\n",
              "      <td>5441349705980020000</td>\n",
              "      <td>M</td>\n",
              "      <td>40</td>\n",
              "      <td>M32+</td>\n",
              "      <td>train</td>\n",
              "    </tr>\n",
              "    <tr>\n",
              "      <th>3</th>\n",
              "      <td>-5393876656119450000</td>\n",
              "      <td>M</td>\n",
              "      <td>33</td>\n",
              "      <td>M32+</td>\n",
              "      <td>train</td>\n",
              "    </tr>\n",
              "    <tr>\n",
              "      <th>4</th>\n",
              "      <td>4543988487649880000</td>\n",
              "      <td>M</td>\n",
              "      <td>53</td>\n",
              "      <td>M32+</td>\n",
              "      <td>train</td>\n",
              "    </tr>\n",
              "  </tbody>\n",
              "</table>\n",
              "</div>"
            ],
            "text/plain": [
              "             device_id gender  age group train_test_flag\n",
              "0 -7548291590301750000      M   33  M32+           train\n",
              "1  6943568600617760000      M   37  M32+           train\n",
              "2  5441349705980020000      M   40  M32+           train\n",
              "3 -5393876656119450000      M   33  M32+           train\n",
              "4  4543988487649880000      M   53  M32+           train"
            ]
          },
          "metadata": {},
          "execution_count": 61
        }
      ]
    },
    {
      "cell_type": "code",
      "metadata": {
        "colab": {
          "base_uri": "https://localhost:8080/"
        },
        "id": "e6ds84VgVJwh",
        "outputId": "b66faa01-dc5b-4744-b9d4-6c4a211d26de"
      },
      "source": [
        "train_test_csv[\"train_test_flag\"].value_counts()"
      ],
      "execution_count": 62,
      "outputs": [
        {
          "output_type": "execute_result",
          "data": {
            "text/plain": [
              "train    58549\n",
              "test     16096\n",
              "Name: train_test_flag, dtype: int64"
            ]
          },
          "metadata": {},
          "execution_count": 62
        }
      ]
    },
    {
      "cell_type": "code",
      "metadata": {
        "id": "ZiBD7Oho_huB"
      },
      "source": [
        "df=pd.merge(df,train_test_csv,on=\"device_id\",how=\"left\")"
      ],
      "execution_count": 63,
      "outputs": []
    },
    {
      "cell_type": "code",
      "metadata": {
        "colab": {
          "base_uri": "https://localhost:8080/"
        },
        "id": "bzM3dLGCU78J",
        "outputId": "feff87e1-d92c-486d-be81-777a215c953c"
      },
      "source": [
        "df.columns"
      ],
      "execution_count": 64,
      "outputs": [
        {
          "output_type": "execute_result",
          "data": {
            "text/plain": [
              "Index(['device_id', 'gender_x', 'age_x', 'group_train_x', 'event_id',\n",
              "       'timestamp', 'longitude', 'latitude', 'flag', 'day_of_week', 'hour',\n",
              "       'gender_y', 'age_y', 'group_train_y', 'phone_brand', 'device_model',\n",
              "       'gender', 'age', 'group', 'train_test_flag'],\n",
              "      dtype='object')"
            ]
          },
          "metadata": {},
          "execution_count": 64
        }
      ]
    },
    {
      "cell_type": "code",
      "metadata": {
        "colab": {
          "base_uri": "https://localhost:8080/",
          "height": 391
        },
        "id": "n1CA6g0zA2_5",
        "outputId": "e2885622-55da-42e9-ccf3-b5e1e32b0347"
      },
      "source": [
        "df.head()"
      ],
      "execution_count": 65,
      "outputs": [
        {
          "output_type": "execute_result",
          "data": {
            "text/html": [
              "<div>\n",
              "<style scoped>\n",
              "    .dataframe tbody tr th:only-of-type {\n",
              "        vertical-align: middle;\n",
              "    }\n",
              "\n",
              "    .dataframe tbody tr th {\n",
              "        vertical-align: top;\n",
              "    }\n",
              "\n",
              "    .dataframe thead th {\n",
              "        text-align: right;\n",
              "    }\n",
              "</style>\n",
              "<table border=\"1\" class=\"dataframe\">\n",
              "  <thead>\n",
              "    <tr style=\"text-align: right;\">\n",
              "      <th></th>\n",
              "      <th>device_id</th>\n",
              "      <th>gender_x</th>\n",
              "      <th>age_x</th>\n",
              "      <th>group_train_x</th>\n",
              "      <th>event_id</th>\n",
              "      <th>timestamp</th>\n",
              "      <th>longitude</th>\n",
              "      <th>latitude</th>\n",
              "      <th>flag</th>\n",
              "      <th>day_of_week</th>\n",
              "      <th>hour</th>\n",
              "      <th>gender_y</th>\n",
              "      <th>age_y</th>\n",
              "      <th>group_train_y</th>\n",
              "      <th>phone_brand</th>\n",
              "      <th>device_model</th>\n",
              "      <th>gender</th>\n",
              "      <th>age</th>\n",
              "      <th>group</th>\n",
              "      <th>train_test_flag</th>\n",
              "    </tr>\n",
              "  </thead>\n",
              "  <tbody>\n",
              "    <tr>\n",
              "      <th>0</th>\n",
              "      <td>-7548291590301750000</td>\n",
              "      <td>M</td>\n",
              "      <td>33</td>\n",
              "      <td>M32+</td>\n",
              "      <td>914064.0</td>\n",
              "      <td>2016-05-02 00:27:06</td>\n",
              "      <td>116.79</td>\n",
              "      <td>33.98</td>\n",
              "      <td>NotNull</td>\n",
              "      <td>0.0</td>\n",
              "      <td>0.0</td>\n",
              "      <td>M</td>\n",
              "      <td>33</td>\n",
              "      <td>M32+</td>\n",
              "      <td>Huawei</td>\n",
              "      <td>è£è€€3C</td>\n",
              "      <td>M</td>\n",
              "      <td>33</td>\n",
              "      <td>M32+</td>\n",
              "      <td>train</td>\n",
              "    </tr>\n",
              "    <tr>\n",
              "      <th>1</th>\n",
              "      <td>-7548291590301750000</td>\n",
              "      <td>M</td>\n",
              "      <td>33</td>\n",
              "      <td>M32+</td>\n",
              "      <td>2648633.0</td>\n",
              "      <td>2016-05-05 10:06:12</td>\n",
              "      <td>116.79</td>\n",
              "      <td>33.98</td>\n",
              "      <td>NotNull</td>\n",
              "      <td>3.0</td>\n",
              "      <td>10.0</td>\n",
              "      <td>M</td>\n",
              "      <td>33</td>\n",
              "      <td>M32+</td>\n",
              "      <td>Huawei</td>\n",
              "      <td>è£è€€3C</td>\n",
              "      <td>M</td>\n",
              "      <td>33</td>\n",
              "      <td>M32+</td>\n",
              "      <td>train</td>\n",
              "    </tr>\n",
              "    <tr>\n",
              "      <th>2</th>\n",
              "      <td>-7548291590301750000</td>\n",
              "      <td>M</td>\n",
              "      <td>33</td>\n",
              "      <td>M32+</td>\n",
              "      <td>2647728.0</td>\n",
              "      <td>2016-05-01 10:48:34</td>\n",
              "      <td>116.79</td>\n",
              "      <td>33.98</td>\n",
              "      <td>NotNull</td>\n",
              "      <td>6.0</td>\n",
              "      <td>10.0</td>\n",
              "      <td>M</td>\n",
              "      <td>33</td>\n",
              "      <td>M32+</td>\n",
              "      <td>Huawei</td>\n",
              "      <td>è£è€€3C</td>\n",
              "      <td>M</td>\n",
              "      <td>33</td>\n",
              "      <td>M32+</td>\n",
              "      <td>train</td>\n",
              "    </tr>\n",
              "    <tr>\n",
              "      <th>3</th>\n",
              "      <td>-7548291590301750000</td>\n",
              "      <td>M</td>\n",
              "      <td>33</td>\n",
              "      <td>M32+</td>\n",
              "      <td>2640893.0</td>\n",
              "      <td>2016-05-04 08:27:36</td>\n",
              "      <td>116.79</td>\n",
              "      <td>33.98</td>\n",
              "      <td>NotNull</td>\n",
              "      <td>2.0</td>\n",
              "      <td>8.0</td>\n",
              "      <td>M</td>\n",
              "      <td>33</td>\n",
              "      <td>M32+</td>\n",
              "      <td>Huawei</td>\n",
              "      <td>è£è€€3C</td>\n",
              "      <td>M</td>\n",
              "      <td>33</td>\n",
              "      <td>M32+</td>\n",
              "      <td>train</td>\n",
              "    </tr>\n",
              "    <tr>\n",
              "      <th>4</th>\n",
              "      <td>-7548291590301750000</td>\n",
              "      <td>M</td>\n",
              "      <td>33</td>\n",
              "      <td>M32+</td>\n",
              "      <td>2635715.0</td>\n",
              "      <td>2016-05-03 04:53:10</td>\n",
              "      <td>116.79</td>\n",
              "      <td>33.98</td>\n",
              "      <td>NotNull</td>\n",
              "      <td>1.0</td>\n",
              "      <td>4.0</td>\n",
              "      <td>M</td>\n",
              "      <td>33</td>\n",
              "      <td>M32+</td>\n",
              "      <td>Huawei</td>\n",
              "      <td>è£è€€3C</td>\n",
              "      <td>M</td>\n",
              "      <td>33</td>\n",
              "      <td>M32+</td>\n",
              "      <td>train</td>\n",
              "    </tr>\n",
              "  </tbody>\n",
              "</table>\n",
              "</div>"
            ],
            "text/plain": [
              "             device_id gender_x  age_x  ... age  group train_test_flag\n",
              "0 -7548291590301750000        M     33  ...  33   M32+           train\n",
              "1 -7548291590301750000        M     33  ...  33   M32+           train\n",
              "2 -7548291590301750000        M     33  ...  33   M32+           train\n",
              "3 -7548291590301750000        M     33  ...  33   M32+           train\n",
              "4 -7548291590301750000        M     33  ...  33   M32+           train\n",
              "\n",
              "[5 rows x 20 columns]"
            ]
          },
          "metadata": {},
          "execution_count": 65
        }
      ]
    },
    {
      "cell_type": "code",
      "metadata": {
        "id": "lNkuJbw9ZrcU"
      },
      "source": [
        "df=df.drop(columns=[\"gender_y\",\"age_y\",\"group_train_y\",\"gender\",\"age\",\"group\"],axis=1)"
      ],
      "execution_count": 66,
      "outputs": []
    },
    {
      "cell_type": "code",
      "metadata": {
        "id": "rE35PxIOZrfv"
      },
      "source": [
        "df.rename(columns={\"gender_x\":\"gender\",\"age_x\":\"age\",\"group_train_x\":\"group_train\"},inplace=True)"
      ],
      "execution_count": 67,
      "outputs": []
    },
    {
      "cell_type": "code",
      "metadata": {
        "colab": {
          "base_uri": "https://localhost:8080/"
        },
        "id": "96XnpD9PBhNZ",
        "outputId": "eb9f066a-8892-488c-d41f-99c2126c6cc5"
      },
      "source": [
        "df.count()"
      ],
      "execution_count": 68,
      "outputs": [
        {
          "output_type": "execute_result",
          "data": {
            "text/plain": [
              "device_id          1266954\n",
              "gender             1266954\n",
              "age                1266954\n",
              "group_train        1266954\n",
              "event_id           1215619\n",
              "timestamp          1215619\n",
              "longitude          1215619\n",
              "latitude           1215619\n",
              "flag               1266954\n",
              "day_of_week        1215619\n",
              "hour               1215619\n",
              "phone_brand        1266954\n",
              "device_model       1266954\n",
              "train_test_flag    1266954\n",
              "dtype: int64"
            ]
          },
          "metadata": {},
          "execution_count": 68
        }
      ]
    },
    {
      "cell_type": "code",
      "metadata": {
        "id": "ag7WXhWuZrk-"
      },
      "source": [
        "df_all_data=df[~df.event_id.isnull()]"
      ],
      "execution_count": 69,
      "outputs": []
    },
    {
      "cell_type": "code",
      "metadata": {
        "id": "O9h5p4e5Zros"
      },
      "source": [
        "df_only_phone_data=df[df.event_id.isnull()]"
      ],
      "execution_count": 70,
      "outputs": []
    },
    {
      "cell_type": "markdown",
      "metadata": {
        "id": "5WHDZKcAbow3"
      },
      "source": [
        "###Analysing Category column"
      ]
    },
    {
      "cell_type": "code",
      "metadata": {
        "id": "yV2Fr0V3lmJ-"
      },
      "source": [
        "label_data=label_data.drop_duplicates()"
      ],
      "execution_count": 71,
      "outputs": []
    },
    {
      "cell_type": "code",
      "metadata": {
        "colab": {
          "base_uri": "https://localhost:8080/",
          "height": 49
        },
        "id": "Ko5xSUsRNPPY",
        "outputId": "111c2bf4-fa1c-4d04-dc8d-31d332ce0771"
      },
      "source": [
        "app_events[app_events.duplicated([\"event_id\",\"app_id\",\"is_installed\",\"is_active\"])]"
      ],
      "execution_count": 72,
      "outputs": [
        {
          "output_type": "execute_result",
          "data": {
            "text/html": [
              "<div>\n",
              "<style scoped>\n",
              "    .dataframe tbody tr th:only-of-type {\n",
              "        vertical-align: middle;\n",
              "    }\n",
              "\n",
              "    .dataframe tbody tr th {\n",
              "        vertical-align: top;\n",
              "    }\n",
              "\n",
              "    .dataframe thead th {\n",
              "        text-align: right;\n",
              "    }\n",
              "</style>\n",
              "<table border=\"1\" class=\"dataframe\">\n",
              "  <thead>\n",
              "    <tr style=\"text-align: right;\">\n",
              "      <th></th>\n",
              "      <th>event_id</th>\n",
              "      <th>app_id</th>\n",
              "      <th>is_installed</th>\n",
              "      <th>is_active</th>\n",
              "    </tr>\n",
              "  </thead>\n",
              "  <tbody>\n",
              "  </tbody>\n",
              "</table>\n",
              "</div>"
            ],
            "text/plain": [
              "Empty DataFrame\n",
              "Columns: [event_id, app_id, is_installed, is_active]\n",
              "Index: []"
            ]
          },
          "metadata": {},
          "execution_count": 72
        }
      ]
    },
    {
      "cell_type": "code",
      "metadata": {
        "colab": {
          "base_uri": "https://localhost:8080/",
          "height": 480
        },
        "id": "7CpWy7b5NPPY",
        "outputId": "53edd5fc-7c84-4393-bca0-6fe899700389"
      },
      "source": [
        "label_data[label_data[\"app_id\"]==2441810024319437760]"
      ],
      "execution_count": 73,
      "outputs": [
        {
          "output_type": "execute_result",
          "data": {
            "text/html": [
              "<div>\n",
              "<style scoped>\n",
              "    .dataframe tbody tr th:only-of-type {\n",
              "        vertical-align: middle;\n",
              "    }\n",
              "\n",
              "    .dataframe tbody tr th {\n",
              "        vertical-align: top;\n",
              "    }\n",
              "\n",
              "    .dataframe thead th {\n",
              "        text-align: right;\n",
              "    }\n",
              "</style>\n",
              "<table border=\"1\" class=\"dataframe\">\n",
              "  <thead>\n",
              "    <tr style=\"text-align: right;\">\n",
              "      <th></th>\n",
              "      <th>app_id</th>\n",
              "      <th>label_id</th>\n",
              "      <th>category</th>\n",
              "    </tr>\n",
              "  </thead>\n",
              "  <tbody>\n",
              "    <tr>\n",
              "      <th>2246</th>\n",
              "      <td>2441810024319437760</td>\n",
              "      <td>256</td>\n",
              "      <td>Securities</td>\n",
              "    </tr>\n",
              "    <tr>\n",
              "      <th>2421</th>\n",
              "      <td>2441810024319437760</td>\n",
              "      <td>564</td>\n",
              "      <td>pursue</td>\n",
              "    </tr>\n",
              "    <tr>\n",
              "      <th>6818</th>\n",
              "      <td>2441810024319437760</td>\n",
              "      <td>405</td>\n",
              "      <td>Custom label</td>\n",
              "    </tr>\n",
              "    <tr>\n",
              "      <th>56812</th>\n",
              "      <td>2441810024319437760</td>\n",
              "      <td>549</td>\n",
              "      <td>Property Industry 1.0</td>\n",
              "    </tr>\n",
              "    <tr>\n",
              "      <th>100224</th>\n",
              "      <td>2441810024319437760</td>\n",
              "      <td>548</td>\n",
              "      <td>Industry tag</td>\n",
              "    </tr>\n",
              "    <tr>\n",
              "      <th>139731</th>\n",
              "      <td>2441810024319437760</td>\n",
              "      <td>713</td>\n",
              "      <td>Services 1</td>\n",
              "    </tr>\n",
              "    <tr>\n",
              "      <th>181276</th>\n",
              "      <td>2441810024319437760</td>\n",
              "      <td>704</td>\n",
              "      <td>Property Industry 2.0</td>\n",
              "    </tr>\n",
              "    <tr>\n",
              "      <th>230991</th>\n",
              "      <td>2441810024319437760</td>\n",
              "      <td>731</td>\n",
              "      <td>stock</td>\n",
              "    </tr>\n",
              "    <tr>\n",
              "      <th>235244</th>\n",
              "      <td>2441810024319437760</td>\n",
              "      <td>732</td>\n",
              "      <td>A shares</td>\n",
              "    </tr>\n",
              "    <tr>\n",
              "      <th>241641</th>\n",
              "      <td>2441810024319437760</td>\n",
              "      <td>783</td>\n",
              "      <td>High risk</td>\n",
              "    </tr>\n",
              "    <tr>\n",
              "      <th>245736</th>\n",
              "      <td>2441810024319437760</td>\n",
              "      <td>774</td>\n",
              "      <td>High mobility</td>\n",
              "    </tr>\n",
              "    <tr>\n",
              "      <th>250971</th>\n",
              "      <td>2441810024319437760</td>\n",
              "      <td>778</td>\n",
              "      <td>High profitability</td>\n",
              "    </tr>\n",
              "    <tr>\n",
              "      <th>255250</th>\n",
              "      <td>2441810024319437760</td>\n",
              "      <td>730</td>\n",
              "      <td>And the Church</td>\n",
              "    </tr>\n",
              "    <tr>\n",
              "      <th>454911</th>\n",
              "      <td>2441810024319437760</td>\n",
              "      <td>1005</td>\n",
              "      <td>Traditional securities brokerage</td>\n",
              "    </tr>\n",
              "  </tbody>\n",
              "</table>\n",
              "</div>"
            ],
            "text/plain": [
              "                     app_id  label_id                          category\n",
              "2246    2441810024319437760       256                        Securities\n",
              "2421    2441810024319437760       564                            pursue\n",
              "6818    2441810024319437760       405                      Custom label\n",
              "56812   2441810024319437760       549             Property Industry 1.0\n",
              "100224  2441810024319437760       548                      Industry tag\n",
              "139731  2441810024319437760       713                        Services 1\n",
              "181276  2441810024319437760       704             Property Industry 2.0\n",
              "230991  2441810024319437760       731                             stock\n",
              "235244  2441810024319437760       732                          A shares\n",
              "241641  2441810024319437760       783                         High risk\n",
              "245736  2441810024319437760       774                     High mobility\n",
              "250971  2441810024319437760       778                High profitability\n",
              "255250  2441810024319437760       730                    And the Church\n",
              "454911  2441810024319437760      1005  Traditional securities brokerage"
            ]
          },
          "metadata": {},
          "execution_count": 73
        }
      ]
    },
    {
      "cell_type": "code",
      "metadata": {
        "colab": {
          "base_uri": "https://localhost:8080/",
          "height": 417
        },
        "id": "kcRCi_X9NPPa",
        "outputId": "ce31e490-6747-4b42-9ce5-afd544ae82c4"
      },
      "source": [
        "label_data[label_data.duplicated([\"app_id\"])]"
      ],
      "execution_count": 74,
      "outputs": [
        {
          "output_type": "execute_result",
          "data": {
            "text/html": [
              "<div>\n",
              "<style scoped>\n",
              "    .dataframe tbody tr th:only-of-type {\n",
              "        vertical-align: middle;\n",
              "    }\n",
              "\n",
              "    .dataframe tbody tr th {\n",
              "        vertical-align: top;\n",
              "    }\n",
              "\n",
              "    .dataframe thead th {\n",
              "        text-align: right;\n",
              "    }\n",
              "</style>\n",
              "<table border=\"1\" class=\"dataframe\">\n",
              "  <thead>\n",
              "    <tr style=\"text-align: right;\">\n",
              "      <th></th>\n",
              "      <th>app_id</th>\n",
              "      <th>label_id</th>\n",
              "      <th>category</th>\n",
              "    </tr>\n",
              "  </thead>\n",
              "  <tbody>\n",
              "    <tr>\n",
              "      <th>2208</th>\n",
              "      <td>6058196446775239644</td>\n",
              "      <td>406</td>\n",
              "      <td>unknown</td>\n",
              "    </tr>\n",
              "    <tr>\n",
              "      <th>2210</th>\n",
              "      <td>1977658975649789753</td>\n",
              "      <td>406</td>\n",
              "      <td>unknown</td>\n",
              "    </tr>\n",
              "    <tr>\n",
              "      <th>2211</th>\n",
              "      <td>8024047519993119192</td>\n",
              "      <td>406</td>\n",
              "      <td>unknown</td>\n",
              "    </tr>\n",
              "    <tr>\n",
              "      <th>2212</th>\n",
              "      <td>7098329372864993043</td>\n",
              "      <td>406</td>\n",
              "      <td>unknown</td>\n",
              "    </tr>\n",
              "    <tr>\n",
              "      <th>2213</th>\n",
              "      <td>-5309037015500363305</td>\n",
              "      <td>406</td>\n",
              "      <td>unknown</td>\n",
              "    </tr>\n",
              "    <tr>\n",
              "      <th>...</th>\n",
              "      <td>...</td>\n",
              "      <td>...</td>\n",
              "      <td>...</td>\n",
              "    </tr>\n",
              "    <tr>\n",
              "      <th>459919</th>\n",
              "      <td>-8226070101802882315</td>\n",
              "      <td>973</td>\n",
              "      <td>Table Games</td>\n",
              "    </tr>\n",
              "    <tr>\n",
              "      <th>459920</th>\n",
              "      <td>7445307451474472117</td>\n",
              "      <td>973</td>\n",
              "      <td>Table Games</td>\n",
              "    </tr>\n",
              "    <tr>\n",
              "      <th>459921</th>\n",
              "      <td>8469490204899884160</td>\n",
              "      <td>981</td>\n",
              "      <td>Family Games</td>\n",
              "    </tr>\n",
              "    <tr>\n",
              "      <th>459923</th>\n",
              "      <td>9184022816963385838</td>\n",
              "      <td>981</td>\n",
              "      <td>Family Games</td>\n",
              "    </tr>\n",
              "    <tr>\n",
              "      <th>459935</th>\n",
              "      <td>3295651119655866750</td>\n",
              "      <td>979</td>\n",
              "      <td>Dice Game</td>\n",
              "    </tr>\n",
              "  </tbody>\n",
              "</table>\n",
              "<p>346241 rows × 3 columns</p>\n",
              "</div>"
            ],
            "text/plain": [
              "                     app_id  label_id      category\n",
              "2208    6058196446775239644       406       unknown\n",
              "2210    1977658975649789753       406       unknown\n",
              "2211    8024047519993119192       406       unknown\n",
              "2212    7098329372864993043       406       unknown\n",
              "2213   -5309037015500363305       406       unknown\n",
              "...                     ...       ...           ...\n",
              "459919 -8226070101802882315       973   Table Games\n",
              "459920  7445307451474472117       973   Table Games\n",
              "459921  8469490204899884160       981  Family Games\n",
              "459923  9184022816963385838       981  Family Games\n",
              "459935  3295651119655866750       979     Dice Game\n",
              "\n",
              "[346241 rows x 3 columns]"
            ]
          },
          "metadata": {},
          "execution_count": 74
        }
      ]
    },
    {
      "cell_type": "code",
      "metadata": {
        "id": "qcnl2_lXNPPa"
      },
      "source": [
        "df1=pd.DataFrame(label_data[\"category\"].value_counts())"
      ],
      "execution_count": 75,
      "outputs": []
    },
    {
      "cell_type": "code",
      "metadata": {
        "id": "4cEYHMIpNPPb"
      },
      "source": [
        "import re\n",
        "def remove_digits(string):\n",
        "    pattern = r'[0-9]'\n",
        "    new_string = re.sub(pattern, '', string)\n",
        "    pattern=r'[^\\x00-\\x7F]+'\n",
        "    new_string = re.sub(pattern, '', new_string)\n",
        "    pattern =\"\\.\"\n",
        "    new_string = re.sub(pattern, '', new_string)\n",
        "    return new_string"
      ],
      "execution_count": 76,
      "outputs": []
    },
    {
      "cell_type": "code",
      "metadata": {
        "id": "NOgIwSXIk5UT"
      },
      "source": [
        "label_data[\"category\"]=label_data[\"category\"].apply(remove_digits)"
      ],
      "execution_count": 77,
      "outputs": []
    },
    {
      "cell_type": "code",
      "metadata": {
        "colab": {
          "base_uri": "https://localhost:8080/"
        },
        "id": "Az-8cyRAmKfQ",
        "outputId": "ce348ecb-4500-47d7-9940-c3731f973045"
      },
      "source": [
        "label_data[\"category\"].value_counts()"
      ],
      "execution_count": 78,
      "outputs": [
        {
          "output_type": "execute_result",
          "data": {
            "text/plain": [
              "Industry tag            56902\n",
              "Custom label            53936\n",
              "Tencent                 49320\n",
              "game                    48707\n",
              "Property Industry       47940\n",
              "                        ...  \n",
              "Furniture                   1\n",
              "Browser                     1\n",
              "game-Gem Elimination        1\n",
              "psychology                  1\n",
              "Trust funds                 1\n",
              "Name: category, Length: 471, dtype: int64"
            ]
          },
          "metadata": {},
          "execution_count": 78
        }
      ]
    },
    {
      "cell_type": "code",
      "metadata": {
        "id": "H0HVN-aDgIQ2"
      },
      "source": [
        "import difflib\n",
        "from difflib import get_close_matches"
      ],
      "execution_count": 79,
      "outputs": []
    },
    {
      "cell_type": "code",
      "metadata": {
        "id": "VzLhcCTmdRpR"
      },
      "source": [
        "def super_category(word):\n",
        "  seq=[]\n",
        "  Categories_of_Apps=[\"Industry\",\"property\",\"finance\",\"games\",\"health\",\"church\",\"Entertainment\",\"Custom label\",\"tencent\",\"Buy\",\"Education\"]\n",
        "  for a in Categories_of_Apps:\n",
        "    temp = difflib.SequenceMatcher(None,a,word)\n",
        "    d = temp.ratio()*100\n",
        "    seq.append(d)\n",
        "  word1 = Categories_of_Apps[seq.index(max(seq))]\n",
        "  return word1"
      ],
      "execution_count": 80,
      "outputs": []
    },
    {
      "cell_type": "code",
      "metadata": {
        "id": "O4KfyHLWhWfY"
      },
      "source": [
        "label_data[\"super_category\"]=label_data[\"category\"].apply(super_category)"
      ],
      "execution_count": 81,
      "outputs": []
    },
    {
      "cell_type": "code",
      "metadata": {
        "id": "a8MAIe4_u3TA"
      },
      "source": [
        "df1=pd.DataFrame(label_data.groupby([\"app_id\"])[\"super_category\"].apply(pd.Series.mode)).reset_index()"
      ],
      "execution_count": 82,
      "outputs": []
    },
    {
      "cell_type": "code",
      "metadata": {
        "id": "iYkh1Aybvr6y"
      },
      "source": [
        "df1.drop_duplicates(subset=[\"app_id\"],keep=\"first\",inplace=True)"
      ],
      "execution_count": 83,
      "outputs": []
    },
    {
      "cell_type": "code",
      "metadata": {
        "id": "uWey0Toxhugc"
      },
      "source": [
        "df1.drop(columns=[\"level_1\"],inplace=True)"
      ],
      "execution_count": 84,
      "outputs": []
    },
    {
      "cell_type": "code",
      "metadata": {
        "id": "2tj-aZT3KE1g"
      },
      "source": [
        "app_label_data = pd.merge(app_events, df1 , on=(\"app_id\"),how=\"inner\")"
      ],
      "execution_count": 85,
      "outputs": []
    },
    {
      "cell_type": "code",
      "metadata": {
        "id": "lvMf8s923BuH"
      },
      "source": [
        "##is_installed == If the app is installed or not\n",
        "##is_active==if the app is active or not. Since we want the active apps we will eliminate the rows with is_active==0\n",
        "\n",
        "app_label_data=app_label_data[app_label_data[\"is_active\"]==1]"
      ],
      "execution_count": 86,
      "outputs": []
    },
    {
      "cell_type": "code",
      "metadata": {
        "colab": {
          "base_uri": "https://localhost:8080/",
          "height": 295
        },
        "id": "5wVLydph0PJo",
        "outputId": "7179ce58-c9b8-4044-91b4-5ee722f231e0"
      },
      "source": [
        "app_label_data.groupby(\"event_id\").count().describe()\n",
        "## below it shows that at an average there are 8 apps active for each event id. For out ease of caluculation we can take top 8 active categories for each event_ids."
      ],
      "execution_count": 87,
      "outputs": [
        {
          "output_type": "execute_result",
          "data": {
            "text/html": [
              "<div>\n",
              "<style scoped>\n",
              "    .dataframe tbody tr th:only-of-type {\n",
              "        vertical-align: middle;\n",
              "    }\n",
              "\n",
              "    .dataframe tbody tr th {\n",
              "        vertical-align: top;\n",
              "    }\n",
              "\n",
              "    .dataframe thead th {\n",
              "        text-align: right;\n",
              "    }\n",
              "</style>\n",
              "<table border=\"1\" class=\"dataframe\">\n",
              "  <thead>\n",
              "    <tr style=\"text-align: right;\">\n",
              "      <th></th>\n",
              "      <th>app_id</th>\n",
              "      <th>is_installed</th>\n",
              "      <th>is_active</th>\n",
              "      <th>super_category</th>\n",
              "    </tr>\n",
              "  </thead>\n",
              "  <tbody>\n",
              "    <tr>\n",
              "      <th>count</th>\n",
              "      <td>1.477059e+06</td>\n",
              "      <td>1.477059e+06</td>\n",
              "      <td>1.477059e+06</td>\n",
              "      <td>1.477059e+06</td>\n",
              "    </tr>\n",
              "    <tr>\n",
              "      <th>mean</th>\n",
              "      <td>8.620506e+00</td>\n",
              "      <td>8.620506e+00</td>\n",
              "      <td>8.620506e+00</td>\n",
              "      <td>8.620506e+00</td>\n",
              "    </tr>\n",
              "    <tr>\n",
              "      <th>std</th>\n",
              "      <td>6.405320e+00</td>\n",
              "      <td>6.405320e+00</td>\n",
              "      <td>6.405320e+00</td>\n",
              "      <td>6.405320e+00</td>\n",
              "    </tr>\n",
              "    <tr>\n",
              "      <th>min</th>\n",
              "      <td>1.000000e+00</td>\n",
              "      <td>1.000000e+00</td>\n",
              "      <td>1.000000e+00</td>\n",
              "      <td>1.000000e+00</td>\n",
              "    </tr>\n",
              "    <tr>\n",
              "      <th>25%</th>\n",
              "      <td>2.000000e+00</td>\n",
              "      <td>2.000000e+00</td>\n",
              "      <td>2.000000e+00</td>\n",
              "      <td>2.000000e+00</td>\n",
              "    </tr>\n",
              "    <tr>\n",
              "      <th>50%</th>\n",
              "      <td>8.000000e+00</td>\n",
              "      <td>8.000000e+00</td>\n",
              "      <td>8.000000e+00</td>\n",
              "      <td>8.000000e+00</td>\n",
              "    </tr>\n",
              "    <tr>\n",
              "      <th>75%</th>\n",
              "      <td>1.200000e+01</td>\n",
              "      <td>1.200000e+01</td>\n",
              "      <td>1.200000e+01</td>\n",
              "      <td>1.200000e+01</td>\n",
              "    </tr>\n",
              "    <tr>\n",
              "      <th>max</th>\n",
              "      <td>6.400000e+01</td>\n",
              "      <td>6.400000e+01</td>\n",
              "      <td>6.400000e+01</td>\n",
              "      <td>6.400000e+01</td>\n",
              "    </tr>\n",
              "  </tbody>\n",
              "</table>\n",
              "</div>"
            ],
            "text/plain": [
              "             app_id  is_installed     is_active  super_category\n",
              "count  1.477059e+06  1.477059e+06  1.477059e+06    1.477059e+06\n",
              "mean   8.620506e+00  8.620506e+00  8.620506e+00    8.620506e+00\n",
              "std    6.405320e+00  6.405320e+00  6.405320e+00    6.405320e+00\n",
              "min    1.000000e+00  1.000000e+00  1.000000e+00    1.000000e+00\n",
              "25%    2.000000e+00  2.000000e+00  2.000000e+00    2.000000e+00\n",
              "50%    8.000000e+00  8.000000e+00  8.000000e+00    8.000000e+00\n",
              "75%    1.200000e+01  1.200000e+01  1.200000e+01    1.200000e+01\n",
              "max    6.400000e+01  6.400000e+01  6.400000e+01    6.400000e+01"
            ]
          },
          "metadata": {},
          "execution_count": 87
        }
      ]
    },
    {
      "cell_type": "code",
      "metadata": {
        "id": "R6PFErdi4MX3"
      },
      "source": [
        "app_label_data=app_label_data.groupby(\"event_id\").head(1)"
      ],
      "execution_count": 88,
      "outputs": []
    },
    {
      "cell_type": "code",
      "metadata": {
        "id": "ST93DDSdwYfx"
      },
      "source": [
        "df1 = pd.merge(df_all_data,app_label_data,on=(\"event_id\"),how=\"inner\")"
      ],
      "execution_count": 89,
      "outputs": []
    },
    {
      "cell_type": "code",
      "metadata": {
        "colab": {
          "base_uri": "https://localhost:8080/"
        },
        "id": "dPReoXQ_w3qq",
        "outputId": "eb525caa-f7d0-4638-e76e-27b8e820929e"
      },
      "source": [
        "df1.isnull().sum()"
      ],
      "execution_count": 90,
      "outputs": [
        {
          "output_type": "execute_result",
          "data": {
            "text/plain": [
              "device_id          0\n",
              "gender             0\n",
              "age                0\n",
              "group_train        0\n",
              "event_id           0\n",
              "timestamp          0\n",
              "longitude          0\n",
              "latitude           0\n",
              "flag               0\n",
              "day_of_week        0\n",
              "hour               0\n",
              "phone_brand        0\n",
              "device_model       0\n",
              "train_test_flag    0\n",
              "app_id             0\n",
              "is_installed       0\n",
              "is_active          0\n",
              "super_category     0\n",
              "dtype: int64"
            ]
          },
          "metadata": {},
          "execution_count": 90
        }
      ]
    },
    {
      "cell_type": "code",
      "metadata": {
        "id": "m_ZNlRhxxNWI"
      },
      "source": [
        "df1.drop(columns=[\"flag\",\"app_id\",\"is_installed\",\"is_active\",\"device_model\"],inplace=True)"
      ],
      "execution_count": 91,
      "outputs": []
    },
    {
      "cell_type": "code",
      "metadata": {
        "colab": {
          "base_uri": "https://localhost:8080/"
        },
        "id": "FswU_lnbUu5x",
        "outputId": "6b6a100b-306d-419c-ffff-11b134d809b5"
      },
      "source": [
        "df1.train_test_flag.value_counts()"
      ],
      "execution_count": 92,
      "outputs": [
        {
          "output_type": "execute_result",
          "data": {
            "text/plain": [
              "train    416220\n",
              "test     139083\n",
              "Name: train_test_flag, dtype: int64"
            ]
          },
          "metadata": {},
          "execution_count": 92
        }
      ]
    },
    {
      "cell_type": "markdown",
      "metadata": {
        "id": "TbzKurpfe0me"
      },
      "source": [
        "#*Feature Engineering*"
      ]
    },
    {
      "cell_type": "markdown",
      "metadata": {
        "id": "mAST0Ip0e81m"
      },
      "source": [
        "###Considering the events data, you can create a feature called Average Events, which can give you an estimate of how long the users' mobile phones are active."
      ]
    },
    {
      "cell_type": "code",
      "metadata": {
        "colab": {
          "base_uri": "https://localhost:8080/",
          "height": 203
        },
        "id": "e-CmFf8mPKa9",
        "outputId": "2f615295-0b8b-455d-d60a-bb53f4ffb147"
      },
      "source": [
        "df1.head()"
      ],
      "execution_count": 93,
      "outputs": [
        {
          "output_type": "execute_result",
          "data": {
            "text/html": [
              "<div>\n",
              "<style scoped>\n",
              "    .dataframe tbody tr th:only-of-type {\n",
              "        vertical-align: middle;\n",
              "    }\n",
              "\n",
              "    .dataframe tbody tr th {\n",
              "        vertical-align: top;\n",
              "    }\n",
              "\n",
              "    .dataframe thead th {\n",
              "        text-align: right;\n",
              "    }\n",
              "</style>\n",
              "<table border=\"1\" class=\"dataframe\">\n",
              "  <thead>\n",
              "    <tr style=\"text-align: right;\">\n",
              "      <th></th>\n",
              "      <th>device_id</th>\n",
              "      <th>gender</th>\n",
              "      <th>age</th>\n",
              "      <th>group_train</th>\n",
              "      <th>event_id</th>\n",
              "      <th>timestamp</th>\n",
              "      <th>longitude</th>\n",
              "      <th>latitude</th>\n",
              "      <th>day_of_week</th>\n",
              "      <th>hour</th>\n",
              "      <th>phone_brand</th>\n",
              "      <th>train_test_flag</th>\n",
              "      <th>super_category</th>\n",
              "    </tr>\n",
              "  </thead>\n",
              "  <tbody>\n",
              "    <tr>\n",
              "      <th>0</th>\n",
              "      <td>-7548291590301750000</td>\n",
              "      <td>M</td>\n",
              "      <td>33</td>\n",
              "      <td>M32+</td>\n",
              "      <td>1.14187e+06</td>\n",
              "      <td>2016-05-01 10:08:16</td>\n",
              "      <td>116.79</td>\n",
              "      <td>33.98</td>\n",
              "      <td>6.0</td>\n",
              "      <td>10.0</td>\n",
              "      <td>Huawei</td>\n",
              "      <td>train</td>\n",
              "      <td>Industry</td>\n",
              "    </tr>\n",
              "    <tr>\n",
              "      <th>1</th>\n",
              "      <td>6943568600617760000</td>\n",
              "      <td>M</td>\n",
              "      <td>37</td>\n",
              "      <td>M32+</td>\n",
              "      <td>1.27982e+06</td>\n",
              "      <td>2016-05-01 11:59:32</td>\n",
              "      <td>0.00</td>\n",
              "      <td>0.00</td>\n",
              "      <td>6.0</td>\n",
              "      <td>11.0</td>\n",
              "      <td>Xiaomi</td>\n",
              "      <td>train</td>\n",
              "      <td>Industry</td>\n",
              "    </tr>\n",
              "    <tr>\n",
              "      <th>2</th>\n",
              "      <td>5441349705980020000</td>\n",
              "      <td>M</td>\n",
              "      <td>40</td>\n",
              "      <td>M32+</td>\n",
              "      <td>1.81458e+06</td>\n",
              "      <td>2016-05-02 23:55:47</td>\n",
              "      <td>0.00</td>\n",
              "      <td>0.00</td>\n",
              "      <td>0.0</td>\n",
              "      <td>23.0</td>\n",
              "      <td>OPPO</td>\n",
              "      <td>train</td>\n",
              "      <td>Industry</td>\n",
              "    </tr>\n",
              "    <tr>\n",
              "      <th>3</th>\n",
              "      <td>-5393876656119450000</td>\n",
              "      <td>M</td>\n",
              "      <td>33</td>\n",
              "      <td>M32+</td>\n",
              "      <td>650136</td>\n",
              "      <td>2016-05-06 23:01:47</td>\n",
              "      <td>0.00</td>\n",
              "      <td>0.00</td>\n",
              "      <td>4.0</td>\n",
              "      <td>23.0</td>\n",
              "      <td>Xiaomi</td>\n",
              "      <td>train</td>\n",
              "      <td>Education</td>\n",
              "    </tr>\n",
              "    <tr>\n",
              "      <th>4</th>\n",
              "      <td>-5393876656119450000</td>\n",
              "      <td>M</td>\n",
              "      <td>33</td>\n",
              "      <td>M32+</td>\n",
              "      <td>2.7913e+06</td>\n",
              "      <td>2016-05-06 22:55:28</td>\n",
              "      <td>0.00</td>\n",
              "      <td>0.00</td>\n",
              "      <td>4.0</td>\n",
              "      <td>22.0</td>\n",
              "      <td>Xiaomi</td>\n",
              "      <td>train</td>\n",
              "      <td>Education</td>\n",
              "    </tr>\n",
              "  </tbody>\n",
              "</table>\n",
              "</div>"
            ],
            "text/plain": [
              "             device_id gender  age  ... phone_brand train_test_flag super_category\n",
              "0 -7548291590301750000      M   33  ...      Huawei           train       Industry\n",
              "1  6943568600617760000      M   37  ...      Xiaomi           train       Industry\n",
              "2  5441349705980020000      M   40  ...        OPPO           train       Industry\n",
              "3 -5393876656119450000      M   33  ...      Xiaomi           train      Education\n",
              "4 -5393876656119450000      M   33  ...      Xiaomi           train      Education\n",
              "\n",
              "[5 rows x 13 columns]"
            ]
          },
          "metadata": {},
          "execution_count": 93
        }
      ]
    },
    {
      "cell_type": "code",
      "metadata": {
        "id": "QQKp0psoY7zH"
      },
      "source": [
        "df=pd.DataFrame(event_data.groupby([\"device_id\"])[\"event_id\"].count())\n",
        "df.rename(columns={\"event_id\":\"Total_No_events\"},inplace=True)\n",
        "df1=pd.merge(df1,df,on=(\"device_id\"),how=\"left\")"
      ],
      "execution_count": 94,
      "outputs": []
    },
    {
      "cell_type": "markdown",
      "metadata": {
        "id": "DylHeV1EhJ7a"
      },
      "source": [
        "###You can use the information related to the location of the users (latitude and longitude data) to create features representing changes in the latitude and longitude details at different times of the day."
      ]
    },
    {
      "cell_type": "code",
      "metadata": {
        "id": "UCChhqllQ1Wi"
      },
      "source": [
        "df1=df1[df1[\"longitude\"]>0]\n",
        "df1=df1[df1[\"latitude\"]>0]"
      ],
      "execution_count": 95,
      "outputs": []
    },
    {
      "cell_type": "code",
      "metadata": {
        "id": "whKnoZgKgp91"
      },
      "source": [
        "df=pd.DataFrame(df1.groupby([\"device_id\",\"longitude\",\"latitude\"]).size()).reset_index()\n",
        "new_df=pd.DataFrame(df.groupby(\"device_id\").size())\n",
        "new_df.rename(columns={0:\"Change_in_LatLong\"},inplace=True)\n",
        "df1=pd.merge(df1,new_df,on=(\"device_id\"),how=\"left\")"
      ],
      "execution_count": 96,
      "outputs": []
    },
    {
      "cell_type": "code",
      "metadata": {
        "colab": {
          "base_uri": "https://localhost:8080/",
          "height": 391
        },
        "id": "vn7R4VhzkJJ_",
        "outputId": "00553740-3d8c-40b7-ff41-8a02cb7faf29"
      },
      "source": [
        "df1.head()"
      ],
      "execution_count": 97,
      "outputs": [
        {
          "output_type": "execute_result",
          "data": {
            "text/html": [
              "<div>\n",
              "<style scoped>\n",
              "    .dataframe tbody tr th:only-of-type {\n",
              "        vertical-align: middle;\n",
              "    }\n",
              "\n",
              "    .dataframe tbody tr th {\n",
              "        vertical-align: top;\n",
              "    }\n",
              "\n",
              "    .dataframe thead th {\n",
              "        text-align: right;\n",
              "    }\n",
              "</style>\n",
              "<table border=\"1\" class=\"dataframe\">\n",
              "  <thead>\n",
              "    <tr style=\"text-align: right;\">\n",
              "      <th></th>\n",
              "      <th>device_id</th>\n",
              "      <th>gender</th>\n",
              "      <th>age</th>\n",
              "      <th>group_train</th>\n",
              "      <th>event_id</th>\n",
              "      <th>timestamp</th>\n",
              "      <th>longitude</th>\n",
              "      <th>latitude</th>\n",
              "      <th>day_of_week</th>\n",
              "      <th>hour</th>\n",
              "      <th>phone_brand</th>\n",
              "      <th>train_test_flag</th>\n",
              "      <th>super_category</th>\n",
              "      <th>Total_No_events</th>\n",
              "      <th>Change_in_LatLong</th>\n",
              "    </tr>\n",
              "  </thead>\n",
              "  <tbody>\n",
              "    <tr>\n",
              "      <th>0</th>\n",
              "      <td>-7548291590301750000</td>\n",
              "      <td>M</td>\n",
              "      <td>33</td>\n",
              "      <td>M32+</td>\n",
              "      <td>1.14187e+06</td>\n",
              "      <td>2016-05-01 10:08:16</td>\n",
              "      <td>116.79</td>\n",
              "      <td>33.98</td>\n",
              "      <td>6.0</td>\n",
              "      <td>10.0</td>\n",
              "      <td>Huawei</td>\n",
              "      <td>train</td>\n",
              "      <td>Industry</td>\n",
              "      <td>292</td>\n",
              "      <td>1</td>\n",
              "    </tr>\n",
              "    <tr>\n",
              "      <th>1</th>\n",
              "      <td>4543988487649880000</td>\n",
              "      <td>M</td>\n",
              "      <td>53</td>\n",
              "      <td>M32+</td>\n",
              "      <td>2.47459e+06</td>\n",
              "      <td>2016-05-06 09:30:23</td>\n",
              "      <td>104.25</td>\n",
              "      <td>30.89</td>\n",
              "      <td>4.0</td>\n",
              "      <td>9.0</td>\n",
              "      <td>samsung</td>\n",
              "      <td>train</td>\n",
              "      <td>Education</td>\n",
              "      <td>115</td>\n",
              "      <td>4</td>\n",
              "    </tr>\n",
              "    <tr>\n",
              "      <th>2</th>\n",
              "      <td>4543988487649880000</td>\n",
              "      <td>M</td>\n",
              "      <td>53</td>\n",
              "      <td>M32+</td>\n",
              "      <td>2.38575e+06</td>\n",
              "      <td>2016-05-05 04:39:46</td>\n",
              "      <td>104.26</td>\n",
              "      <td>30.88</td>\n",
              "      <td>3.0</td>\n",
              "      <td>4.0</td>\n",
              "      <td>samsung</td>\n",
              "      <td>train</td>\n",
              "      <td>Education</td>\n",
              "      <td>115</td>\n",
              "      <td>4</td>\n",
              "    </tr>\n",
              "    <tr>\n",
              "      <th>3</th>\n",
              "      <td>4543988487649880000</td>\n",
              "      <td>M</td>\n",
              "      <td>53</td>\n",
              "      <td>M32+</td>\n",
              "      <td>2.92534e+06</td>\n",
              "      <td>2016-05-04 22:06:33</td>\n",
              "      <td>104.26</td>\n",
              "      <td>30.88</td>\n",
              "      <td>2.0</td>\n",
              "      <td>22.0</td>\n",
              "      <td>samsung</td>\n",
              "      <td>train</td>\n",
              "      <td>Industry</td>\n",
              "      <td>115</td>\n",
              "      <td>4</td>\n",
              "    </tr>\n",
              "    <tr>\n",
              "      <th>4</th>\n",
              "      <td>4543988487649880000</td>\n",
              "      <td>M</td>\n",
              "      <td>53</td>\n",
              "      <td>M32+</td>\n",
              "      <td>2.20207e+06</td>\n",
              "      <td>2016-05-05 05:05:48</td>\n",
              "      <td>104.26</td>\n",
              "      <td>30.88</td>\n",
              "      <td>3.0</td>\n",
              "      <td>5.0</td>\n",
              "      <td>samsung</td>\n",
              "      <td>train</td>\n",
              "      <td>Industry</td>\n",
              "      <td>115</td>\n",
              "      <td>4</td>\n",
              "    </tr>\n",
              "  </tbody>\n",
              "</table>\n",
              "</div>"
            ],
            "text/plain": [
              "             device_id gender  ...  Total_No_events Change_in_LatLong\n",
              "0 -7548291590301750000      M  ...              292                 1\n",
              "1  4543988487649880000      M  ...              115                 4\n",
              "2  4543988487649880000      M  ...              115                 4\n",
              "3  4543988487649880000      M  ...              115                 4\n",
              "4  4543988487649880000      M  ...              115                 4\n",
              "\n",
              "[5 rows x 15 columns]"
            ]
          },
          "metadata": {},
          "execution_count": 97
        }
      ]
    },
    {
      "cell_type": "code",
      "metadata": {
        "colab": {
          "base_uri": "https://localhost:8080/"
        },
        "id": "ztfdlfMNMeK3",
        "outputId": "a1d478b6-194e-44d9-cc5f-30f2f7e23734"
      },
      "source": [
        "df1.count()"
      ],
      "execution_count": 98,
      "outputs": [
        {
          "output_type": "execute_result",
          "data": {
            "text/plain": [
              "device_id            199797\n",
              "gender               199797\n",
              "age                  199797\n",
              "group_train          199797\n",
              "event_id             199797\n",
              "timestamp            199797\n",
              "longitude            199797\n",
              "latitude             199797\n",
              "day_of_week          199797\n",
              "hour                 199797\n",
              "phone_brand          199797\n",
              "train_test_flag      199797\n",
              "super_category       199797\n",
              "Total_No_events      199797\n",
              "Change_in_LatLong    199797\n",
              "dtype: int64"
            ]
          },
          "metadata": {},
          "execution_count": 98
        }
      ]
    },
    {
      "cell_type": "code",
      "metadata": {
        "colab": {
          "base_uri": "https://localhost:8080/"
        },
        "id": "XPqNjGa3Ul3l",
        "outputId": "011f4272-0265-4feb-a254-d1f7146265c0"
      },
      "source": [
        "df1.train_test_flag.value_counts()"
      ],
      "execution_count": 99,
      "outputs": [
        {
          "output_type": "execute_result",
          "data": {
            "text/plain": [
              "train    150152\n",
              "test      49645\n",
              "Name: train_test_flag, dtype: int64"
            ]
          },
          "metadata": {},
          "execution_count": 99
        }
      ]
    },
    {
      "cell_type": "code",
      "metadata": {
        "id": "mWtAHm85OjuY"
      },
      "source": [
        "df = df1.groupby([\"device_id\"]).aggregate({\"longitude\":['median'],\"latitude\":['median']}).droplevel(1,axis=1).reset_index()"
      ],
      "execution_count": 100,
      "outputs": []
    },
    {
      "cell_type": "code",
      "metadata": {
        "id": "JSaBV9eGV-i1"
      },
      "source": [
        "df.rename(columns={\"longitude\":\"longitude_median\",\"latitude\":\"latitude_median\"},inplace=True)"
      ],
      "execution_count": 101,
      "outputs": []
    },
    {
      "cell_type": "code",
      "metadata": {
        "id": "2ECQSEebV_0Y"
      },
      "source": [
        "df.rename(columns={\"longitude\":\"longitude_median\",\"latitude\":\"latitude_median\"},inplace=True)\n",
        "df1=pd.merge(df1,df,on=(\"device_id\"),how=\"left\")"
      ],
      "execution_count": 102,
      "outputs": []
    },
    {
      "cell_type": "code",
      "metadata": {
        "colab": {
          "base_uri": "https://localhost:8080/",
          "height": 391
        },
        "id": "Lx7hQvUVWNSk",
        "outputId": "22312409-858c-492f-b62b-9849d193105b"
      },
      "source": [
        "df1.head()"
      ],
      "execution_count": 103,
      "outputs": [
        {
          "output_type": "execute_result",
          "data": {
            "text/html": [
              "<div>\n",
              "<style scoped>\n",
              "    .dataframe tbody tr th:only-of-type {\n",
              "        vertical-align: middle;\n",
              "    }\n",
              "\n",
              "    .dataframe tbody tr th {\n",
              "        vertical-align: top;\n",
              "    }\n",
              "\n",
              "    .dataframe thead th {\n",
              "        text-align: right;\n",
              "    }\n",
              "</style>\n",
              "<table border=\"1\" class=\"dataframe\">\n",
              "  <thead>\n",
              "    <tr style=\"text-align: right;\">\n",
              "      <th></th>\n",
              "      <th>device_id</th>\n",
              "      <th>gender</th>\n",
              "      <th>age</th>\n",
              "      <th>group_train</th>\n",
              "      <th>event_id</th>\n",
              "      <th>timestamp</th>\n",
              "      <th>longitude</th>\n",
              "      <th>latitude</th>\n",
              "      <th>day_of_week</th>\n",
              "      <th>hour</th>\n",
              "      <th>phone_brand</th>\n",
              "      <th>train_test_flag</th>\n",
              "      <th>super_category</th>\n",
              "      <th>Total_No_events</th>\n",
              "      <th>Change_in_LatLong</th>\n",
              "      <th>longitude_median</th>\n",
              "      <th>latitude_median</th>\n",
              "    </tr>\n",
              "  </thead>\n",
              "  <tbody>\n",
              "    <tr>\n",
              "      <th>0</th>\n",
              "      <td>-7548291590301750000</td>\n",
              "      <td>M</td>\n",
              "      <td>33</td>\n",
              "      <td>M32+</td>\n",
              "      <td>1.14187e+06</td>\n",
              "      <td>2016-05-01 10:08:16</td>\n",
              "      <td>116.79</td>\n",
              "      <td>33.98</td>\n",
              "      <td>6.0</td>\n",
              "      <td>10.0</td>\n",
              "      <td>Huawei</td>\n",
              "      <td>train</td>\n",
              "      <td>Industry</td>\n",
              "      <td>292</td>\n",
              "      <td>1</td>\n",
              "      <td>116.79</td>\n",
              "      <td>33.98</td>\n",
              "    </tr>\n",
              "    <tr>\n",
              "      <th>1</th>\n",
              "      <td>4543988487649880000</td>\n",
              "      <td>M</td>\n",
              "      <td>53</td>\n",
              "      <td>M32+</td>\n",
              "      <td>2.47459e+06</td>\n",
              "      <td>2016-05-06 09:30:23</td>\n",
              "      <td>104.25</td>\n",
              "      <td>30.89</td>\n",
              "      <td>4.0</td>\n",
              "      <td>9.0</td>\n",
              "      <td>samsung</td>\n",
              "      <td>train</td>\n",
              "      <td>Education</td>\n",
              "      <td>115</td>\n",
              "      <td>4</td>\n",
              "      <td>104.26</td>\n",
              "      <td>30.88</td>\n",
              "    </tr>\n",
              "    <tr>\n",
              "      <th>2</th>\n",
              "      <td>4543988487649880000</td>\n",
              "      <td>M</td>\n",
              "      <td>53</td>\n",
              "      <td>M32+</td>\n",
              "      <td>2.38575e+06</td>\n",
              "      <td>2016-05-05 04:39:46</td>\n",
              "      <td>104.26</td>\n",
              "      <td>30.88</td>\n",
              "      <td>3.0</td>\n",
              "      <td>4.0</td>\n",
              "      <td>samsung</td>\n",
              "      <td>train</td>\n",
              "      <td>Education</td>\n",
              "      <td>115</td>\n",
              "      <td>4</td>\n",
              "      <td>104.26</td>\n",
              "      <td>30.88</td>\n",
              "    </tr>\n",
              "    <tr>\n",
              "      <th>3</th>\n",
              "      <td>4543988487649880000</td>\n",
              "      <td>M</td>\n",
              "      <td>53</td>\n",
              "      <td>M32+</td>\n",
              "      <td>2.92534e+06</td>\n",
              "      <td>2016-05-04 22:06:33</td>\n",
              "      <td>104.26</td>\n",
              "      <td>30.88</td>\n",
              "      <td>2.0</td>\n",
              "      <td>22.0</td>\n",
              "      <td>samsung</td>\n",
              "      <td>train</td>\n",
              "      <td>Industry</td>\n",
              "      <td>115</td>\n",
              "      <td>4</td>\n",
              "      <td>104.26</td>\n",
              "      <td>30.88</td>\n",
              "    </tr>\n",
              "    <tr>\n",
              "      <th>4</th>\n",
              "      <td>4543988487649880000</td>\n",
              "      <td>M</td>\n",
              "      <td>53</td>\n",
              "      <td>M32+</td>\n",
              "      <td>2.20207e+06</td>\n",
              "      <td>2016-05-05 05:05:48</td>\n",
              "      <td>104.26</td>\n",
              "      <td>30.88</td>\n",
              "      <td>3.0</td>\n",
              "      <td>5.0</td>\n",
              "      <td>samsung</td>\n",
              "      <td>train</td>\n",
              "      <td>Industry</td>\n",
              "      <td>115</td>\n",
              "      <td>4</td>\n",
              "      <td>104.26</td>\n",
              "      <td>30.88</td>\n",
              "    </tr>\n",
              "  </tbody>\n",
              "</table>\n",
              "</div>"
            ],
            "text/plain": [
              "             device_id gender  ...  longitude_median latitude_median\n",
              "0 -7548291590301750000      M  ...            116.79           33.98\n",
              "1  4543988487649880000      M  ...            104.26           30.88\n",
              "2  4543988487649880000      M  ...            104.26           30.88\n",
              "3  4543988487649880000      M  ...            104.26           30.88\n",
              "4  4543988487649880000      M  ...            104.26           30.88\n",
              "\n",
              "[5 rows x 17 columns]"
            ]
          },
          "metadata": {},
          "execution_count": 103
        }
      ]
    },
    {
      "cell_type": "markdown",
      "metadata": {
        "id": "_u4LTDd2fXBx"
      },
      "source": [
        "###Visualising in Map\n",
        "Sub-Task Advanced Visualization"
      ]
    },
    {
      "cell_type": "code",
      "metadata": {
        "colab": {
          "base_uri": "https://localhost:8080/"
        },
        "id": "9_LSCmBNaOOD",
        "outputId": "9d888015-062c-447b-939e-e544105cb183"
      },
      "source": [
        "!apt-get install -q libgeos-3.5.0\n",
        "!apt-get install -q libgeos-dev\n",
        "!pip install -q https://github.com/matplotlib/basemap/archive/master.zip\n",
        "!pip install -q pyproj==1.9.6"
      ],
      "execution_count": 104,
      "outputs": [
        {
          "output_type": "stream",
          "name": "stdout",
          "text": [
            "Reading package lists...\n",
            "Building dependency tree...\n",
            "Reading state information...\n",
            "E: Unable to locate package libgeos-3.5.0\n",
            "E: Couldn't find any package by glob 'libgeos-3.5.0'\n",
            "E: Couldn't find any package by regex 'libgeos-3.5.0'\n",
            "Reading package lists...\n",
            "Building dependency tree...\n",
            "Reading state information...\n",
            "libgeos-dev is already the newest version (3.6.2-1build2).\n",
            "libgeos-dev set to manually installed.\n",
            "0 upgraded, 0 newly installed, 0 to remove and 37 not upgraded.\n",
            "\u001b[K     | 133.1 MB 1.8 MB/s\n",
            "\u001b[K     |████████████████████████████████| 6.3 MB 2.8 MB/s \n",
            "\u001b[K     |████████████████████████████████| 219 kB 39.8 MB/s \n",
            "\u001b[?25h  Building wheel for basemap (setup.py) ... \u001b[?25l\u001b[?25hdone\n",
            "  Building wheel for pyshp (setup.py) ... \u001b[?25l\u001b[?25hdone\n",
            "\u001b[K     |████████████████████████████████| 2.8 MB 2.7 MB/s \n",
            "\u001b[?25h  Building wheel for pyproj (setup.py) ... \u001b[?25l\u001b[?25hdone\n"
          ]
        }
      ]
    },
    {
      "cell_type": "code",
      "metadata": {
        "id": "hSlCLZfxaSzT"
      },
      "source": [
        "import numpy as np\n",
        "import pandas as pd\n",
        "import os\n",
        "import matplotlib.pyplot as plt\n",
        "import seaborn as sns \n",
        "from mpl_toolkits.basemap import Basemap\n",
        "%matplotlib inline"
      ],
      "execution_count": 105,
      "outputs": []
    },
    {
      "cell_type": "code",
      "metadata": {
        "id": "YV5RhbV2cEmg"
      },
      "source": [
        "event_data_100000=df1[0:100000]"
      ],
      "execution_count": 106,
      "outputs": []
    },
    {
      "cell_type": "code",
      "metadata": {
        "colab": {
          "base_uri": "https://localhost:8080/",
          "height": 521
        },
        "id": "WhqoKb32apBw",
        "outputId": "d9878d96-0e63-425d-c144-eca07160f497"
      },
      "source": [
        "fig = plt.figure(figsize=(20, 50))\n",
        "\n",
        "# Mercator of World\n",
        "m = Basemap(projection='merc',\n",
        "             llcrnrlat=event_data_100000[\"latitude\"].min(),  #latitude of lower left hand corner of the desired map domain\n",
        "             urcrnrlat=event_data_100000[\"latitude\"].max(), #latitude of upper right hand corner of the desired map domain\n",
        "             llcrnrlon=event_data_100000[\"longitude\"].min(), #longitude of lower left hand corner of the desired map domain\n",
        "             urcrnrlon=event_data_100000[\"longitude\"].max(), #longitude of upper right hand corner of the desired map domain\n",
        "             lat_ts=0, #latitude of true scale\n",
        "             resolution='c') #resolution of boundary dataset being used - c for crude\n",
        "\n",
        "\n",
        "m.fillcontinents(color='#191919',lake_color='#000000') # dark grey land, black lakes\n",
        "m.drawmapboundary(fill_color='#000000')                # black background\n",
        "m.drawcountries(linewidth=0.15, color=\"w\")              # thin white line for country borders\n",
        "\n",
        "# Plot the data\n",
        "mxy = m(event_data_100000[\"longitude\"].tolist(), event_data_100000[\"latitude\"].tolist())\n",
        "m.scatter(mxy[0], mxy[1], s=5, c=\"#1292db\", zorder=2)    # zorder for the points  \n",
        "\n",
        "plt.title(\"Map\")\n",
        "plt.show()"
      ],
      "execution_count": 107,
      "outputs": [
        {
          "output_type": "display_data",
          "data": {
            "image/png": "[encoded data removed]",
            "text/plain": [
              "<Figure size 1440x3600 with 1 Axes>"
            ]
          },
          "metadata": {}
        }
      ]
    },
    {
      "cell_type": "code",
      "metadata": {
        "id": "-0HPLgTpzFuM"
      },
      "source": [
        "df1.drop(columns=[\"event_id\",\"timestamp\",\"latitude\",\"longitude\"],inplace=True)"
      ],
      "execution_count": 108,
      "outputs": []
    },
    {
      "cell_type": "code",
      "metadata": {
        "id": "63O51CPEzcE6"
      },
      "source": [
        "df1=df1.drop_duplicates()"
      ],
      "execution_count": 109,
      "outputs": []
    },
    {
      "cell_type": "code",
      "metadata": {
        "colab": {
          "base_uri": "https://localhost:8080/"
        },
        "id": "ca7huoOaze4n",
        "outputId": "40ef5a5c-f6d6-4722-a588-17f581cffedb"
      },
      "source": [
        "df1.count()"
      ],
      "execution_count": 110,
      "outputs": [
        {
          "output_type": "execute_result",
          "data": {
            "text/plain": [
              "device_id            140838\n",
              "gender               140838\n",
              "age                  140838\n",
              "group_train          140838\n",
              "day_of_week          140838\n",
              "hour                 140838\n",
              "phone_brand          140838\n",
              "train_test_flag      140838\n",
              "super_category       140838\n",
              "Total_No_events      140838\n",
              "Change_in_LatLong    140838\n",
              "longitude_median     140838\n",
              "latitude_median      140838\n",
              "dtype: int64"
            ]
          },
          "metadata": {},
          "execution_count": 110
        }
      ]
    },
    {
      "cell_type": "code",
      "metadata": {
        "colab": {
          "base_uri": "https://localhost:8080/"
        },
        "id": "RRHa8t2IUdw0",
        "outputId": "bb5c7175-af3d-4896-e3bb-09210dfa563d"
      },
      "source": [
        "df1.train_test_flag.value_counts()"
      ],
      "execution_count": 111,
      "outputs": [
        {
          "output_type": "execute_result",
          "data": {
            "text/plain": [
              "train    105725\n",
              "test      35113\n",
              "Name: train_test_flag, dtype: int64"
            ]
          },
          "metadata": {},
          "execution_count": 111
        }
      ]
    },
    {
      "cell_type": "markdown",
      "metadata": {
        "id": "7rhmtb1GER0C"
      },
      "source": [
        "##Clustering\n",
        "Sub-Task Clustering"
      ]
    },
    {
      "cell_type": "code",
      "metadata": {
        "id": "_43eRJ3CEeK9"
      },
      "source": [
        "arr=df1[[\"latitude_median\",\"longitude_median\"]]"
      ],
      "execution_count": 112,
      "outputs": []
    },
    {
      "cell_type": "code",
      "metadata": {
        "id": "BpDBD_-6EePS"
      },
      "source": [
        "from sklearn.datasets.samples_generator import make_blobs\n",
        "from sklearn.neighbors import NearestNeighbors\n",
        "from sklearn.cluster import DBSCAN\n",
        "from matplotlib import pyplot as plt\n",
        "%matplotlib inline"
      ],
      "execution_count": 113,
      "outputs": []
    },
    {
      "cell_type": "code",
      "metadata": {
        "id": "GPLR2xxsGFST"
      },
      "source": [
        "neigh = NearestNeighbors(n_neighbors=2)\n",
        "nbrs = neigh.fit(arr)\n",
        "distances, indices = nbrs.kneighbors(arr)"
      ],
      "execution_count": 114,
      "outputs": []
    },
    {
      "cell_type": "code",
      "metadata": {
        "id": "3rIfasM1OfVs"
      },
      "source": [
        "distances = distances[:,1]"
      ],
      "execution_count": 115,
      "outputs": []
    },
    {
      "cell_type": "code",
      "metadata": {
        "id": "H-UEk7luHcL9"
      },
      "source": [
        "modified_array = np.delete(distances, np.where(distances == 0.))\n"
      ],
      "execution_count": 116,
      "outputs": []
    },
    {
      "cell_type": "code",
      "metadata": {
        "colab": {
          "base_uri": "https://localhost:8080/",
          "height": 266
        },
        "id": "aCXqLUDIGTCL",
        "outputId": "dbdb4c27-fb0a-4ed2-b353-32e96726a9a0"
      },
      "source": [
        "distances = np.sort(modified_array, axis=0)\n",
        "plt.plot(distances,color=\"red\")\n",
        "plt.show()\n"
      ],
      "execution_count": 117,
      "outputs": [
        {
          "output_type": "display_data",
          "data": {
            "image/png": "[encoded data removed]",
            "text/plain": [
              "<Figure size 432x288 with 1 Axes>"
            ]
          },
          "metadata": {
            "needs_background": "light"
          }
        }
      ]
    },
    {
      "cell_type": "code",
      "metadata": {
        "id": "uey9BQIrPxuV"
      },
      "source": [
        "coords=df1[[\"latitude_median\",\"longitude_median\"]]"
      ],
      "execution_count": 118,
      "outputs": []
    },
    {
      "cell_type": "code",
      "metadata": {
        "id": "N_p44Og0hBAG"
      },
      "source": [
        "df1=df1.reset_index()"
      ],
      "execution_count": 119,
      "outputs": []
    },
    {
      "cell_type": "code",
      "metadata": {
        "id": "H1isTN-YldeN"
      },
      "source": [
        "df1.drop(columns=[\"index\"],inplace=True)"
      ],
      "execution_count": 120,
      "outputs": []
    },
    {
      "cell_type": "code",
      "metadata": {
        "colab": {
          "base_uri": "https://localhost:8080/",
          "height": 223
        },
        "id": "7lGp5B1HjhGV",
        "outputId": "ad9727a7-4e01-42e4-dbf1-d53afd664ba1"
      },
      "source": [
        "df1.tail()"
      ],
      "execution_count": 121,
      "outputs": [
        {
          "output_type": "execute_result",
          "data": {
            "text/html": [
              "<div>\n",
              "<style scoped>\n",
              "    .dataframe tbody tr th:only-of-type {\n",
              "        vertical-align: middle;\n",
              "    }\n",
              "\n",
              "    .dataframe tbody tr th {\n",
              "        vertical-align: top;\n",
              "    }\n",
              "\n",
              "    .dataframe thead th {\n",
              "        text-align: right;\n",
              "    }\n",
              "</style>\n",
              "<table border=\"1\" class=\"dataframe\">\n",
              "  <thead>\n",
              "    <tr style=\"text-align: right;\">\n",
              "      <th></th>\n",
              "      <th>device_id</th>\n",
              "      <th>gender</th>\n",
              "      <th>age</th>\n",
              "      <th>group_train</th>\n",
              "      <th>day_of_week</th>\n",
              "      <th>hour</th>\n",
              "      <th>phone_brand</th>\n",
              "      <th>train_test_flag</th>\n",
              "      <th>super_category</th>\n",
              "      <th>Total_No_events</th>\n",
              "      <th>Change_in_LatLong</th>\n",
              "      <th>longitude_median</th>\n",
              "      <th>latitude_median</th>\n",
              "    </tr>\n",
              "  </thead>\n",
              "  <tbody>\n",
              "    <tr>\n",
              "      <th>140833</th>\n",
              "      <td>-537035954505421000</td>\n",
              "      <td>M</td>\n",
              "      <td>32</td>\n",
              "      <td>M25-32</td>\n",
              "      <td>0.0</td>\n",
              "      <td>14.0</td>\n",
              "      <td>samsung</td>\n",
              "      <td>test</td>\n",
              "      <td>finance</td>\n",
              "      <td>14</td>\n",
              "      <td>4</td>\n",
              "      <td>120.72</td>\n",
              "      <td>30.76</td>\n",
              "    </tr>\n",
              "    <tr>\n",
              "      <th>140834</th>\n",
              "      <td>-537035954505421000</td>\n",
              "      <td>M</td>\n",
              "      <td>32</td>\n",
              "      <td>M25-32</td>\n",
              "      <td>2.0</td>\n",
              "      <td>7.0</td>\n",
              "      <td>samsung</td>\n",
              "      <td>test</td>\n",
              "      <td>Custom label</td>\n",
              "      <td>14</td>\n",
              "      <td>4</td>\n",
              "      <td>120.72</td>\n",
              "      <td>30.76</td>\n",
              "    </tr>\n",
              "    <tr>\n",
              "      <th>140835</th>\n",
              "      <td>-537035954505421000</td>\n",
              "      <td>M</td>\n",
              "      <td>32</td>\n",
              "      <td>M25-32</td>\n",
              "      <td>2.0</td>\n",
              "      <td>20.0</td>\n",
              "      <td>samsung</td>\n",
              "      <td>test</td>\n",
              "      <td>finance</td>\n",
              "      <td>14</td>\n",
              "      <td>4</td>\n",
              "      <td>120.72</td>\n",
              "      <td>30.76</td>\n",
              "    </tr>\n",
              "    <tr>\n",
              "      <th>140836</th>\n",
              "      <td>-6464088668920590000</td>\n",
              "      <td>M</td>\n",
              "      <td>24</td>\n",
              "      <td>M0-24</td>\n",
              "      <td>2.0</td>\n",
              "      <td>8.0</td>\n",
              "      <td>Huawei</td>\n",
              "      <td>test</td>\n",
              "      <td>Industry</td>\n",
              "      <td>4</td>\n",
              "      <td>1</td>\n",
              "      <td>1.00</td>\n",
              "      <td>1.00</td>\n",
              "    </tr>\n",
              "    <tr>\n",
              "      <th>140837</th>\n",
              "      <td>-6464088668920590000</td>\n",
              "      <td>M</td>\n",
              "      <td>24</td>\n",
              "      <td>M0-24</td>\n",
              "      <td>0.0</td>\n",
              "      <td>0.0</td>\n",
              "      <td>Huawei</td>\n",
              "      <td>test</td>\n",
              "      <td>Industry</td>\n",
              "      <td>4</td>\n",
              "      <td>1</td>\n",
              "      <td>1.00</td>\n",
              "      <td>1.00</td>\n",
              "    </tr>\n",
              "  </tbody>\n",
              "</table>\n",
              "</div>"
            ],
            "text/plain": [
              "                  device_id gender  ...  longitude_median latitude_median\n",
              "140833  -537035954505421000      M  ...            120.72           30.76\n",
              "140834  -537035954505421000      M  ...            120.72           30.76\n",
              "140835  -537035954505421000      M  ...            120.72           30.76\n",
              "140836 -6464088668920590000      M  ...              1.00            1.00\n",
              "140837 -6464088668920590000      M  ...              1.00            1.00\n",
              "\n",
              "[5 rows x 13 columns]"
            ]
          },
          "metadata": {},
          "execution_count": 121
        }
      ]
    },
    {
      "cell_type": "code",
      "metadata": {
        "id": "YAHfaqDOa0pb"
      },
      "source": [
        "kms_per_radian = 6371.0088\n",
        "epsilon = 0.2/kms_per_radian\n",
        "minsamples = 100\n",
        "db = DBSCAN(eps= epsilon, min_samples= minsamples, algorithm = \"ball_tree\", metric = \"haversine\").fit(np.radians(coords))"
      ],
      "execution_count": 122,
      "outputs": []
    },
    {
      "cell_type": "code",
      "metadata": {
        "colab": {
          "base_uri": "https://localhost:8080/"
        },
        "id": "vscWdc0JP2_c",
        "outputId": "48bebd72-5bfb-45b0-d41f-a01c589a4f0a"
      },
      "source": [
        "len(db.labels_)"
      ],
      "execution_count": 123,
      "outputs": [
        {
          "output_type": "execute_result",
          "data": {
            "text/plain": [
              "140838"
            ]
          },
          "metadata": {},
          "execution_count": 123
        }
      ]
    },
    {
      "cell_type": "code",
      "metadata": {
        "id": "DmkZivtm40N9"
      },
      "source": [
        "df2=pd.DataFrame(db.labels_)"
      ],
      "execution_count": 124,
      "outputs": []
    },
    {
      "cell_type": "code",
      "metadata": {
        "colab": {
          "base_uri": "https://localhost:8080/",
          "height": 203
        },
        "id": "jv5m0BtMA7KB",
        "outputId": "571071bf-0a63-4ae0-9040-d6ffaa284d5c"
      },
      "source": [
        "df2.tail()"
      ],
      "execution_count": 125,
      "outputs": [
        {
          "output_type": "execute_result",
          "data": {
            "text/html": [
              "<div>\n",
              "<style scoped>\n",
              "    .dataframe tbody tr th:only-of-type {\n",
              "        vertical-align: middle;\n",
              "    }\n",
              "\n",
              "    .dataframe tbody tr th {\n",
              "        vertical-align: top;\n",
              "    }\n",
              "\n",
              "    .dataframe thead th {\n",
              "        text-align: right;\n",
              "    }\n",
              "</style>\n",
              "<table border=\"1\" class=\"dataframe\">\n",
              "  <thead>\n",
              "    <tr style=\"text-align: right;\">\n",
              "      <th></th>\n",
              "      <th>0</th>\n",
              "    </tr>\n",
              "  </thead>\n",
              "  <tbody>\n",
              "    <tr>\n",
              "      <th>140833</th>\n",
              "      <td>-1</td>\n",
              "    </tr>\n",
              "    <tr>\n",
              "      <th>140834</th>\n",
              "      <td>-1</td>\n",
              "    </tr>\n",
              "    <tr>\n",
              "      <th>140835</th>\n",
              "      <td>-1</td>\n",
              "    </tr>\n",
              "    <tr>\n",
              "      <th>140836</th>\n",
              "      <td>1</td>\n",
              "    </tr>\n",
              "    <tr>\n",
              "      <th>140837</th>\n",
              "      <td>1</td>\n",
              "    </tr>\n",
              "  </tbody>\n",
              "</table>\n",
              "</div>"
            ],
            "text/plain": [
              "        0\n",
              "140833 -1\n",
              "140834 -1\n",
              "140835 -1\n",
              "140836  1\n",
              "140837  1"
            ]
          },
          "metadata": {},
          "execution_count": 125
        }
      ]
    },
    {
      "cell_type": "code",
      "metadata": {
        "colab": {
          "base_uri": "https://localhost:8080/"
        },
        "id": "yq_lyqDfEeKO",
        "outputId": "9e68ea5b-646b-4173-a401-1528e08c3a02"
      },
      "source": [
        "df2.value_counts()"
      ],
      "execution_count": 126,
      "outputs": [
        {
          "output_type": "execute_result",
          "data": {
            "text/plain": [
              "-1      119192\n",
              " 1        5132\n",
              " 2        1478\n",
              " 45        286\n",
              " 53        274\n",
              "         ...  \n",
              " 96        101\n",
              " 48        101\n",
              " 89        101\n",
              " 24        101\n",
              " 113       100\n",
              "Length: 118, dtype: int64"
            ]
          },
          "metadata": {},
          "execution_count": 126
        }
      ]
    },
    {
      "cell_type": "code",
      "metadata": {
        "id": "qE2BecR0Bb2l"
      },
      "source": [
        "df2.rename(columns={0:\"cluster_id\"},inplace=True)"
      ],
      "execution_count": 127,
      "outputs": []
    },
    {
      "cell_type": "code",
      "metadata": {
        "id": "AtGI0dLSA_UD"
      },
      "source": [
        "df1=pd.merge(df1,df2,left_index=True, right_index=True)"
      ],
      "execution_count": 128,
      "outputs": []
    },
    {
      "cell_type": "code",
      "metadata": {
        "colab": {
          "base_uri": "https://localhost:8080/",
          "height": 223
        },
        "id": "2blJD0rEBGZ1",
        "outputId": "6b1c6eaa-4c43-4adc-dd51-25ef3e6a403b"
      },
      "source": [
        "df1.head()"
      ],
      "execution_count": 129,
      "outputs": [
        {
          "output_type": "execute_result",
          "data": {
            "text/html": [
              "<div>\n",
              "<style scoped>\n",
              "    .dataframe tbody tr th:only-of-type {\n",
              "        vertical-align: middle;\n",
              "    }\n",
              "\n",
              "    .dataframe tbody tr th {\n",
              "        vertical-align: top;\n",
              "    }\n",
              "\n",
              "    .dataframe thead th {\n",
              "        text-align: right;\n",
              "    }\n",
              "</style>\n",
              "<table border=\"1\" class=\"dataframe\">\n",
              "  <thead>\n",
              "    <tr style=\"text-align: right;\">\n",
              "      <th></th>\n",
              "      <th>device_id</th>\n",
              "      <th>gender</th>\n",
              "      <th>age</th>\n",
              "      <th>group_train</th>\n",
              "      <th>day_of_week</th>\n",
              "      <th>hour</th>\n",
              "      <th>phone_brand</th>\n",
              "      <th>train_test_flag</th>\n",
              "      <th>super_category</th>\n",
              "      <th>Total_No_events</th>\n",
              "      <th>Change_in_LatLong</th>\n",
              "      <th>longitude_median</th>\n",
              "      <th>latitude_median</th>\n",
              "      <th>cluster_id</th>\n",
              "    </tr>\n",
              "  </thead>\n",
              "  <tbody>\n",
              "    <tr>\n",
              "      <th>0</th>\n",
              "      <td>-7548291590301750000</td>\n",
              "      <td>M</td>\n",
              "      <td>33</td>\n",
              "      <td>M32+</td>\n",
              "      <td>6.0</td>\n",
              "      <td>10.0</td>\n",
              "      <td>Huawei</td>\n",
              "      <td>train</td>\n",
              "      <td>Industry</td>\n",
              "      <td>292</td>\n",
              "      <td>1</td>\n",
              "      <td>116.79</td>\n",
              "      <td>33.98</td>\n",
              "      <td>-1</td>\n",
              "    </tr>\n",
              "    <tr>\n",
              "      <th>1</th>\n",
              "      <td>4543988487649880000</td>\n",
              "      <td>M</td>\n",
              "      <td>53</td>\n",
              "      <td>M32+</td>\n",
              "      <td>4.0</td>\n",
              "      <td>9.0</td>\n",
              "      <td>samsung</td>\n",
              "      <td>train</td>\n",
              "      <td>Education</td>\n",
              "      <td>115</td>\n",
              "      <td>4</td>\n",
              "      <td>104.26</td>\n",
              "      <td>30.88</td>\n",
              "      <td>-1</td>\n",
              "    </tr>\n",
              "    <tr>\n",
              "      <th>2</th>\n",
              "      <td>4543988487649880000</td>\n",
              "      <td>M</td>\n",
              "      <td>53</td>\n",
              "      <td>M32+</td>\n",
              "      <td>3.0</td>\n",
              "      <td>4.0</td>\n",
              "      <td>samsung</td>\n",
              "      <td>train</td>\n",
              "      <td>Education</td>\n",
              "      <td>115</td>\n",
              "      <td>4</td>\n",
              "      <td>104.26</td>\n",
              "      <td>30.88</td>\n",
              "      <td>-1</td>\n",
              "    </tr>\n",
              "    <tr>\n",
              "      <th>3</th>\n",
              "      <td>4543988487649880000</td>\n",
              "      <td>M</td>\n",
              "      <td>53</td>\n",
              "      <td>M32+</td>\n",
              "      <td>2.0</td>\n",
              "      <td>22.0</td>\n",
              "      <td>samsung</td>\n",
              "      <td>train</td>\n",
              "      <td>Industry</td>\n",
              "      <td>115</td>\n",
              "      <td>4</td>\n",
              "      <td>104.26</td>\n",
              "      <td>30.88</td>\n",
              "      <td>-1</td>\n",
              "    </tr>\n",
              "    <tr>\n",
              "      <th>4</th>\n",
              "      <td>4543988487649880000</td>\n",
              "      <td>M</td>\n",
              "      <td>53</td>\n",
              "      <td>M32+</td>\n",
              "      <td>3.0</td>\n",
              "      <td>5.0</td>\n",
              "      <td>samsung</td>\n",
              "      <td>train</td>\n",
              "      <td>Industry</td>\n",
              "      <td>115</td>\n",
              "      <td>4</td>\n",
              "      <td>104.26</td>\n",
              "      <td>30.88</td>\n",
              "      <td>-1</td>\n",
              "    </tr>\n",
              "  </tbody>\n",
              "</table>\n",
              "</div>"
            ],
            "text/plain": [
              "             device_id gender  ...  latitude_median cluster_id\n",
              "0 -7548291590301750000      M  ...            33.98         -1\n",
              "1  4543988487649880000      M  ...            30.88         -1\n",
              "2  4543988487649880000      M  ...            30.88         -1\n",
              "3  4543988487649880000      M  ...            30.88         -1\n",
              "4  4543988487649880000      M  ...            30.88         -1\n",
              "\n",
              "[5 rows x 14 columns]"
            ]
          },
          "metadata": {},
          "execution_count": 129
        }
      ]
    },
    {
      "cell_type": "code",
      "metadata": {
        "colab": {
          "base_uri": "https://localhost:8080/"
        },
        "id": "nyg5402mgYIs",
        "outputId": "791bd1e7-ad9c-48ca-f400-91d74a7ce935"
      },
      "source": [
        "df1.train_test_flag.value_counts()"
      ],
      "execution_count": 130,
      "outputs": [
        {
          "output_type": "execute_result",
          "data": {
            "text/plain": [
              "train    105725\n",
              "test      35113\n",
              "Name: train_test_flag, dtype: int64"
            ]
          },
          "metadata": {},
          "execution_count": 130
        }
      ]
    },
    {
      "cell_type": "markdown",
      "metadata": {
        "id": "02p5nN4_9isd"
      },
      "source": [
        "#Model Preparation and Analysis\n",
        "In the below segment we will now be creating Models using the Scenario 1 Data.\n",
        "Further we will be evaluating the models based on both scenarios\n",
        "This will cover the below subtasks\n",
        "\n",
        "\n",
        "*   Stacking\n",
        "*   Model Building(HPT)\n",
        "* Model Evaluation\n",
        "\n"
      ]
    },
    {
      "cell_type": "markdown",
      "metadata": {
        "id": "iRUaf-jo2Oyg"
      },
      "source": [
        "##Model Analysis\n",
        "Using Scenario 1(All data available)"
      ]
    },
    {
      "cell_type": "markdown",
      "metadata": {
        "id": "pAfa-h-iPOeA"
      },
      "source": [
        "###StackCVClassifier"
      ]
    },
    {
      "cell_type": "code",
      "metadata": {
        "id": "NsOjn-xABvVh"
      },
      "source": [
        "from sklearn import preprocessing\n",
        "from sklearn.preprocessing import LabelEncoder\n",
        "from mlxtend.classifier import StackingCVClassifier\n",
        "from mlxtend.regressor import StackingCVRegressor\n",
        "from sklearn.neighbors import KNeighborsClassifier\n",
        "from sklearn.ensemble import RandomForestClassifier\n",
        "from sklearn.ensemble import RandomForestRegressor\n",
        "from sklearn.linear_model import LogisticRegression\n",
        "from sklearn.linear_model import LinearRegression\n",
        "from sklearn.naive_bayes import GaussianNB \n",
        "from sklearn import model_selection\n",
        "from xgboost import XGBClassifier\n",
        "from xgboost import XGBRegressor\n",
        "from sklearn.model_selection import GridSearchCV"
      ],
      "execution_count": 131,
      "outputs": []
    },
    {
      "cell_type": "code",
      "metadata": {
        "id": "anwx82ZwPNxT"
      },
      "source": [
        "values=df1.super_category"
      ],
      "execution_count": 132,
      "outputs": []
    },
    {
      "cell_type": "code",
      "metadata": {
        "id": "ABtCUPWzPJee"
      },
      "source": [
        "label_encoder = LabelEncoder()\n",
        "integer_encoded = label_encoder.fit_transform(values)"
      ],
      "execution_count": 133,
      "outputs": []
    },
    {
      "cell_type": "code",
      "metadata": {
        "colab": {
          "base_uri": "https://localhost:8080/"
        },
        "id": "0gp8ul4lQCiF",
        "outputId": "32805f2b-cf12-4c0d-9dff-57e25f501538"
      },
      "source": [
        "integer_encoded"
      ],
      "execution_count": 134,
      "outputs": [
        {
          "output_type": "execute_result",
          "data": {
            "text/plain": [
              "array([4, 2, 2, ..., 5, 4, 4])"
            ]
          },
          "metadata": {},
          "execution_count": 134
        }
      ]
    },
    {
      "cell_type": "code",
      "metadata": {
        "id": "6eCO2TwMQDqj"
      },
      "source": [
        "df1[\"super_category_en\"]=integer_encoded"
      ],
      "execution_count": 135,
      "outputs": []
    },
    {
      "cell_type": "code",
      "metadata": {
        "id": "8CHPp1IdA-SR"
      },
      "source": [
        "values=df1.phone_brand\n",
        "label_encoder = LabelEncoder()\n",
        "integer_encoded = label_encoder.fit_transform(values)\n",
        "df1[\"phone_brands_en\"]=integer_encoded"
      ],
      "execution_count": 136,
      "outputs": []
    },
    {
      "cell_type": "code",
      "metadata": {
        "colab": {
          "base_uri": "https://localhost:8080/",
          "height": 223
        },
        "id": "eoNq0_7wQdjY",
        "outputId": "347c6913-00d6-44ea-eab1-26aefde62cda"
      },
      "source": [
        "df1.head()"
      ],
      "execution_count": 137,
      "outputs": [
        {
          "output_type": "execute_result",
          "data": {
            "text/html": [
              "<div>\n",
              "<style scoped>\n",
              "    .dataframe tbody tr th:only-of-type {\n",
              "        vertical-align: middle;\n",
              "    }\n",
              "\n",
              "    .dataframe tbody tr th {\n",
              "        vertical-align: top;\n",
              "    }\n",
              "\n",
              "    .dataframe thead th {\n",
              "        text-align: right;\n",
              "    }\n",
              "</style>\n",
              "<table border=\"1\" class=\"dataframe\">\n",
              "  <thead>\n",
              "    <tr style=\"text-align: right;\">\n",
              "      <th></th>\n",
              "      <th>device_id</th>\n",
              "      <th>gender</th>\n",
              "      <th>age</th>\n",
              "      <th>group_train</th>\n",
              "      <th>day_of_week</th>\n",
              "      <th>hour</th>\n",
              "      <th>phone_brand</th>\n",
              "      <th>train_test_flag</th>\n",
              "      <th>super_category</th>\n",
              "      <th>Total_No_events</th>\n",
              "      <th>Change_in_LatLong</th>\n",
              "      <th>longitude_median</th>\n",
              "      <th>latitude_median</th>\n",
              "      <th>cluster_id</th>\n",
              "      <th>super_category_en</th>\n",
              "      <th>phone_brands_en</th>\n",
              "    </tr>\n",
              "  </thead>\n",
              "  <tbody>\n",
              "    <tr>\n",
              "      <th>0</th>\n",
              "      <td>-7548291590301750000</td>\n",
              "      <td>M</td>\n",
              "      <td>33</td>\n",
              "      <td>M32+</td>\n",
              "      <td>6.0</td>\n",
              "      <td>10.0</td>\n",
              "      <td>Huawei</td>\n",
              "      <td>train</td>\n",
              "      <td>Industry</td>\n",
              "      <td>292</td>\n",
              "      <td>1</td>\n",
              "      <td>116.79</td>\n",
              "      <td>33.98</td>\n",
              "      <td>-1</td>\n",
              "      <td>4</td>\n",
              "      <td>5</td>\n",
              "    </tr>\n",
              "    <tr>\n",
              "      <th>1</th>\n",
              "      <td>4543988487649880000</td>\n",
              "      <td>M</td>\n",
              "      <td>53</td>\n",
              "      <td>M32+</td>\n",
              "      <td>4.0</td>\n",
              "      <td>9.0</td>\n",
              "      <td>samsung</td>\n",
              "      <td>train</td>\n",
              "      <td>Education</td>\n",
              "      <td>115</td>\n",
              "      <td>4</td>\n",
              "      <td>104.26</td>\n",
              "      <td>30.88</td>\n",
              "      <td>-1</td>\n",
              "      <td>2</td>\n",
              "      <td>41</td>\n",
              "    </tr>\n",
              "    <tr>\n",
              "      <th>2</th>\n",
              "      <td>4543988487649880000</td>\n",
              "      <td>M</td>\n",
              "      <td>53</td>\n",
              "      <td>M32+</td>\n",
              "      <td>3.0</td>\n",
              "      <td>4.0</td>\n",
              "      <td>samsung</td>\n",
              "      <td>train</td>\n",
              "      <td>Education</td>\n",
              "      <td>115</td>\n",
              "      <td>4</td>\n",
              "      <td>104.26</td>\n",
              "      <td>30.88</td>\n",
              "      <td>-1</td>\n",
              "      <td>2</td>\n",
              "      <td>41</td>\n",
              "    </tr>\n",
              "    <tr>\n",
              "      <th>3</th>\n",
              "      <td>4543988487649880000</td>\n",
              "      <td>M</td>\n",
              "      <td>53</td>\n",
              "      <td>M32+</td>\n",
              "      <td>2.0</td>\n",
              "      <td>22.0</td>\n",
              "      <td>samsung</td>\n",
              "      <td>train</td>\n",
              "      <td>Industry</td>\n",
              "      <td>115</td>\n",
              "      <td>4</td>\n",
              "      <td>104.26</td>\n",
              "      <td>30.88</td>\n",
              "      <td>-1</td>\n",
              "      <td>4</td>\n",
              "      <td>41</td>\n",
              "    </tr>\n",
              "    <tr>\n",
              "      <th>4</th>\n",
              "      <td>4543988487649880000</td>\n",
              "      <td>M</td>\n",
              "      <td>53</td>\n",
              "      <td>M32+</td>\n",
              "      <td>3.0</td>\n",
              "      <td>5.0</td>\n",
              "      <td>samsung</td>\n",
              "      <td>train</td>\n",
              "      <td>Industry</td>\n",
              "      <td>115</td>\n",
              "      <td>4</td>\n",
              "      <td>104.26</td>\n",
              "      <td>30.88</td>\n",
              "      <td>-1</td>\n",
              "      <td>4</td>\n",
              "      <td>41</td>\n",
              "    </tr>\n",
              "  </tbody>\n",
              "</table>\n",
              "</div>"
            ],
            "text/plain": [
              "             device_id gender  ...  super_category_en phone_brands_en\n",
              "0 -7548291590301750000      M  ...                  4               5\n",
              "1  4543988487649880000      M  ...                  2              41\n",
              "2  4543988487649880000      M  ...                  2              41\n",
              "3  4543988487649880000      M  ...                  4              41\n",
              "4  4543988487649880000      M  ...                  4              41\n",
              "\n",
              "[5 rows x 16 columns]"
            ]
          },
          "metadata": {},
          "execution_count": 137
        }
      ]
    },
    {
      "cell_type": "code",
      "metadata": {
        "colab": {
          "base_uri": "https://localhost:8080/"
        },
        "id": "7k99JGvdUN6d",
        "outputId": "ded30f2a-d677-401f-bb8b-558ffaacdca4"
      },
      "source": [
        "df1[\"train_test_flag\"].value_counts()"
      ],
      "execution_count": 138,
      "outputs": [
        {
          "output_type": "execute_result",
          "data": {
            "text/plain": [
              "train    105725\n",
              "test      35113\n",
              "Name: train_test_flag, dtype: int64"
            ]
          },
          "metadata": {},
          "execution_count": 138
        }
      ]
    },
    {
      "cell_type": "markdown",
      "metadata": {
        "id": "V_y2lGMFQwCa"
      },
      "source": [
        "###Predicting Gender"
      ]
    },
    {
      "cell_type": "markdown",
      "metadata": {
        "id": "9mIBXmpM3jtZ"
      },
      "source": [
        "####Model Creation"
      ]
    },
    {
      "cell_type": "code",
      "metadata": {
        "colab": {
          "base_uri": "https://localhost:8080/"
        },
        "id": "LUHRUFEQ1j2x",
        "outputId": "ef299ae2-e5cb-41ea-c9e8-e09a1e9c6913"
      },
      "source": [
        "df1[\"gender\"].value_counts()"
      ],
      "execution_count": 139,
      "outputs": [
        {
          "output_type": "execute_result",
          "data": {
            "text/plain": [
              "M    104785\n",
              "F     36053\n",
              "Name: gender, dtype: int64"
            ]
          },
          "metadata": {},
          "execution_count": 139
        }
      ]
    },
    {
      "cell_type": "code",
      "metadata": {
        "id": "FqHUpfcM1Lji"
      },
      "source": [
        "df1[\"gender\"]=df1[\"gender\"].apply(lambda x : 0 if x=='F' else 1)"
      ],
      "execution_count": 140,
      "outputs": []
    },
    {
      "cell_type": "code",
      "metadata": {
        "colab": {
          "base_uri": "https://localhost:8080/"
        },
        "id": "VH0Zoee_JvhO",
        "outputId": "a575b972-0cea-445e-b5e1-7925aedb22de"
      },
      "source": [
        "df1[\"gender\"].value_counts()"
      ],
      "execution_count": 141,
      "outputs": [
        {
          "output_type": "execute_result",
          "data": {
            "text/plain": [
              "1    104785\n",
              "0     36053\n",
              "Name: gender, dtype: int64"
            ]
          },
          "metadata": {},
          "execution_count": 141
        }
      ]
    },
    {
      "cell_type": "code",
      "metadata": {
        "id": "exKNwiMFEBZ9"
      },
      "source": [
        "df1_train=df1[df1[\"train_test_flag\"]==\"train\"]"
      ],
      "execution_count": 142,
      "outputs": []
    },
    {
      "cell_type": "code",
      "metadata": {
        "colab": {
          "base_uri": "https://localhost:8080/"
        },
        "id": "xPFJoL7jMFhu",
        "outputId": "c8e1052a-3e19-49d2-aace-e097618f05f1"
      },
      "source": [
        "df1_train[\"gender\"].value_counts()"
      ],
      "execution_count": 143,
      "outputs": [
        {
          "output_type": "execute_result",
          "data": {
            "text/plain": [
              "1    78831\n",
              "0    26894\n",
              "Name: gender, dtype: int64"
            ]
          },
          "metadata": {},
          "execution_count": 143
        }
      ]
    },
    {
      "cell_type": "code",
      "metadata": {
        "id": "GDz93bw3FJci"
      },
      "source": [
        "df1_test=df1[df1[\"train_test_flag\"]==\"test\"]"
      ],
      "execution_count": 144,
      "outputs": []
    },
    {
      "cell_type": "code",
      "metadata": {
        "colab": {
          "base_uri": "https://localhost:8080/"
        },
        "id": "DNqe8KwrUKi_",
        "outputId": "89e7c1fe-1988-49d7-e5c9-665b298ca140"
      },
      "source": [
        "df1_test[\"gender\"].value_counts()"
      ],
      "execution_count": 145,
      "outputs": [
        {
          "output_type": "execute_result",
          "data": {
            "text/plain": [
              "1    25954\n",
              "0     9159\n",
              "Name: gender, dtype: int64"
            ]
          },
          "metadata": {},
          "execution_count": 145
        }
      ]
    },
    {
      "cell_type": "code",
      "metadata": {
        "id": "WlJQc1UtQvZ_"
      },
      "source": [
        "y_train=df1_train[\"gender\"]\n",
        "y_test=df1_test[\"gender\"]"
      ],
      "execution_count": 146,
      "outputs": []
    },
    {
      "cell_type": "code",
      "metadata": {
        "id": "ZSFXL7iPQe7f"
      },
      "source": [
        "x_train=df1_train.drop(columns=[\"gender\",\"age\",\"group_train\",\"super_category\",\"train_test_flag\",\"device_id\",\"phone_brand\"])\n",
        "x_test=df1_test.drop(columns=[\"gender\",\"age\",\"group_train\",\"super_category\",\"train_test_flag\",\"device_id\",\"phone_brand\"])"
      ],
      "execution_count": 147,
      "outputs": []
    },
    {
      "cell_type": "code",
      "metadata": {
        "colab": {
          "base_uri": "https://localhost:8080/"
        },
        "id": "sFJxR7q30vHw",
        "outputId": "4e12c34c-0428-4237-df54-8104610a3318"
      },
      "source": [
        "x_train.columns"
      ],
      "execution_count": 148,
      "outputs": [
        {
          "output_type": "execute_result",
          "data": {
            "text/plain": [
              "Index(['day_of_week', 'hour', 'Total_No_events', 'Change_in_LatLong',\n",
              "       'longitude_median', 'latitude_median', 'cluster_id',\n",
              "       'super_category_en', 'phone_brands_en'],\n",
              "      dtype='object')"
            ]
          },
          "metadata": {},
          "execution_count": 148
        }
      ]
    },
    {
      "cell_type": "code",
      "metadata": {
        "id": "bLqtfq9vypxO"
      },
      "source": [
        "from sklearn.preprocessing import StandardScaler\n",
        "x_train[\"Total_No_events\"]=StandardScaler().fit_transform(x_train[[\"Total_No_events\"]])"
      ],
      "execution_count": 149,
      "outputs": []
    },
    {
      "cell_type": "code",
      "metadata": {
        "id": "CePwf3Wg2aBN"
      },
      "source": [
        "x_train[\"Change_in_LatLong\"]=StandardScaler().fit_transform(x_train[[\"Change_in_LatLong\"]])\n",
        "x_train[\"longitude_median\"]=StandardScaler().fit_transform(x_train[[\"longitude_median\"]])\n",
        "x_train[\"latitude_median\"]=StandardScaler().fit_transform(x_train[[\"latitude_median\"]])"
      ],
      "execution_count": 150,
      "outputs": []
    },
    {
      "cell_type": "code",
      "metadata": {
        "id": "uTzRxO0P2naA"
      },
      "source": [
        "x_test[\"Total_No_events\"]=StandardScaler().fit_transform(x_test[[\"Total_No_events\"]])\n",
        "x_test[\"Change_in_LatLong\"]=StandardScaler().fit_transform(x_test[[\"Change_in_LatLong\"]])\n",
        "x_test[\"longitude_median\"]=StandardScaler().fit_transform(x_test[[\"longitude_median\"]])\n",
        "x_test[\"latitude_median\"]=StandardScaler().fit_transform(x_test[[\"latitude_median\"]])"
      ],
      "execution_count": 151,
      "outputs": []
    },
    {
      "cell_type": "code",
      "metadata": {
        "colab": {
          "base_uri": "https://localhost:8080/",
          "height": 417
        },
        "id": "2FR8nWVWMg4r",
        "outputId": "8887ceb2-490d-4c1f-f4f7-0a6c251b7678"
      },
      "source": [
        "x_train"
      ],
      "execution_count": 152,
      "outputs": [
        {
          "output_type": "execute_result",
          "data": {
            "text/html": [
              "<div>\n",
              "<style scoped>\n",
              "    .dataframe tbody tr th:only-of-type {\n",
              "        vertical-align: middle;\n",
              "    }\n",
              "\n",
              "    .dataframe tbody tr th {\n",
              "        vertical-align: top;\n",
              "    }\n",
              "\n",
              "    .dataframe thead th {\n",
              "        text-align: right;\n",
              "    }\n",
              "</style>\n",
              "<table border=\"1\" class=\"dataframe\">\n",
              "  <thead>\n",
              "    <tr style=\"text-align: right;\">\n",
              "      <th></th>\n",
              "      <th>day_of_week</th>\n",
              "      <th>hour</th>\n",
              "      <th>Total_No_events</th>\n",
              "      <th>Change_in_LatLong</th>\n",
              "      <th>longitude_median</th>\n",
              "      <th>latitude_median</th>\n",
              "      <th>cluster_id</th>\n",
              "      <th>super_category_en</th>\n",
              "      <th>phone_brands_en</th>\n",
              "    </tr>\n",
              "  </thead>\n",
              "  <tbody>\n",
              "    <tr>\n",
              "      <th>0</th>\n",
              "      <td>6.0</td>\n",
              "      <td>10.0</td>\n",
              "      <td>0.127017</td>\n",
              "      <td>-0.651033</td>\n",
              "      <td>0.269381</td>\n",
              "      <td>0.419892</td>\n",
              "      <td>-1</td>\n",
              "      <td>4</td>\n",
              "      <td>5</td>\n",
              "    </tr>\n",
              "    <tr>\n",
              "      <th>1</th>\n",
              "      <td>4.0</td>\n",
              "      <td>9.0</td>\n",
              "      <td>-0.399326</td>\n",
              "      <td>-0.286586</td>\n",
              "      <td>-0.299598</td>\n",
              "      <td>0.040792</td>\n",
              "      <td>-1</td>\n",
              "      <td>2</td>\n",
              "      <td>41</td>\n",
              "    </tr>\n",
              "    <tr>\n",
              "      <th>2</th>\n",
              "      <td>3.0</td>\n",
              "      <td>4.0</td>\n",
              "      <td>-0.399326</td>\n",
              "      <td>-0.286586</td>\n",
              "      <td>-0.299598</td>\n",
              "      <td>0.040792</td>\n",
              "      <td>-1</td>\n",
              "      <td>2</td>\n",
              "      <td>41</td>\n",
              "    </tr>\n",
              "    <tr>\n",
              "      <th>3</th>\n",
              "      <td>2.0</td>\n",
              "      <td>22.0</td>\n",
              "      <td>-0.399326</td>\n",
              "      <td>-0.286586</td>\n",
              "      <td>-0.299598</td>\n",
              "      <td>0.040792</td>\n",
              "      <td>-1</td>\n",
              "      <td>4</td>\n",
              "      <td>41</td>\n",
              "    </tr>\n",
              "    <tr>\n",
              "      <th>4</th>\n",
              "      <td>3.0</td>\n",
              "      <td>5.0</td>\n",
              "      <td>-0.399326</td>\n",
              "      <td>-0.286586</td>\n",
              "      <td>-0.299598</td>\n",
              "      <td>0.040792</td>\n",
              "      <td>-1</td>\n",
              "      <td>4</td>\n",
              "      <td>41</td>\n",
              "    </tr>\n",
              "    <tr>\n",
              "      <th>...</th>\n",
              "      <td>...</td>\n",
              "      <td>...</td>\n",
              "      <td>...</td>\n",
              "      <td>...</td>\n",
              "      <td>...</td>\n",
              "      <td>...</td>\n",
              "      <td>...</td>\n",
              "      <td>...</td>\n",
              "      <td>...</td>\n",
              "    </tr>\n",
              "    <tr>\n",
              "      <th>105720</th>\n",
              "      <td>2.0</td>\n",
              "      <td>0.0</td>\n",
              "      <td>-0.699668</td>\n",
              "      <td>-0.529551</td>\n",
              "      <td>-0.311404</td>\n",
              "      <td>0.020003</td>\n",
              "      <td>-1</td>\n",
              "      <td>4</td>\n",
              "      <td>5</td>\n",
              "    </tr>\n",
              "    <tr>\n",
              "      <th>105721</th>\n",
              "      <td>4.0</td>\n",
              "      <td>18.0</td>\n",
              "      <td>-0.699668</td>\n",
              "      <td>-0.529551</td>\n",
              "      <td>-0.311404</td>\n",
              "      <td>0.020003</td>\n",
              "      <td>-1</td>\n",
              "      <td>2</td>\n",
              "      <td>5</td>\n",
              "    </tr>\n",
              "    <tr>\n",
              "      <th>105722</th>\n",
              "      <td>6.0</td>\n",
              "      <td>10.0</td>\n",
              "      <td>-0.699668</td>\n",
              "      <td>-0.529551</td>\n",
              "      <td>-0.311404</td>\n",
              "      <td>0.020003</td>\n",
              "      <td>-1</td>\n",
              "      <td>4</td>\n",
              "      <td>5</td>\n",
              "    </tr>\n",
              "    <tr>\n",
              "      <th>105723</th>\n",
              "      <td>1.0</td>\n",
              "      <td>22.0</td>\n",
              "      <td>-0.699668</td>\n",
              "      <td>-0.529551</td>\n",
              "      <td>-0.311404</td>\n",
              "      <td>0.020003</td>\n",
              "      <td>-1</td>\n",
              "      <td>2</td>\n",
              "      <td>5</td>\n",
              "    </tr>\n",
              "    <tr>\n",
              "      <th>105724</th>\n",
              "      <td>5.0</td>\n",
              "      <td>18.0</td>\n",
              "      <td>-0.699668</td>\n",
              "      <td>-0.529551</td>\n",
              "      <td>-0.311404</td>\n",
              "      <td>0.020003</td>\n",
              "      <td>-1</td>\n",
              "      <td>4</td>\n",
              "      <td>5</td>\n",
              "    </tr>\n",
              "  </tbody>\n",
              "</table>\n",
              "<p>105725 rows × 9 columns</p>\n",
              "</div>"
            ],
            "text/plain": [
              "        day_of_week  hour  ...  super_category_en  phone_brands_en\n",
              "0               6.0  10.0  ...                  4                5\n",
              "1               4.0   9.0  ...                  2               41\n",
              "2               3.0   4.0  ...                  2               41\n",
              "3               2.0  22.0  ...                  4               41\n",
              "4               3.0   5.0  ...                  4               41\n",
              "...             ...   ...  ...                ...              ...\n",
              "105720          2.0   0.0  ...                  4                5\n",
              "105721          4.0  18.0  ...                  2                5\n",
              "105722          6.0  10.0  ...                  4                5\n",
              "105723          1.0  22.0  ...                  2                5\n",
              "105724          5.0  18.0  ...                  4                5\n",
              "\n",
              "[105725 rows x 9 columns]"
            ]
          },
          "metadata": {},
          "execution_count": 152
        }
      ]
    },
    {
      "cell_type": "code",
      "metadata": {
        "id": "E0WBCz1OSyqk"
      },
      "source": [
        "x_train=x_train.values\n",
        "y_train=y_train.values"
      ],
      "execution_count": 153,
      "outputs": []
    },
    {
      "cell_type": "code",
      "metadata": {
        "colab": {
          "base_uri": "https://localhost:8080/"
        },
        "id": "xqkQafErTNUN",
        "outputId": "960ab1df-1062-4b56-8c10-47ed5c969bc8"
      },
      "source": [
        "y_train"
      ],
      "execution_count": 154,
      "outputs": [
        {
          "output_type": "execute_result",
          "data": {
            "text/plain": [
              "array([1, 1, 1, ..., 1, 1, 1])"
            ]
          },
          "metadata": {},
          "execution_count": 154
        }
      ]
    },
    {
      "cell_type": "markdown",
      "metadata": {
        "id": "bfYyf-aQ3rC_"
      },
      "source": [
        "####Hyperparameter Tuning"
      ]
    },
    {
      "cell_type": "code",
      "metadata": {
        "id": "fK--EwFxSE2z"
      },
      "source": [
        "clf1 = LogisticRegression()\n",
        "clf2 = RandomForestClassifier(random_state=1) # just for demo have taken 10 trees \n",
        "xgb = XGBClassifier()\n",
        "\n",
        "stacking_Classifier = StackingCVClassifier(classifiers=[clf1, clf2], meta_classifier=xgb, use_probas=True, cv=3)"
      ],
      "execution_count": 155,
      "outputs": []
    },
    {
      "cell_type": "code",
      "metadata": {
        "id": "tczRzpgv4j0k"
      },
      "source": [
        "params = {'randomforestclassifier__max_depth': [2,5, 10], 'randomforestclassifier__n_estimators': [5,10,15]}"
      ],
      "execution_count": 156,
      "outputs": []
    },
    {
      "cell_type": "code",
      "metadata": {
        "id": "IZ9NHvZu477N"
      },
      "source": [
        "grid = GridSearchCV(estimator=stacking_Classifier, \n",
        "                    param_grid=params, \n",
        "                    cv=5,\n",
        "                    refit=True)"
      ],
      "execution_count": 157,
      "outputs": []
    },
    {
      "cell_type": "code",
      "metadata": {
        "colab": {
          "base_uri": "https://localhost:8080/"
        },
        "id": "fQF5Rq4_SQV2",
        "outputId": "4908cb39-7474-4a4d-ef3f-cd142e95801a"
      },
      "source": [
        "for clf, label in zip([clf1, clf2, stacking_Classifier], \n",
        "                      ['lr', \n",
        "                       'Random Forest', \n",
        "                       'StackingClassifier']):\n",
        "\n",
        "    scores = model_selection.cross_val_score(clf, x_train, y_train, cv=3, scoring='roc_auc')\n",
        "    print(\"Accuracy: %0.2f (+/- %0.2f) [%s]\" % (scores.mean(), scores.std(), label))"
      ],
      "execution_count": 158,
      "outputs": [
        {
          "output_type": "stream",
          "name": "stdout",
          "text": [
            "Accuracy: 0.59 (+/- 0.01) [lr]\n",
            "Accuracy: 0.58 (+/- 0.02) [Random Forest]\n",
            "Accuracy: 0.58 (+/- 0.02) [StackingClassifier]\n"
          ]
        }
      ]
    },
    {
      "cell_type": "code",
      "metadata": {
        "colab": {
          "base_uri": "https://localhost:8080/"
        },
        "id": "0UtZRt8r5gjB",
        "outputId": "dda8068e-5ea5-4404-ce10-9565aaacbbc1"
      },
      "source": [
        "grid.fit(x_train,y_train)"
      ],
      "execution_count": 159,
      "outputs": [
        {
          "output_type": "execute_result",
          "data": {
            "text/plain": [
              "GridSearchCV(cv=5, error_score=nan,\n",
              "             estimator=StackingCVClassifier(classifiers=[LogisticRegression(C=1.0,\n",
              "                                                                            class_weight=None,\n",
              "                                                                            dual=False,\n",
              "                                                                            fit_intercept=True,\n",
              "                                                                            intercept_scaling=1,\n",
              "                                                                            l1_ratio=None,\n",
              "                                                                            max_iter=100,\n",
              "                                                                            multi_class='auto',\n",
              "                                                                            n_jobs=None,\n",
              "                                                                            penalty='l2',\n",
              "                                                                            random_state=None,\n",
              "                                                                            solver='lbfgs',\n",
              "                                                                            tol=0.0001,\n",
              "                                                                            verbose=0,\n",
              "                                                                            warm_start=False),\n",
              "                                                         RandomForestClassifier(bootstrap=Tru...\n",
              "                                            shuffle=True,\n",
              "                                            store_train_meta_features=False,\n",
              "                                            stratify=True, use_clones=True,\n",
              "                                            use_features_in_secondary=False,\n",
              "                                            use_probas=True, verbose=0),\n",
              "             iid='deprecated', n_jobs=None,\n",
              "             param_grid={'randomforestclassifier__max_depth': [2, 5, 10],\n",
              "                         'randomforestclassifier__n_estimators': [5, 10, 15]},\n",
              "             pre_dispatch='2*n_jobs', refit=True, return_train_score=False,\n",
              "             scoring=None, verbose=0)"
            ]
          },
          "metadata": {},
          "execution_count": 159
        }
      ]
    },
    {
      "cell_type": "code",
      "metadata": {
        "id": "xLhkenmi9ifW"
      },
      "source": [
        "cv_keys = ('mean_test_score', 'std_test_score', 'params')"
      ],
      "execution_count": 160,
      "outputs": []
    },
    {
      "cell_type": "code",
      "metadata": {
        "colab": {
          "base_uri": "https://localhost:8080/"
        },
        "id": "KD1CtdfU5fUq",
        "outputId": "23253b5f-03a7-4e63-f3b9-104d5f83e199"
      },
      "source": [
        "for r, _ in enumerate(grid.cv_results_['mean_test_score']):\n",
        "    print(\"%0.3f +/- %0.2f %r\"\n",
        "          % (grid.cv_results_[cv_keys[0]][r],\n",
        "             grid.cv_results_[cv_keys[1]][r] / 2.0,\n",
        "             grid.cv_results_[cv_keys[2]][r]))\n"
      ],
      "execution_count": 161,
      "outputs": [
        {
          "output_type": "stream",
          "name": "stdout",
          "text": [
            "0.743 +/- 0.00 {'randomforestclassifier__max_depth': 2, 'randomforestclassifier__n_estimators': 5}\n",
            "0.735 +/- 0.01 {'randomforestclassifier__max_depth': 2, 'randomforestclassifier__n_estimators': 10}\n",
            "0.742 +/- 0.00 {'randomforestclassifier__max_depth': 2, 'randomforestclassifier__n_estimators': 15}\n",
            "0.723 +/- 0.01 {'randomforestclassifier__max_depth': 5, 'randomforestclassifier__n_estimators': 5}\n",
            "0.710 +/- 0.01 {'randomforestclassifier__max_depth': 5, 'randomforestclassifier__n_estimators': 10}\n",
            "0.712 +/- 0.01 {'randomforestclassifier__max_depth': 5, 'randomforestclassifier__n_estimators': 15}\n",
            "0.681 +/- 0.00 {'randomforestclassifier__max_depth': 10, 'randomforestclassifier__n_estimators': 5}\n",
            "0.668 +/- 0.01 {'randomforestclassifier__max_depth': 10, 'randomforestclassifier__n_estimators': 10}\n",
            "0.658 +/- 0.01 {'randomforestclassifier__max_depth': 10, 'randomforestclassifier__n_estimators': 15}\n"
          ]
        }
      ]
    },
    {
      "cell_type": "code",
      "metadata": {
        "id": "CHHjEJKJx4qq"
      },
      "source": [
        "stacking_gender=stacking_Classifier.fit(x_train,y_train)"
      ],
      "execution_count": 162,
      "outputs": []
    },
    {
      "cell_type": "code",
      "metadata": {
        "id": "LaacofsNFrLm"
      },
      "source": [
        "best_model_gender=grid.best_estimator_"
      ],
      "execution_count": 163,
      "outputs": []
    },
    {
      "cell_type": "code",
      "metadata": {
        "id": "ZYccQKg_RQTY",
        "colab": {
          "base_uri": "https://localhost:8080/"
        },
        "outputId": "bf99dd62-1b41-41e4-a277-ae9c57392103"
      },
      "source": [
        "from google.colab import drive\n",
        "drive.mount('/content/Mydrive')"
      ],
      "execution_count": 164,
      "outputs": [
        {
          "output_type": "stream",
          "name": "stdout",
          "text": [
            "Mounted at /content/Mydrive\n"
          ]
        }
      ]
    },
    {
      "cell_type": "markdown",
      "metadata": {
        "id": "kNzSPjJJ3yaC"
      },
      "source": [
        "####Model - Best Estimator Evaluation"
      ]
    },
    {
      "cell_type": "code",
      "metadata": {
        "id": "UIHxhRB8QAbi"
      },
      "source": [
        "import pickle\n",
        "filename = 'finalized_model.sav'\n",
        "pickle.dump(best_model_gender, open(filename, 'wb'))"
      ],
      "execution_count": 165,
      "outputs": []
    },
    {
      "cell_type": "code",
      "metadata": {
        "id": "5EWct39C2Ccc"
      },
      "source": [
        "y_pred=best_model_gender.predict(x_test)"
      ],
      "execution_count": 166,
      "outputs": []
    },
    {
      "cell_type": "code",
      "metadata": {
        "colab": {
          "base_uri": "https://localhost:8080/"
        },
        "id": "sQhwzpqS2rTp",
        "outputId": "849dec66-c7d2-4c86-ca5c-386049318768"
      },
      "source": [
        "y_pred"
      ],
      "execution_count": 167,
      "outputs": [
        {
          "output_type": "execute_result",
          "data": {
            "text/plain": [
              "array([1, 1, 1, ..., 1, 1, 1])"
            ]
          },
          "metadata": {},
          "execution_count": 167
        }
      ]
    },
    {
      "cell_type": "code",
      "metadata": {
        "id": "-T3FXvrQGpHT"
      },
      "source": [
        "y_probabilites=best_model_gender.predict_proba(x_test)"
      ],
      "execution_count": 168,
      "outputs": []
    },
    {
      "cell_type": "code",
      "metadata": {
        "id": "PhLeEqLLD65A"
      },
      "source": [
        "def ks(data=None,target=None, prob=None):\n",
        "    data['target0'] = 1 - data[target]\n",
        "    data['bucket'] = pd.qcut(data[prob], 10)\n",
        "    grouped = data.groupby('bucket', as_index = False)\n",
        "    kstable = pd.DataFrame()\n",
        "    kstable['min_prob'] = grouped.min()[prob]\n",
        "    kstable['max_prob'] = grouped.max()[prob]\n",
        "    kstable['events']   = grouped.sum()[target]\n",
        "    kstable['nonevents'] = grouped.sum()['target0']\n",
        "    kstable = kstable.sort_values(by=\"min_prob\", ascending=False).reset_index(drop = True)\n",
        "    kstable['event_rate'] = (kstable.events / data[target].sum()).apply('{0:.2%}'.format)\n",
        "    kstable['nonevent_rate'] = (kstable.nonevents / data['target0'].sum()).apply('{0:.2%}'.format)\n",
        "    kstable['cum_eventrate']=(kstable.events / data[target].sum()).cumsum()\n",
        "    kstable['cum_noneventrate']=(kstable.nonevents / data['target0'].sum()).cumsum()\n",
        "    kstable['KS'] = np.round(kstable['cum_eventrate']-kstable['cum_noneventrate'], 3) * 100\n",
        "\n",
        "    #Formating\n",
        "    kstable['cum_eventrate']= kstable['cum_eventrate'].apply('{0:.2%}'.format)\n",
        "    kstable['cum_noneventrate']= kstable['cum_noneventrate'].apply('{0:.2%}'.format)\n",
        "    kstable.index = range(1,11)\n",
        "    kstable.index.rename('Decile', inplace=True)\n",
        "    pd.set_option('display.max_columns', 9)\n",
        "    print(kstable)\n",
        "    \n",
        "    #Display KS\n",
        "    from colorama import Fore\n",
        "    print(Fore.RED + \"KS is \" + str(max(kstable['KS']))+\"%\"+ \" at decile \" + str((kstable.index[kstable['KS']==max(kstable['KS'])][0])))\n",
        "    return(kstable)"
      ],
      "execution_count": 169,
      "outputs": []
    },
    {
      "cell_type": "code",
      "metadata": {
        "colab": {
          "base_uri": "https://localhost:8080/"
        },
        "id": "5jbydpPQRKsX",
        "outputId": "99068af3-cee6-4ebb-9f3f-361084247f59"
      },
      "source": [
        "y_probabilites[:, 1]"
      ],
      "execution_count": 170,
      "outputs": [
        {
          "output_type": "execute_result",
          "data": {
            "text/plain": [
              "array([0.6939397 , 0.6939397 , 0.6939397 , ..., 0.6800128 , 0.73451555,\n",
              "       0.73255736], dtype=float32)"
            ]
          },
          "metadata": {},
          "execution_count": 170
        }
      ]
    },
    {
      "cell_type": "code",
      "metadata": {
        "id": "9p_cVnN1RF0H"
      },
      "source": [
        "ks_df = pd.DataFrame(y_test)\n",
        "ks_df[\"prob\"]=y_probabilites[:, 1]\n",
        "ks_df.rename(columns={\"gender\":\"target\"},inplace=True)"
      ],
      "execution_count": 171,
      "outputs": []
    },
    {
      "cell_type": "code",
      "metadata": {
        "colab": {
          "base_uri": "https://localhost:8080/"
        },
        "id": "IcNc1RUCTjqP",
        "outputId": "1b37554a-2dc8-4206-b5c6-3e43c5a51920"
      },
      "source": [
        "ks_df.count"
      ],
      "execution_count": 172,
      "outputs": [
        {
          "output_type": "execute_result",
          "data": {
            "text/plain": [
              "<bound method DataFrame.count of         target      prob\n",
              "105725       0  0.693940\n",
              "105726       0  0.693940\n",
              "105727       0  0.693940\n",
              "105728       0  0.759146\n",
              "105729       0  0.759146\n",
              "...        ...       ...\n",
              "140833       1  0.707394\n",
              "140834       1  0.798099\n",
              "140835       1  0.680013\n",
              "140836       1  0.734516\n",
              "140837       1  0.732557\n",
              "\n",
              "[35113 rows x 2 columns]>"
            ]
          },
          "metadata": {},
          "execution_count": 172
        }
      ]
    },
    {
      "cell_type": "code",
      "metadata": {
        "id": "XyvrWcBzTCdP"
      },
      "source": [
        "\n",
        "ks_df=ks_df.drop_duplicates()"
      ],
      "execution_count": 173,
      "outputs": []
    },
    {
      "cell_type": "code",
      "metadata": {
        "colab": {
          "base_uri": "https://localhost:8080/"
        },
        "id": "r8aQJjwNU08d",
        "outputId": "32362f76-ebea-446e-b199-d16527adedc3"
      },
      "source": [
        "!pip install colorama"
      ],
      "execution_count": 174,
      "outputs": [
        {
          "output_type": "stream",
          "name": "stdout",
          "text": [
            "Collecting colorama\n",
            "  Downloading colorama-0.4.4-py2.py3-none-any.whl (16 kB)\n",
            "Installing collected packages: colorama\n",
            "Successfully installed colorama-0.4.4\n"
          ]
        }
      ]
    },
    {
      "cell_type": "code",
      "metadata": {
        "colab": {
          "base_uri": "https://localhost:8080/"
        },
        "id": "XovFJeLWQpWZ",
        "outputId": "cd88afb5-836e-4480-d5bd-f53fbd1dd1ec"
      },
      "source": [
        "mydf=ks(ks_df,\"target\",\"prob\")"
      ],
      "execution_count": 175,
      "outputs": [
        {
          "output_type": "stream",
          "name": "stdout",
          "text": [
            "        min_prob  max_prob  events  nonevents event_rate nonevent_rate  \\\n",
            "Decile                                                                   \n",
            "1       0.883939  0.998976      45         14     12.47%         6.11%   \n",
            "2       0.855243  0.883297      34         24      9.42%        10.48%   \n",
            "3       0.772271  0.853433      38         22     10.53%         9.61%   \n",
            "4       0.738865  0.769107      33         25      9.14%        10.92%   \n",
            "5       0.711800  0.738796      33         26      9.14%        11.35%   \n",
            "6       0.696629  0.710791      33         27      9.14%        11.79%   \n",
            "7       0.677840  0.696565      30         29      8.31%        12.66%   \n",
            "8       0.655141  0.676957      32         27      8.86%        11.79%   \n",
            "9       0.539342  0.654702      38         21     10.53%         9.17%   \n",
            "10      0.006617  0.514762      45         14     12.47%         6.11%   \n",
            "\n",
            "       cum_eventrate cum_noneventrate   KS  \n",
            "Decile                                      \n",
            "1             12.47%            6.11%  6.4  \n",
            "2             21.88%           16.59%  5.3  \n",
            "3             32.41%           26.20%  6.2  \n",
            "4             41.55%           37.12%  4.4  \n",
            "5             50.69%           48.47%  2.2  \n",
            "6             59.83%           60.26% -0.4  \n",
            "7             68.14%           72.93% -4.8  \n",
            "8             77.01%           84.72% -7.7  \n",
            "9             87.53%           93.89% -6.4  \n",
            "10           100.00%          100.00%  0.0  \n",
            "\u001b[31mKS is 6.4% at decile 1\n"
          ]
        }
      ]
    },
    {
      "cell_type": "code",
      "metadata": {
        "id": "sueHaahG2Qvu"
      },
      "source": [
        "from sklearn.metrics import confusion_matrix,accuracy_score,classification_report,roc_curve,auc\n",
        "conf_mat=confusion_matrix(y_test, y_pred)\n",
        "accuracy_=accuracy_score(y_test, y_pred)\n",
        "c_report_=classification_report(y_test,y_pred)\n",
        "roc=roc_curve(y_test,y_pred)\n",
        "auc_gender=auc(sorted(y_test),sorted(y_pred))"
      ],
      "execution_count": 176,
      "outputs": []
    },
    {
      "cell_type": "code",
      "metadata": {
        "colab": {
          "base_uri": "https://localhost:8080/"
        },
        "id": "NDNQ2OWt2z-f",
        "outputId": "eca693f2-ddaa-4ba4-db86-365a554f652c"
      },
      "source": [
        "print(\"\\t\\t\\tModel Evaluation for scenario 1 (All data Present)\\n\")\n",
        "print(\"confusion matrix\\n\",conf_mat)\n",
        "print(\"\\n\\nAccuracy :\",accuracy_)\n",
        "print(\"\\n\\nClassification_Report: \\n\\n\" ,c_report_)\n",
        "print(\"\\n\\nRoc Curve :\",roc)\n",
        "print(\"\\n\\nauc :\",auc_gender)\n"
      ],
      "execution_count": 177,
      "outputs": [
        {
          "output_type": "stream",
          "name": "stdout",
          "text": [
            "\t\t\tModel Evaluation for scenario 1 (All data Present)\n",
            "\n",
            "confusion matrix\n",
            " [[  264  8895]\n",
            " [  901 25053]]\n",
            "\n",
            "\n",
            "Accuracy : 0.7210150086862416\n",
            "\n",
            "\n",
            "Classification_Report: \n",
            "\n",
            "               precision    recall  f1-score   support\n",
            "\n",
            "           0       0.23      0.03      0.05      9159\n",
            "           1       0.74      0.97      0.84     25954\n",
            "\n",
            "    accuracy                           0.72     35113\n",
            "   macro avg       0.48      0.50      0.44     35113\n",
            "weighted avg       0.60      0.72      0.63     35113\n",
            "\n",
            "\n",
            "\n",
            "Roc Curve : (array([0.        , 0.97117589, 1.        ]), array([0.        , 0.96528473, 1.        ]), array([2, 1, 0]))\n",
            "\n",
            "\n",
            "auc : 1.0\n"
          ]
        }
      ]
    },
    {
      "cell_type": "code",
      "metadata": {
        "id": "CI_YkNZ7GVqA"
      },
      "source": [
        "##apply KS statistic\n",
        "y_pred=[1 if x >0.838421 else 0 for x in y_probabilites[:, 1]]"
      ],
      "execution_count": 178,
      "outputs": []
    },
    {
      "cell_type": "code",
      "metadata": {
        "id": "_I4VECuDH2kA"
      },
      "source": [
        "conf_mat=confusion_matrix(y_test, y_pred)\n",
        "accuracy_=accuracy_score(y_test, y_pred)\n",
        "c_report_=classification_report(y_test,y_pred)\n",
        "roc=roc_curve(y_test,y_pred)\n",
        "auc_gender=auc(sorted(y_test),sorted(y_pred))"
      ],
      "execution_count": 179,
      "outputs": []
    },
    {
      "cell_type": "code",
      "metadata": {
        "colab": {
          "base_uri": "https://localhost:8080/"
        },
        "id": "Xu9OS-ttH9_a",
        "outputId": "a6d3c801-1ad8-47ba-9864-b2ea3662ff87"
      },
      "source": [
        "print(\"\\t\\t\\tModel Evaluation for scenario 1 (All data Present) KS STATISTIC\\n\")\n",
        "print(\"confusion matrix\\n\",conf_mat)\n",
        "print(\"\\n\\nAccuracy :\",accuracy_)\n",
        "print(\"\\n\\nClassification_Report: \\n\\n\" ,c_report_)\n",
        "print(\"\\n\\nRoc Curve :\",roc)\n",
        "print(\"\\n\\nauc :\",auc_gender)"
      ],
      "execution_count": 180,
      "outputs": [
        {
          "output_type": "stream",
          "name": "stdout",
          "text": [
            "\t\t\tModel Evaluation for scenario 1 (All data Present) KS STATISTIC\n",
            "\n",
            "confusion matrix\n",
            " [[ 8275   884]\n",
            " [21445  4509]]\n",
            "\n",
            "\n",
            "Accuracy : 0.3640816791501723\n",
            "\n",
            "\n",
            "Classification_Report: \n",
            "\n",
            "               precision    recall  f1-score   support\n",
            "\n",
            "           0       0.28      0.90      0.43      9159\n",
            "           1       0.84      0.17      0.29     25954\n",
            "\n",
            "    accuracy                           0.36     35113\n",
            "   macro avg       0.56      0.54      0.36     35113\n",
            "weighted avg       0.69      0.36      0.32     35113\n",
            "\n",
            "\n",
            "\n",
            "Roc Curve : (array([0.        , 0.09651709, 1.        ]), array([0.        , 0.17373045, 1.        ]), array([2, 1, 0]))\n",
            "\n",
            "\n",
            "auc : 0.0\n"
          ]
        }
      ]
    },
    {
      "cell_type": "markdown",
      "metadata": {
        "id": "3rKq8SaZU3SJ"
      },
      "source": [
        "###Predicting Age\n",
        "Using Regression algorithm"
      ]
    },
    {
      "cell_type": "markdown",
      "metadata": {
        "id": "NUh1o3NW3_P8"
      },
      "source": [
        "####Model Creation"
      ]
    },
    {
      "cell_type": "code",
      "metadata": {
        "id": "SByAVH-qSepY"
      },
      "source": [
        "y_train=df1_train[\"age\"]\n",
        "y_test=df1_test[\"age\"]"
      ],
      "execution_count": 181,
      "outputs": []
    },
    {
      "cell_type": "code",
      "metadata": {
        "id": "Tg7OO2bnVhpc"
      },
      "source": [
        "x_train=df1_train.drop(columns=[\"gender\",\"age\",\"group_train\",\"super_category\",\"train_test_flag\",\"device_id\",\"phone_brand\"])\n",
        "x_test=df1_test.drop(columns=[\"gender\",\"age\",\"group_train\",\"super_category\",\"train_test_flag\",\"device_id\",\"phone_brand\"])"
      ],
      "execution_count": 182,
      "outputs": []
    },
    {
      "cell_type": "code",
      "metadata": {
        "id": "a384F7F3J17M"
      },
      "source": [
        "x_train[\"Total_No_events\"]=StandardScaler().fit_transform(x_train[[\"Total_No_events\"]])\n",
        "x_train[\"Change_in_LatLong\"]=StandardScaler().fit_transform(x_train[[\"Change_in_LatLong\"]])\n",
        "x_train[\"longitude_median\"]=StandardScaler().fit_transform(x_train[[\"longitude_median\"]])\n",
        "x_train[\"latitude_median\"]=StandardScaler().fit_transform(x_train[[\"latitude_median\"]])"
      ],
      "execution_count": 183,
      "outputs": []
    },
    {
      "cell_type": "code",
      "metadata": {
        "id": "mBovy3hxJ2ll"
      },
      "source": [
        "x_test[\"Total_No_events\"]=StandardScaler().fit_transform(x_test[[\"Total_No_events\"]])\n",
        "x_test[\"Change_in_LatLong\"]=StandardScaler().fit_transform(x_test[[\"Change_in_LatLong\"]])\n",
        "x_test[\"longitude_median\"]=StandardScaler().fit_transform(x_test[[\"longitude_median\"]])\n",
        "x_test[\"latitude_median\"]=StandardScaler().fit_transform(x_test[[\"latitude_median\"]])"
      ],
      "execution_count": 184,
      "outputs": []
    },
    {
      "cell_type": "markdown",
      "metadata": {
        "id": "E6gBpswq4NfX"
      },
      "source": [
        "####Hypermeter Tuning"
      ]
    },
    {
      "cell_type": "code",
      "metadata": {
        "id": "DV06h3SOKAHh"
      },
      "source": [
        "params_regressor = {'randomforestregressor__max_depth': [5, 10], 'randomforestregressor__n_estimators': [5,10,15],\"randomforestregressor__max_features\" : [\"auto\", \"sqrt\", \"log2\"]}"
      ],
      "execution_count": 185,
      "outputs": []
    },
    {
      "cell_type": "code",
      "metadata": {
        "id": "dPmYpY9MXMFn"
      },
      "source": [
        "x_train=x_train.values\n",
        "y_train=y_train.values"
      ],
      "execution_count": 186,
      "outputs": []
    },
    {
      "cell_type": "code",
      "metadata": {
        "id": "PqSRc04KXOHF"
      },
      "source": [
        "clf1 = LinearRegression()\n",
        "clf2 = RandomForestRegressor(random_state=1, n_estimators=10) # just for demo have taken 10 trees \n",
        "xgb = XGBRegressor()\n",
        "\n",
        "stacking_regressor = StackingCVRegressor(regressors=[clf1,clf2],meta_regressor=xgb,cv=3)"
      ],
      "execution_count": 187,
      "outputs": []
    },
    {
      "cell_type": "code",
      "metadata": {
        "colab": {
          "base_uri": "https://localhost:8080/"
        },
        "id": "TD_0YJxSXRux",
        "outputId": "39528dd0-eb78-4263-cf82-a105c4f6d4ae"
      },
      "source": [
        "for clf, label in zip([clf1, clf2, stacking_regressor], \n",
        "                      ['lr', \n",
        "                       'Random Forest', \n",
        "                       'StackingClassifier']):\n",
        "\n",
        "    scores = model_selection.cross_val_score(clf, x_train, y_train, cv=3)\n",
        "    print(\"Accuracy: %0.2f (+/- %0.2f) [%s]\" % (scores.mean(), scores.std(), label))"
      ],
      "execution_count": 188,
      "outputs": [
        {
          "output_type": "stream",
          "name": "stdout",
          "text": [
            "Accuracy: 0.02 (+/- 0.01) [lr]\n",
            "Accuracy: -0.24 (+/- 0.03) [Random Forest]\n",
            "[15:15:28] WARNING: /workspace/src/objective/regression_obj.cu:152: reg:linear is now deprecated in favor of reg:squarederror.\n",
            "[15:15:38] WARNING: /workspace/src/objective/regression_obj.cu:152: reg:linear is now deprecated in favor of reg:squarederror.\n",
            "[15:15:49] WARNING: /workspace/src/objective/regression_obj.cu:152: reg:linear is now deprecated in favor of reg:squarederror.\n",
            "Accuracy: -0.25 (+/- 0.03) [StackingClassifier]\n"
          ]
        }
      ]
    },
    {
      "cell_type": "code",
      "metadata": {
        "id": "cLjqbHRMQXku"
      },
      "source": [
        "grid = GridSearchCV(estimator=stacking_regressor, \n",
        "                    param_grid=params_regressor, \n",
        "                    cv=5,\n",
        "                    refit=True)"
      ],
      "execution_count": 189,
      "outputs": []
    },
    {
      "cell_type": "code",
      "metadata": {
        "colab": {
          "base_uri": "https://localhost:8080/"
        },
        "id": "XuQqr9_VXTzy",
        "outputId": "c5db037c-aa30-4bd3-9f04-aae62b89abe9"
      },
      "source": [
        "stacking_age=stacking_regressor.fit(x_train,y_train)"
      ],
      "execution_count": 190,
      "outputs": [
        {
          "output_type": "stream",
          "name": "stdout",
          "text": [
            "[15:16:20] WARNING: /workspace/src/objective/regression_obj.cu:152: reg:linear is now deprecated in favor of reg:squarederror.\n"
          ]
        }
      ]
    },
    {
      "cell_type": "code",
      "metadata": {
        "colab": {
          "base_uri": "https://localhost:8080/"
        },
        "id": "2KSB2lgvQiYU",
        "outputId": "6bc4c727-e620-478c-c7d8-fb9b2c4c3452"
      },
      "source": [
        "grid.fit(x_train,y_train)"
      ],
      "execution_count": 191,
      "outputs": [
        {
          "output_type": "stream",
          "name": "stdout",
          "text": [
            "[15:16:34] WARNING: /workspace/src/objective/regression_obj.cu:152: reg:linear is now deprecated in favor of reg:squarederror.\n",
            "[15:16:39] WARNING: /workspace/src/objective/regression_obj.cu:152: reg:linear is now deprecated in favor of reg:squarederror.\n",
            "[15:16:44] WARNING: /workspace/src/objective/regression_obj.cu:152: reg:linear is now deprecated in favor of reg:squarederror.\n",
            "[15:16:48] WARNING: /workspace/src/objective/regression_obj.cu:152: reg:linear is now deprecated in favor of reg:squarederror.\n",
            "[15:16:53] WARNING: /workspace/src/objective/regression_obj.cu:152: reg:linear is now deprecated in favor of reg:squarederror.\n",
            "[15:16:58] WARNING: /workspace/src/objective/regression_obj.cu:152: reg:linear is now deprecated in favor of reg:squarederror.\n",
            "[15:17:04] WARNING: /workspace/src/objective/regression_obj.cu:152: reg:linear is now deprecated in favor of reg:squarederror.\n",
            "[15:17:10] WARNING: /workspace/src/objective/regression_obj.cu:152: reg:linear is now deprecated in favor of reg:squarederror.\n",
            "[15:17:16] WARNING: /workspace/src/objective/regression_obj.cu:152: reg:linear is now deprecated in favor of reg:squarederror.\n",
            "[15:17:22] WARNING: /workspace/src/objective/regression_obj.cu:152: reg:linear is now deprecated in favor of reg:squarederror.\n",
            "[15:17:29] WARNING: /workspace/src/objective/regression_obj.cu:152: reg:linear is now deprecated in favor of reg:squarederror.\n",
            "[15:17:36] WARNING: /workspace/src/objective/regression_obj.cu:152: reg:linear is now deprecated in favor of reg:squarederror.\n",
            "[15:17:44] WARNING: /workspace/src/objective/regression_obj.cu:152: reg:linear is now deprecated in favor of reg:squarederror.\n",
            "[15:17:51] WARNING: /workspace/src/objective/regression_obj.cu:152: reg:linear is now deprecated in favor of reg:squarederror.\n",
            "[15:17:59] WARNING: /workspace/src/objective/regression_obj.cu:152: reg:linear is now deprecated in favor of reg:squarederror.\n",
            "[15:18:04] WARNING: /workspace/src/objective/regression_obj.cu:152: reg:linear is now deprecated in favor of reg:squarederror.\n",
            "[15:18:08] WARNING: /workspace/src/objective/regression_obj.cu:152: reg:linear is now deprecated in favor of reg:squarederror.\n",
            "[15:18:12] WARNING: /workspace/src/objective/regression_obj.cu:152: reg:linear is now deprecated in favor of reg:squarederror.\n",
            "[15:18:15] WARNING: /workspace/src/objective/regression_obj.cu:152: reg:linear is now deprecated in favor of reg:squarederror.\n",
            "[15:18:19] WARNING: /workspace/src/objective/regression_obj.cu:152: reg:linear is now deprecated in favor of reg:squarederror.\n",
            "[15:18:23] WARNING: /workspace/src/objective/regression_obj.cu:152: reg:linear is now deprecated in favor of reg:squarederror.\n",
            "[15:18:28] WARNING: /workspace/src/objective/regression_obj.cu:152: reg:linear is now deprecated in favor of reg:squarederror.\n",
            "[15:18:32] WARNING: /workspace/src/objective/regression_obj.cu:152: reg:linear is now deprecated in favor of reg:squarederror.\n",
            "[15:18:36] WARNING: /workspace/src/objective/regression_obj.cu:152: reg:linear is now deprecated in favor of reg:squarederror.\n",
            "[15:18:41] WARNING: /workspace/src/objective/regression_obj.cu:152: reg:linear is now deprecated in favor of reg:squarederror.\n",
            "[15:18:45] WARNING: /workspace/src/objective/regression_obj.cu:152: reg:linear is now deprecated in favor of reg:squarederror.\n",
            "[15:18:50] WARNING: /workspace/src/objective/regression_obj.cu:152: reg:linear is now deprecated in favor of reg:squarederror.\n",
            "[15:18:56] WARNING: /workspace/src/objective/regression_obj.cu:152: reg:linear is now deprecated in favor of reg:squarederror.\n",
            "[15:19:01] WARNING: /workspace/src/objective/regression_obj.cu:152: reg:linear is now deprecated in favor of reg:squarederror.\n",
            "[15:19:06] WARNING: /workspace/src/objective/regression_obj.cu:152: reg:linear is now deprecated in favor of reg:squarederror.\n",
            "[15:19:10] WARNING: /workspace/src/objective/regression_obj.cu:152: reg:linear is now deprecated in favor of reg:squarederror.\n",
            "[15:19:14] WARNING: /workspace/src/objective/regression_obj.cu:152: reg:linear is now deprecated in favor of reg:squarederror.\n",
            "[15:19:18] WARNING: /workspace/src/objective/regression_obj.cu:152: reg:linear is now deprecated in favor of reg:squarederror.\n",
            "[15:19:21] WARNING: /workspace/src/objective/regression_obj.cu:152: reg:linear is now deprecated in favor of reg:squarederror.\n",
            "[15:19:25] WARNING: /workspace/src/objective/regression_obj.cu:152: reg:linear is now deprecated in favor of reg:squarederror.\n",
            "[15:19:29] WARNING: /workspace/src/objective/regression_obj.cu:152: reg:linear is now deprecated in favor of reg:squarederror.\n",
            "[15:19:34] WARNING: /workspace/src/objective/regression_obj.cu:152: reg:linear is now deprecated in favor of reg:squarederror.\n",
            "[15:19:38] WARNING: /workspace/src/objective/regression_obj.cu:152: reg:linear is now deprecated in favor of reg:squarederror.\n",
            "[15:19:42] WARNING: /workspace/src/objective/regression_obj.cu:152: reg:linear is now deprecated in favor of reg:squarederror.\n",
            "[15:19:47] WARNING: /workspace/src/objective/regression_obj.cu:152: reg:linear is now deprecated in favor of reg:squarederror.\n",
            "[15:19:51] WARNING: /workspace/src/objective/regression_obj.cu:152: reg:linear is now deprecated in favor of reg:squarederror.\n",
            "[15:19:56] WARNING: /workspace/src/objective/regression_obj.cu:152: reg:linear is now deprecated in favor of reg:squarederror.\n",
            "[15:20:01] WARNING: /workspace/src/objective/regression_obj.cu:152: reg:linear is now deprecated in favor of reg:squarederror.\n",
            "[15:20:06] WARNING: /workspace/src/objective/regression_obj.cu:152: reg:linear is now deprecated in favor of reg:squarederror.\n",
            "[15:20:11] WARNING: /workspace/src/objective/regression_obj.cu:152: reg:linear is now deprecated in favor of reg:squarederror.\n",
            "[15:20:17] WARNING: /workspace/src/objective/regression_obj.cu:152: reg:linear is now deprecated in favor of reg:squarederror.\n",
            "[15:20:22] WARNING: /workspace/src/objective/regression_obj.cu:152: reg:linear is now deprecated in favor of reg:squarederror.\n",
            "[15:20:28] WARNING: /workspace/src/objective/regression_obj.cu:152: reg:linear is now deprecated in favor of reg:squarederror.\n",
            "[15:20:34] WARNING: /workspace/src/objective/regression_obj.cu:152: reg:linear is now deprecated in favor of reg:squarederror.\n",
            "[15:20:39] WARNING: /workspace/src/objective/regression_obj.cu:152: reg:linear is now deprecated in favor of reg:squarederror.\n",
            "[15:20:47] WARNING: /workspace/src/objective/regression_obj.cu:152: reg:linear is now deprecated in favor of reg:squarederror.\n",
            "[15:20:55] WARNING: /workspace/src/objective/regression_obj.cu:152: reg:linear is now deprecated in favor of reg:squarederror.\n",
            "[15:21:03] WARNING: /workspace/src/objective/regression_obj.cu:152: reg:linear is now deprecated in favor of reg:squarederror.\n",
            "[15:21:12] WARNING: /workspace/src/objective/regression_obj.cu:152: reg:linear is now deprecated in favor of reg:squarederror.\n",
            "[15:21:20] WARNING: /workspace/src/objective/regression_obj.cu:152: reg:linear is now deprecated in favor of reg:squarederror.\n",
            "[15:21:30] WARNING: /workspace/src/objective/regression_obj.cu:152: reg:linear is now deprecated in favor of reg:squarederror.\n",
            "[15:21:41] WARNING: /workspace/src/objective/regression_obj.cu:152: reg:linear is now deprecated in favor of reg:squarederror.\n",
            "[15:21:53] WARNING: /workspace/src/objective/regression_obj.cu:152: reg:linear is now deprecated in favor of reg:squarederror.\n",
            "[15:22:04] WARNING: /workspace/src/objective/regression_obj.cu:152: reg:linear is now deprecated in favor of reg:squarederror.\n",
            "[15:22:15] WARNING: /workspace/src/objective/regression_obj.cu:152: reg:linear is now deprecated in favor of reg:squarederror.\n",
            "[15:22:21] WARNING: /workspace/src/objective/regression_obj.cu:152: reg:linear is now deprecated in favor of reg:squarederror.\n",
            "[15:22:25] WARNING: /workspace/src/objective/regression_obj.cu:152: reg:linear is now deprecated in favor of reg:squarederror.\n",
            "[15:22:29] WARNING: /workspace/src/objective/regression_obj.cu:152: reg:linear is now deprecated in favor of reg:squarederror.\n",
            "[15:22:33] WARNING: /workspace/src/objective/regression_obj.cu:152: reg:linear is now deprecated in favor of reg:squarederror.\n",
            "[15:22:38] WARNING: /workspace/src/objective/regression_obj.cu:152: reg:linear is now deprecated in favor of reg:squarederror.\n",
            "[15:22:42] WARNING: /workspace/src/objective/regression_obj.cu:152: reg:linear is now deprecated in favor of reg:squarederror.\n",
            "[15:22:48] WARNING: /workspace/src/objective/regression_obj.cu:152: reg:linear is now deprecated in favor of reg:squarederror.\n",
            "[15:22:53] WARNING: /workspace/src/objective/regression_obj.cu:152: reg:linear is now deprecated in favor of reg:squarederror.\n",
            "[15:22:58] WARNING: /workspace/src/objective/regression_obj.cu:152: reg:linear is now deprecated in favor of reg:squarederror.\n",
            "[15:23:04] WARNING: /workspace/src/objective/regression_obj.cu:152: reg:linear is now deprecated in favor of reg:squarederror.\n",
            "[15:23:10] WARNING: /workspace/src/objective/regression_obj.cu:152: reg:linear is now deprecated in favor of reg:squarederror.\n",
            "[15:23:16] WARNING: /workspace/src/objective/regression_obj.cu:152: reg:linear is now deprecated in favor of reg:squarederror.\n",
            "[15:23:23] WARNING: /workspace/src/objective/regression_obj.cu:152: reg:linear is now deprecated in favor of reg:squarederror.\n",
            "[15:23:29] WARNING: /workspace/src/objective/regression_obj.cu:152: reg:linear is now deprecated in favor of reg:squarederror.\n",
            "[15:23:36] WARNING: /workspace/src/objective/regression_obj.cu:152: reg:linear is now deprecated in favor of reg:squarederror.\n",
            "[15:23:41] WARNING: /workspace/src/objective/regression_obj.cu:152: reg:linear is now deprecated in favor of reg:squarederror.\n",
            "[15:23:45] WARNING: /workspace/src/objective/regression_obj.cu:152: reg:linear is now deprecated in favor of reg:squarederror.\n",
            "[15:23:49] WARNING: /workspace/src/objective/regression_obj.cu:152: reg:linear is now deprecated in favor of reg:squarederror.\n",
            "[15:23:54] WARNING: /workspace/src/objective/regression_obj.cu:152: reg:linear is now deprecated in favor of reg:squarederror.\n",
            "[15:23:58] WARNING: /workspace/src/objective/regression_obj.cu:152: reg:linear is now deprecated in favor of reg:squarederror.\n",
            "[15:24:03] WARNING: /workspace/src/objective/regression_obj.cu:152: reg:linear is now deprecated in favor of reg:squarederror.\n",
            "[15:24:08] WARNING: /workspace/src/objective/regression_obj.cu:152: reg:linear is now deprecated in favor of reg:squarederror.\n",
            "[15:24:14] WARNING: /workspace/src/objective/regression_obj.cu:152: reg:linear is now deprecated in favor of reg:squarederror.\n",
            "[15:24:19] WARNING: /workspace/src/objective/regression_obj.cu:152: reg:linear is now deprecated in favor of reg:squarederror.\n",
            "[15:24:25] WARNING: /workspace/src/objective/regression_obj.cu:152: reg:linear is now deprecated in favor of reg:squarederror.\n",
            "[15:24:31] WARNING: /workspace/src/objective/regression_obj.cu:152: reg:linear is now deprecated in favor of reg:squarederror.\n",
            "[15:24:37] WARNING: /workspace/src/objective/regression_obj.cu:152: reg:linear is now deprecated in favor of reg:squarederror.\n",
            "[15:24:44] WARNING: /workspace/src/objective/regression_obj.cu:152: reg:linear is now deprecated in favor of reg:squarederror.\n",
            "[15:24:51] WARNING: /workspace/src/objective/regression_obj.cu:152: reg:linear is now deprecated in favor of reg:squarederror.\n",
            "[15:24:57] WARNING: /workspace/src/objective/regression_obj.cu:152: reg:linear is now deprecated in favor of reg:squarederror.\n",
            "[15:25:03] WARNING: /workspace/src/objective/regression_obj.cu:152: reg:linear is now deprecated in favor of reg:squarederror.\n"
          ]
        },
        {
          "output_type": "execute_result",
          "data": {
            "text/plain": [
              "GridSearchCV(cv=5, error_score=nan,\n",
              "             estimator=StackingCVRegressor(cv=3,\n",
              "                                           meta_regressor=XGBRegressor(base_score=0.5,\n",
              "                                                                       booster='gbtree',\n",
              "                                                                       colsample_bylevel=1,\n",
              "                                                                       colsample_bynode=1,\n",
              "                                                                       colsample_bytree=1,\n",
              "                                                                       gamma=0,\n",
              "                                                                       importance_type='gain',\n",
              "                                                                       learning_rate=0.1,\n",
              "                                                                       max_delta_step=0,\n",
              "                                                                       max_depth=3,\n",
              "                                                                       min_child_weight=1,\n",
              "                                                                       missing=None,\n",
              "                                                                       n_estimators=100,\n",
              "                                                                       n_jobs=1,\n",
              "                                                                       nthread=None,\n",
              "                                                                       objective='reg...\n",
              "                                           shuffle=True,\n",
              "                                           store_train_meta_features=False,\n",
              "                                           use_features_in_secondary=False),\n",
              "             iid='deprecated', n_jobs=None,\n",
              "             param_grid={'randomforestregressor__max_depth': [5, 10],\n",
              "                         'randomforestregressor__max_features': ['auto', 'sqrt',\n",
              "                                                                 'log2'],\n",
              "                         'randomforestregressor__n_estimators': [5, 10, 15]},\n",
              "             pre_dispatch='2*n_jobs', refit=True, return_train_score=False,\n",
              "             scoring=None, verbose=0)"
            ]
          },
          "metadata": {},
          "execution_count": 191
        }
      ]
    },
    {
      "cell_type": "code",
      "metadata": {
        "colab": {
          "base_uri": "https://localhost:8080/"
        },
        "id": "BtjaNNw_Ryga",
        "outputId": "5de17b58-a139-4f5d-b912-728f1ac2acea"
      },
      "source": [
        "cv_keys = ('mean_test_score', 'std_test_score', 'params')\n",
        "for r, _ in enumerate(grid.cv_results_['mean_test_score']):\n",
        "    print(\"%0.3f +/- %0.2f %r\"\n",
        "          % (grid.cv_results_[cv_keys[0]][r],\n",
        "             grid.cv_results_[cv_keys[1]][r] / 2.0,\n",
        "             grid.cv_results_[cv_keys[2]][r]))"
      ],
      "execution_count": 192,
      "outputs": [
        {
          "output_type": "stream",
          "name": "stdout",
          "text": [
            "-0.068 +/- 0.01 {'randomforestregressor__max_depth': 5, 'randomforestregressor__max_features': 'auto', 'randomforestregressor__n_estimators': 5}\n",
            "-0.080 +/- 0.02 {'randomforestregressor__max_depth': 5, 'randomforestregressor__max_features': 'auto', 'randomforestregressor__n_estimators': 10}\n",
            "-0.069 +/- 0.02 {'randomforestregressor__max_depth': 5, 'randomforestregressor__max_features': 'auto', 'randomforestregressor__n_estimators': 15}\n",
            "-0.048 +/- 0.01 {'randomforestregressor__max_depth': 5, 'randomforestregressor__max_features': 'sqrt', 'randomforestregressor__n_estimators': 5}\n",
            "-0.048 +/- 0.02 {'randomforestregressor__max_depth': 5, 'randomforestregressor__max_features': 'sqrt', 'randomforestregressor__n_estimators': 10}\n",
            "-0.055 +/- 0.02 {'randomforestregressor__max_depth': 5, 'randomforestregressor__max_features': 'sqrt', 'randomforestregressor__n_estimators': 15}\n",
            "-0.052 +/- 0.02 {'randomforestregressor__max_depth': 5, 'randomforestregressor__max_features': 'log2', 'randomforestregressor__n_estimators': 5}\n",
            "-0.051 +/- 0.03 {'randomforestregressor__max_depth': 5, 'randomforestregressor__max_features': 'log2', 'randomforestregressor__n_estimators': 10}\n",
            "-0.064 +/- 0.02 {'randomforestregressor__max_depth': 5, 'randomforestregressor__max_features': 'log2', 'randomforestregressor__n_estimators': 15}\n",
            "-0.198 +/- 0.02 {'randomforestregressor__max_depth': 10, 'randomforestregressor__max_features': 'auto', 'randomforestregressor__n_estimators': 5}\n",
            "-0.206 +/- 0.03 {'randomforestregressor__max_depth': 10, 'randomforestregressor__max_features': 'auto', 'randomforestregressor__n_estimators': 10}\n",
            "-0.194 +/- 0.03 {'randomforestregressor__max_depth': 10, 'randomforestregressor__max_features': 'auto', 'randomforestregressor__n_estimators': 15}\n",
            "-0.100 +/- 0.01 {'randomforestregressor__max_depth': 10, 'randomforestregressor__max_features': 'sqrt', 'randomforestregressor__n_estimators': 5}\n",
            "-0.114 +/- 0.02 {'randomforestregressor__max_depth': 10, 'randomforestregressor__max_features': 'sqrt', 'randomforestregressor__n_estimators': 10}\n",
            "-0.115 +/- 0.02 {'randomforestregressor__max_depth': 10, 'randomforestregressor__max_features': 'sqrt', 'randomforestregressor__n_estimators': 15}\n",
            "-0.110 +/- 0.01 {'randomforestregressor__max_depth': 10, 'randomforestregressor__max_features': 'log2', 'randomforestregressor__n_estimators': 5}\n",
            "-0.115 +/- 0.02 {'randomforestregressor__max_depth': 10, 'randomforestregressor__max_features': 'log2', 'randomforestregressor__n_estimators': 10}\n",
            "-0.107 +/- 0.02 {'randomforestregressor__max_depth': 10, 'randomforestregressor__max_features': 'log2', 'randomforestregressor__n_estimators': 15}\n"
          ]
        }
      ]
    },
    {
      "cell_type": "markdown",
      "metadata": {
        "id": "D-MpQ7TZ4XwN"
      },
      "source": [
        "####Model - Best Estimator Evaluation"
      ]
    },
    {
      "cell_type": "code",
      "metadata": {
        "id": "9Wg3TnCrWOz-"
      },
      "source": [
        "best_model_age=grid.best_estimator_"
      ],
      "execution_count": 193,
      "outputs": []
    },
    {
      "cell_type": "code",
      "metadata": {
        "id": "kOoBTXtesk-Z"
      },
      "source": [
        "y_pred=best_model_age.predict(x_test)"
      ],
      "execution_count": 194,
      "outputs": []
    },
    {
      "cell_type": "code",
      "metadata": {
        "id": "8gGR4oAxSV47"
      },
      "source": [
        "filename = 'finalized_model_age.sav'\n",
        "pickle.dump(best_model_age, open(filename, 'wb'))"
      ],
      "execution_count": 195,
      "outputs": []
    },
    {
      "cell_type": "code",
      "metadata": {
        "colab": {
          "base_uri": "https://localhost:8080/"
        },
        "id": "WduA05Mw38M9",
        "outputId": "cca2c3ea-ded9-473e-d25e-4e8e194fedc5"
      },
      "source": [
        "\n",
        "y_pred"
      ],
      "execution_count": 196,
      "outputs": [
        {
          "output_type": "execute_result",
          "data": {
            "text/plain": [
              "array([32.26854 , 32.34313 , 32.20648 , ..., 32.930786, 34.442814,\n",
              "       33.92132 ], dtype=float32)"
            ]
          },
          "metadata": {},
          "execution_count": 196
        }
      ]
    },
    {
      "cell_type": "code",
      "metadata": {
        "id": "MJnXa0py3mKt"
      },
      "source": [
        "from sklearn.metrics import r2_score,mean_squared_error\n",
        "accuracy=r2_score(y_test, y_pred)\n",
        "rmse=mean_squared_error(y_test,y_pred)"
      ],
      "execution_count": 197,
      "outputs": []
    },
    {
      "cell_type": "code",
      "metadata": {
        "colab": {
          "base_uri": "https://localhost:8080/"
        },
        "id": "Iu_7jYZEWJl2",
        "outputId": "378bcc2a-53dc-4b91-f079-88c37811bb4e"
      },
      "source": [
        "print(\"\\t\\t\\tModel Evaluation for scenario 1 (All data Present)\\n\")\n",
        "print(\"r2_score:\",accuracy)\n",
        "print(\"\\n\\rmse :\",rmse)"
      ],
      "execution_count": 198,
      "outputs": [
        {
          "output_type": "stream",
          "name": "stdout",
          "text": [
            "\t\t\tModel Evaluation for scenario 1 (All data Present)\n",
            "\n",
            "r2_score: -0.03542143021611843\n",
            "\n",
            "\rmse : 101.15538747189744\n"
          ]
        }
      ]
    },
    {
      "cell_type": "code",
      "metadata": {
        "id": "NQv82N2WWo7Z"
      },
      "source": [
        "df_age=pd.DataFrame(y_test)\n",
        "df_age[\"pred\"]=y_pred"
      ],
      "execution_count": 199,
      "outputs": []
    },
    {
      "cell_type": "code",
      "metadata": {
        "id": "4-b2en1mW2eL"
      },
      "source": [
        "df_age[\"perc\"]=((df_age[\"age\"]-df_age[\"pred\"])/df_age[\"age\"])*100"
      ],
      "execution_count": 200,
      "outputs": []
    },
    {
      "cell_type": "code",
      "metadata": {
        "colab": {
          "base_uri": "https://localhost:8080/"
        },
        "id": "Oi0bIXWkWw6e",
        "outputId": "f6e23a05-fc79-43aa-8d63-0e079bedf155"
      },
      "source": [
        "##percentage_population_distribution \n",
        "df_age[df_age[\"perc\"].between(-25,25)].count()[\"perc\"]/df_age.count()"
      ],
      "execution_count": 201,
      "outputs": [
        {
          "output_type": "execute_result",
          "data": {
            "text/plain": [
              "age     0.611369\n",
              "pred    0.611369\n",
              "perc    0.611369\n",
              "dtype: float64"
            ]
          },
          "metadata": {},
          "execution_count": 201
        }
      ]
    },
    {
      "cell_type": "markdown",
      "metadata": {
        "id": "IW2AxxftxB5x"
      },
      "source": [
        "##Model Analysis\n",
        "Using Scenario2(Only phone data available)"
      ]
    },
    {
      "cell_type": "markdown",
      "metadata": {
        "id": "04gz6N0D2xoa"
      },
      "source": [
        "###Data Preparation"
      ]
    },
    {
      "cell_type": "code",
      "metadata": {
        "colab": {
          "base_uri": "https://localhost:8080/",
          "height": 232
        },
        "id": "32fTMuYf3rMB",
        "outputId": "2bd23a38-aa65-450d-eb24-c69c1d1614e4"
      },
      "source": [
        "df_only_phone_data.head()"
      ],
      "execution_count": 202,
      "outputs": [
        {
          "output_type": "execute_result",
          "data": {
            "text/html": [
              "<div>\n",
              "<style scoped>\n",
              "    .dataframe tbody tr th:only-of-type {\n",
              "        vertical-align: middle;\n",
              "    }\n",
              "\n",
              "    .dataframe tbody tr th {\n",
              "        vertical-align: top;\n",
              "    }\n",
              "\n",
              "    .dataframe thead th {\n",
              "        text-align: right;\n",
              "    }\n",
              "</style>\n",
              "<table border=\"1\" class=\"dataframe\">\n",
              "  <thead>\n",
              "    <tr style=\"text-align: right;\">\n",
              "      <th></th>\n",
              "      <th>device_id</th>\n",
              "      <th>gender</th>\n",
              "      <th>age</th>\n",
              "      <th>group_train</th>\n",
              "      <th>...</th>\n",
              "      <th>hour</th>\n",
              "      <th>phone_brand</th>\n",
              "      <th>device_model</th>\n",
              "      <th>train_test_flag</th>\n",
              "    </tr>\n",
              "  </thead>\n",
              "  <tbody>\n",
              "    <tr>\n",
              "      <th>1215616</th>\n",
              "      <td>398514470209561000</td>\n",
              "      <td>M</td>\n",
              "      <td>68</td>\n",
              "      <td>M32+</td>\n",
              "      <td>...</td>\n",
              "      <td>NaN</td>\n",
              "      <td>Huawei</td>\n",
              "      <td>è£è€€ç•…çŽ©4X</td>\n",
              "      <td>train</td>\n",
              "    </tr>\n",
              "    <tr>\n",
              "      <th>1215617</th>\n",
              "      <td>-3073918292047050000</td>\n",
              "      <td>M</td>\n",
              "      <td>27</td>\n",
              "      <td>M25-32</td>\n",
              "      <td>...</td>\n",
              "      <td>NaN</td>\n",
              "      <td>Huawei</td>\n",
              "      <td>è£è€€ç•…çŽ©4C</td>\n",
              "      <td>train</td>\n",
              "    </tr>\n",
              "    <tr>\n",
              "      <th>1215618</th>\n",
              "      <td>5805880616488060000</td>\n",
              "      <td>M</td>\n",
              "      <td>39</td>\n",
              "      <td>M32+</td>\n",
              "      <td>...</td>\n",
              "      <td>NaN</td>\n",
              "      <td>lshi</td>\n",
              "      <td>è¶…çº§æ‰‹æœº1</td>\n",
              "      <td>train</td>\n",
              "    </tr>\n",
              "    <tr>\n",
              "      <th>1215619</th>\n",
              "      <td>-2403560729305410000</td>\n",
              "      <td>M</td>\n",
              "      <td>25</td>\n",
              "      <td>M25-32</td>\n",
              "      <td>...</td>\n",
              "      <td>NaN</td>\n",
              "      <td>nibilu</td>\n",
              "      <td>ç«æ˜Ÿä¸€å·</td>\n",
              "      <td>train</td>\n",
              "    </tr>\n",
              "    <tr>\n",
              "      <th>1215620</th>\n",
              "      <td>-1889893391998300000</td>\n",
              "      <td>M</td>\n",
              "      <td>22</td>\n",
              "      <td>M0-24</td>\n",
              "      <td>...</td>\n",
              "      <td>NaN</td>\n",
              "      <td>Huawei</td>\n",
              "      <td>è£è€€3Xç•…çŽ©ç‰ˆ</td>\n",
              "      <td>train</td>\n",
              "    </tr>\n",
              "  </tbody>\n",
              "</table>\n",
              "<p>5 rows × 14 columns</p>\n",
              "</div>"
            ],
            "text/plain": [
              "                   device_id gender  age group_train  ...  hour phone_brand  \\\n",
              "1215616   398514470209561000      M   68        M32+  ...   NaN      Huawei   \n",
              "1215617 -3073918292047050000      M   27      M25-32  ...   NaN      Huawei   \n",
              "1215618  5805880616488060000      M   39        M32+  ...   NaN        lshi   \n",
              "1215619 -2403560729305410000      M   25      M25-32  ...   NaN      nibilu   \n",
              "1215620 -1889893391998300000      M   22       M0-24  ...   NaN      Huawei   \n",
              "\n",
              "              device_model  train_test_flag  \n",
              "1215616     è£è€€ç•…çŽ©4X            train  \n",
              "1215617     è£è€€ç•…çŽ©4C            train  \n",
              "1215618      è¶…çº§æ‰‹æœº1            train  \n",
              "1215619       ç«æ˜Ÿä¸€å·            train  \n",
              "1215620  è£è€€3Xç•…çŽ©ç‰ˆ            train  \n",
              "\n",
              "[5 rows x 14 columns]"
            ]
          },
          "metadata": {},
          "execution_count": 202
        }
      ]
    },
    {
      "cell_type": "code",
      "metadata": {
        "id": "seQ8ybojLEMD"
      },
      "source": [
        "df_only_phone_data.drop(columns=[\"event_id\",\"timestamp\",\"longitude\",\"latitude\",\"flag\",\"day_of_week\",\"hour\",\"group_train\"],inplace=True)"
      ],
      "execution_count": 203,
      "outputs": []
    },
    {
      "cell_type": "code",
      "metadata": {
        "colab": {
          "base_uri": "https://localhost:8080/",
          "height": 203
        },
        "id": "hVAZP_dcxkM2",
        "outputId": "e5e04f77-8afe-4374-a656-66ce0bb48917"
      },
      "source": [
        "df_only_phone_data.head()"
      ],
      "execution_count": 204,
      "outputs": [
        {
          "output_type": "execute_result",
          "data": {
            "text/html": [
              "<div>\n",
              "<style scoped>\n",
              "    .dataframe tbody tr th:only-of-type {\n",
              "        vertical-align: middle;\n",
              "    }\n",
              "\n",
              "    .dataframe tbody tr th {\n",
              "        vertical-align: top;\n",
              "    }\n",
              "\n",
              "    .dataframe thead th {\n",
              "        text-align: right;\n",
              "    }\n",
              "</style>\n",
              "<table border=\"1\" class=\"dataframe\">\n",
              "  <thead>\n",
              "    <tr style=\"text-align: right;\">\n",
              "      <th></th>\n",
              "      <th>device_id</th>\n",
              "      <th>gender</th>\n",
              "      <th>age</th>\n",
              "      <th>phone_brand</th>\n",
              "      <th>device_model</th>\n",
              "      <th>train_test_flag</th>\n",
              "    </tr>\n",
              "  </thead>\n",
              "  <tbody>\n",
              "    <tr>\n",
              "      <th>1215616</th>\n",
              "      <td>398514470209561000</td>\n",
              "      <td>M</td>\n",
              "      <td>68</td>\n",
              "      <td>Huawei</td>\n",
              "      <td>è£è€€ç•…çŽ©4X</td>\n",
              "      <td>train</td>\n",
              "    </tr>\n",
              "    <tr>\n",
              "      <th>1215617</th>\n",
              "      <td>-3073918292047050000</td>\n",
              "      <td>M</td>\n",
              "      <td>27</td>\n",
              "      <td>Huawei</td>\n",
              "      <td>è£è€€ç•…çŽ©4C</td>\n",
              "      <td>train</td>\n",
              "    </tr>\n",
              "    <tr>\n",
              "      <th>1215618</th>\n",
              "      <td>5805880616488060000</td>\n",
              "      <td>M</td>\n",
              "      <td>39</td>\n",
              "      <td>lshi</td>\n",
              "      <td>è¶…çº§æ‰‹æœº1</td>\n",
              "      <td>train</td>\n",
              "    </tr>\n",
              "    <tr>\n",
              "      <th>1215619</th>\n",
              "      <td>-2403560729305410000</td>\n",
              "      <td>M</td>\n",
              "      <td>25</td>\n",
              "      <td>nibilu</td>\n",
              "      <td>ç«æ˜Ÿä¸€å·</td>\n",
              "      <td>train</td>\n",
              "    </tr>\n",
              "    <tr>\n",
              "      <th>1215620</th>\n",
              "      <td>-1889893391998300000</td>\n",
              "      <td>M</td>\n",
              "      <td>22</td>\n",
              "      <td>Huawei</td>\n",
              "      <td>è£è€€3Xç•…çŽ©ç‰ˆ</td>\n",
              "      <td>train</td>\n",
              "    </tr>\n",
              "  </tbody>\n",
              "</table>\n",
              "</div>"
            ],
            "text/plain": [
              "                   device_id gender  age phone_brand       device_model  \\\n",
              "1215616   398514470209561000      M   68      Huawei     è£è€€ç•…çŽ©4X   \n",
              "1215617 -3073918292047050000      M   27      Huawei     è£è€€ç•…çŽ©4C   \n",
              "1215618  5805880616488060000      M   39        lshi      è¶…çº§æ‰‹æœº1   \n",
              "1215619 -2403560729305410000      M   25      nibilu       ç«æ˜Ÿä¸€å·   \n",
              "1215620 -1889893391998300000      M   22      Huawei  è£è€€3Xç•…çŽ©ç‰ˆ   \n",
              "\n",
              "        train_test_flag  \n",
              "1215616           train  \n",
              "1215617           train  \n",
              "1215618           train  \n",
              "1215619           train  \n",
              "1215620           train  "
            ]
          },
          "metadata": {},
          "execution_count": 204
        }
      ]
    },
    {
      "cell_type": "code",
      "metadata": {
        "id": "0TY64JaDxxXc"
      },
      "source": [
        "import re\n",
        "def strip_character(word):\n",
        "    r = re.compile(r'[^a-zA-Z !@#$%&*_+-=|\\:\";<>,./()[\\]{}\\']')\n",
        "    return r.sub('', word)\n",
        "\n",
        "df_only_phone_data['device_model'] = df_only_phone_data['device_model'].apply(strip_character)\n"
      ],
      "execution_count": 205,
      "outputs": []
    },
    {
      "cell_type": "code",
      "metadata": {
        "id": "4RxgOTb44JN0"
      },
      "source": [
        "df_only_phone_data=df_only_phone_data[~(df_only_phone_data[\"device_model\"]=='')]"
      ],
      "execution_count": 206,
      "outputs": []
    },
    {
      "cell_type": "code",
      "metadata": {
        "id": "c_P2s7XHzWrx"
      },
      "source": [
        "values=df_only_phone_data[\"phone_brand\"]"
      ],
      "execution_count": 207,
      "outputs": []
    },
    {
      "cell_type": "code",
      "metadata": {
        "id": "T1QLEIzHzVH-"
      },
      "source": [
        "label_encoder = LabelEncoder()\n",
        "integer_encoded = label_encoder.fit_transform(values)"
      ],
      "execution_count": 208,
      "outputs": []
    },
    {
      "cell_type": "code",
      "metadata": {
        "id": "Bky8Cd6czslV"
      },
      "source": [
        "df_only_phone_data[\"phone_brand_en\"]=integer_encoded"
      ],
      "execution_count": 209,
      "outputs": []
    },
    {
      "cell_type": "code",
      "metadata": {
        "id": "Am7cEZrJyW1v"
      },
      "source": [
        "values=df_only_phone_data[\"device_model\"]\n",
        "label_encoder = LabelEncoder()\n",
        "integer_encoded = label_encoder.fit_transform(values)\n",
        "df_only_phone_data[\"device_model_en\"]=integer_encoded"
      ],
      "execution_count": 210,
      "outputs": []
    },
    {
      "cell_type": "code",
      "metadata": {
        "id": "qOYgYK9v0MVA"
      },
      "source": [
        "df_only_phone_data.drop(columns=[\"phone_brand\",\"device_model\",\"device_id\"],inplace=True)"
      ],
      "execution_count": 211,
      "outputs": []
    },
    {
      "cell_type": "code",
      "metadata": {
        "id": "NME9MJhh0g1w"
      },
      "source": [
        "df_only_phone_data=df_only_phone_data.drop_duplicates()"
      ],
      "execution_count": 212,
      "outputs": []
    },
    {
      "cell_type": "code",
      "metadata": {
        "colab": {
          "base_uri": "https://localhost:8080/",
          "height": 203
        },
        "id": "5VEoTvc-0TWl",
        "outputId": "9f94e805-4507-4578-a593-46a283abf207"
      },
      "source": [
        "df_only_phone_data.head()"
      ],
      "execution_count": 213,
      "outputs": [
        {
          "output_type": "execute_result",
          "data": {
            "text/html": [
              "<div>\n",
              "<style scoped>\n",
              "    .dataframe tbody tr th:only-of-type {\n",
              "        vertical-align: middle;\n",
              "    }\n",
              "\n",
              "    .dataframe tbody tr th {\n",
              "        vertical-align: top;\n",
              "    }\n",
              "\n",
              "    .dataframe thead th {\n",
              "        text-align: right;\n",
              "    }\n",
              "</style>\n",
              "<table border=\"1\" class=\"dataframe\">\n",
              "  <thead>\n",
              "    <tr style=\"text-align: right;\">\n",
              "      <th></th>\n",
              "      <th>gender</th>\n",
              "      <th>age</th>\n",
              "      <th>train_test_flag</th>\n",
              "      <th>phone_brand_en</th>\n",
              "      <th>device_model_en</th>\n",
              "    </tr>\n",
              "  </thead>\n",
              "  <tbody>\n",
              "    <tr>\n",
              "      <th>1215616</th>\n",
              "      <td>M</td>\n",
              "      <td>68</td>\n",
              "      <td>train</td>\n",
              "      <td>9</td>\n",
              "      <td>35</td>\n",
              "    </tr>\n",
              "    <tr>\n",
              "      <th>1215617</th>\n",
              "      <td>M</td>\n",
              "      <td>27</td>\n",
              "      <td>train</td>\n",
              "      <td>9</td>\n",
              "      <td>34</td>\n",
              "    </tr>\n",
              "    <tr>\n",
              "      <th>1215618</th>\n",
              "      <td>M</td>\n",
              "      <td>39</td>\n",
              "      <td>train</td>\n",
              "      <td>62</td>\n",
              "      <td>10</td>\n",
              "    </tr>\n",
              "    <tr>\n",
              "      <th>1215620</th>\n",
              "      <td>M</td>\n",
              "      <td>22</td>\n",
              "      <td>train</td>\n",
              "      <td>9</td>\n",
              "      <td>29</td>\n",
              "    </tr>\n",
              "    <tr>\n",
              "      <th>1215621</th>\n",
              "      <td>F</td>\n",
              "      <td>18</td>\n",
              "      <td>train</td>\n",
              "      <td>22</td>\n",
              "      <td>863</td>\n",
              "    </tr>\n",
              "  </tbody>\n",
              "</table>\n",
              "</div>"
            ],
            "text/plain": [
              "        gender  age train_test_flag  phone_brand_en  device_model_en\n",
              "1215616      M   68           train               9               35\n",
              "1215617      M   27           train               9               34\n",
              "1215618      M   39           train              62               10\n",
              "1215620      M   22           train               9               29\n",
              "1215621      F   18           train              22              863"
            ]
          },
          "metadata": {},
          "execution_count": 213
        }
      ]
    },
    {
      "cell_type": "code",
      "metadata": {
        "colab": {
          "base_uri": "https://localhost:8080/"
        },
        "id": "kbHTPA-90Vex",
        "outputId": "111c3f17-c77b-4267-8fcc-f132788b0dfc"
      },
      "source": [
        "df_only_phone_data.count()"
      ],
      "execution_count": 214,
      "outputs": [
        {
          "output_type": "execute_result",
          "data": {
            "text/plain": [
              "gender             21976\n",
              "age                21976\n",
              "train_test_flag    21976\n",
              "phone_brand_en     21976\n",
              "device_model_en    21976\n",
              "dtype: int64"
            ]
          },
          "metadata": {},
          "execution_count": 214
        }
      ]
    },
    {
      "cell_type": "code",
      "metadata": {
        "id": "weBkh_rI0r7Z"
      },
      "source": [
        "df_only_phone_data[\"gender\"]=df_only_phone_data[\"gender\"].apply(lambda x : 0 if x=='F' else 1)"
      ],
      "execution_count": 215,
      "outputs": []
    },
    {
      "cell_type": "markdown",
      "metadata": {
        "id": "rBYFBpWd1BKx"
      },
      "source": [
        "###Predicting Gender and Evaluation"
      ]
    },
    {
      "cell_type": "code",
      "metadata": {
        "id": "7QopZ4plG47t"
      },
      "source": [
        "df_only_phone_data_train=df_only_phone_data[df_only_phone_data[\"train_test_flag\"]==\"train\"]\n",
        "df_only_phone_data_test=df_only_phone_data[df_only_phone_data[\"train_test_flag\"]==\"test\"]"
      ],
      "execution_count": 216,
      "outputs": []
    },
    {
      "cell_type": "code",
      "metadata": {
        "id": "kIYMYeb21ATk"
      },
      "source": [
        "y_train=df_only_phone_data_train[\"gender\"]\n",
        "y_test=df_only_phone_data_test[\"gender\"]"
      ],
      "execution_count": 217,
      "outputs": []
    },
    {
      "cell_type": "code",
      "metadata": {
        "id": "32JAYA1104wi"
      },
      "source": [
        "x_train=df_only_phone_data_train[[\"phone_brand_en\",\"device_model_en\"]]\n",
        "x_test=df_only_phone_data_test[[\"phone_brand_en\",\"device_model_en\"]]"
      ],
      "execution_count": 218,
      "outputs": []
    },
    {
      "cell_type": "code",
      "metadata": {
        "id": "1p5BOJmL1qKg"
      },
      "source": [
        "x_train=x_train.values\n",
        "y_train=y_train.values"
      ],
      "execution_count": 219,
      "outputs": []
    },
    {
      "cell_type": "code",
      "metadata": {
        "id": "Q-5YCEhP1wBk"
      },
      "source": [
        "clf1 = LogisticRegression()\n",
        "clf2 = RandomForestClassifier(random_state=1, n_estimators=10) # just for demo have taken 10 trees \n",
        "xgb = XGBClassifier()\n",
        "\n",
        "stacking_Classifier_2 = StackingCVClassifier(classifiers=[clf1, clf2], meta_classifier=xgb, use_probas=True, cv=3)"
      ],
      "execution_count": 220,
      "outputs": []
    },
    {
      "cell_type": "code",
      "metadata": {
        "colab": {
          "base_uri": "https://localhost:8080/"
        },
        "id": "lvtDa7qP1-YL",
        "outputId": "67b5aa71-672c-474b-c21c-083a65b148e5"
      },
      "source": [
        "for clf, label in zip([clf1, clf2, stacking_Classifier_2], \n",
        "                      ['lr', \n",
        "                       'Random Forest', \n",
        "                       'StackingClassifier']):\n",
        "\n",
        "    scores = model_selection.cross_val_score(clf, x_train, y_train, cv=3, scoring='roc_auc')\n",
        "    print(\"Accuracy: %0.2f (+/- %0.2f) [%s]\" % (scores.mean(), scores.std(), label))"
      ],
      "execution_count": 221,
      "outputs": [
        {
          "output_type": "stream",
          "name": "stdout",
          "text": [
            "Accuracy: 0.51 (+/- 0.01) [lr]\n",
            "Accuracy: 0.51 (+/- 0.01) [Random Forest]\n",
            "Accuracy: 0.51 (+/- 0.02) [StackingClassifier]\n"
          ]
        }
      ]
    },
    {
      "cell_type": "code",
      "metadata": {
        "id": "Z6moFaQu2Gi7"
      },
      "source": [
        "stacking_gender_2=stacking_Classifier.fit(x_train,y_train)"
      ],
      "execution_count": 222,
      "outputs": []
    },
    {
      "cell_type": "code",
      "metadata": {
        "id": "v_S6MSWn2O75"
      },
      "source": [
        "y_pred=stacking_gender_2.predict(x_test)"
      ],
      "execution_count": 223,
      "outputs": []
    },
    {
      "cell_type": "code",
      "metadata": {
        "id": "gBCL0kR5Iwlh"
      },
      "source": [
        "y_probabilites=stacking_gender.predict_proba(x_test)"
      ],
      "execution_count": 224,
      "outputs": []
    },
    {
      "cell_type": "code",
      "metadata": {
        "colab": {
          "base_uri": "https://localhost:8080/"
        },
        "id": "Q8vNWWBPI78q",
        "outputId": "94052b35-5782-4ccb-e4cd-296dc433037e"
      },
      "source": [
        "ks_df = pd.DataFrame(y_test)\n",
        "ks_df[\"prob\"]=y_probabilites[:, 1]\n",
        "ks_df.rename(columns={\"gender\":\"target\"},inplace=True)\n",
        "ks_df=ks_df.drop_duplicates()\n",
        "mydf=ks(ks_df,\"target\",\"prob\")"
      ],
      "execution_count": 225,
      "outputs": [
        {
          "output_type": "stream",
          "name": "stdout",
          "text": [
            "        min_prob  max_prob  events  nonevents event_rate nonevent_rate  \\\n",
            "Decile                                                                   \n",
            "1       0.670114  0.755787      67         38     11.59%         8.03%   \n",
            "2       0.642534  0.668773      66         39     11.42%         8.25%   \n",
            "3       0.620846  0.642225      62         43     10.73%         9.09%   \n",
            "4       0.609276  0.620525      62         43     10.73%         9.09%   \n",
            "5       0.597699  0.609112      51         54      8.82%        11.42%   \n",
            "6       0.585593  0.597673      54         50      9.34%        10.57%   \n",
            "7       0.574407  0.585389      54         52      9.34%        10.99%   \n",
            "8       0.561030  0.574180      54         51      9.34%        10.78%   \n",
            "9       0.536944  0.560969      55         50      9.52%        10.57%   \n",
            "10      0.375226  0.536849      53         53      9.17%        11.21%   \n",
            "\n",
            "       cum_eventrate cum_noneventrate    KS  \n",
            "Decile                                       \n",
            "1             11.59%            8.03%   3.6  \n",
            "2             23.01%           16.28%   6.7  \n",
            "3             33.74%           25.37%   8.4  \n",
            "4             44.46%           34.46%  10.0  \n",
            "5             53.29%           45.88%   7.4  \n",
            "6             62.63%           56.45%   6.2  \n",
            "7             71.97%           67.44%   4.5  \n",
            "8             81.31%           78.22%   3.1  \n",
            "9             90.83%           88.79%   2.0  \n",
            "10           100.00%          100.00%   0.0  \n",
            "\u001b[31mKS is 10.0% at decile 4\n"
          ]
        }
      ]
    },
    {
      "cell_type": "code",
      "metadata": {
        "id": "avqe_AnU2Utz"
      },
      "source": [
        "conf_mat=confusion_matrix(y_test, y_pred)\n",
        "accuracy_=accuracy_score(y_test, y_pred)\n",
        "c_report_=classification_report(y_test,y_pred)\n",
        "roc=roc_curve(y_test,y_pred)\n",
        "auc_gender=auc(sorted(y_test),sorted(y_pred))"
      ],
      "execution_count": 226,
      "outputs": []
    },
    {
      "cell_type": "code",
      "metadata": {
        "colab": {
          "base_uri": "https://localhost:8080/"
        },
        "id": "J0NFEChH2aHY",
        "outputId": "1bd4820d-52b9-439e-d703-897661a3fdc0"
      },
      "source": [
        "print(\"\\t\\t\\tModel Evaluation for scenario 1 (All data Present)\\n\")\n",
        "print(\"confusion matrix\\n\",conf_mat)\n",
        "print(\"\\n\\nAccuracy :\",accuracy_)\n",
        "print(\"\\n\\nClassification_Report: \\n\\n\" ,c_report_)\n",
        "print(\"\\n\\nRoc Curve :\",roc)\n",
        "print(\"\\n\\nauc :\",auc_gender)"
      ],
      "execution_count": 227,
      "outputs": [
        {
          "output_type": "stream",
          "name": "stdout",
          "text": [
            "\t\t\tModel Evaluation for scenario 1 (All data Present)\n",
            "\n",
            "confusion matrix\n",
            " [[  67 2402]\n",
            " [  95 3661]]\n",
            "\n",
            "\n",
            "Accuracy : 0.5988755020080321\n",
            "\n",
            "\n",
            "Classification_Report: \n",
            "\n",
            "               precision    recall  f1-score   support\n",
            "\n",
            "           0       0.41      0.03      0.05      2469\n",
            "           1       0.60      0.97      0.75      3756\n",
            "\n",
            "    accuracy                           0.60      6225\n",
            "   macro avg       0.51      0.50      0.40      6225\n",
            "weighted avg       0.53      0.60      0.47      6225\n",
            "\n",
            "\n",
            "\n",
            "Roc Curve : (array([0.        , 0.97286351, 1.        ]), array([0.        , 0.97470714, 1.        ]), array([2, 1, 0]))\n",
            "\n",
            "\n",
            "auc : 1.0\n"
          ]
        }
      ]
    },
    {
      "cell_type": "markdown",
      "metadata": {
        "id": "jy5eaPaQ3HD9"
      },
      "source": [
        "###Predicting age and Evaluation"
      ]
    },
    {
      "cell_type": "code",
      "metadata": {
        "id": "NfirSKLG2xWV"
      },
      "source": [
        "y_train=df_only_phone_data_train[\"age\"]\n",
        "y_test=df_only_phone_data_test[\"age\"]"
      ],
      "execution_count": 228,
      "outputs": []
    },
    {
      "cell_type": "code",
      "metadata": {
        "id": "CgUBkVga2xZl"
      },
      "source": [
        "x_train=df_only_phone_data_train[[\"phone_brand_en\",\"device_model_en\"]]\n",
        "x_test=df_only_phone_data_test[[\"phone_brand_en\",\"device_model_en\"]]"
      ],
      "execution_count": 229,
      "outputs": []
    },
    {
      "cell_type": "code",
      "metadata": {
        "id": "4B7hEmKe2xg5"
      },
      "source": [
        "x_train=x_train.values\n",
        "y_train=y_train.values"
      ],
      "execution_count": 230,
      "outputs": []
    },
    {
      "cell_type": "code",
      "metadata": {
        "id": "54zKpK5y2b3l"
      },
      "source": [
        "clf1 = LinearRegression()\n",
        "clf2 = RandomForestRegressor(random_state=1, n_estimators=10) # just for demo have taken 10 trees \n",
        "xgb = XGBRegressor()\n",
        "\n",
        "stacking_2 = StackingCVRegressor(regressors=[clf1,clf2],meta_regressor=xgb,cv=3)"
      ],
      "execution_count": 231,
      "outputs": []
    },
    {
      "cell_type": "code",
      "metadata": {
        "colab": {
          "base_uri": "https://localhost:8080/"
        },
        "id": "XWhWipk12vOs",
        "outputId": "1f2c0a57-3d56-4d85-f814-a3e7e229136b"
      },
      "source": [
        "for clf, label in zip([clf1, clf2, stacking_2], \n",
        "                      ['lr', \n",
        "                       'Random Forest', \n",
        "                       'StackingClassifier']):\n",
        "\n",
        "    scores = model_selection.cross_val_score(clf, x_train, y_train, cv=3)\n",
        "    print(\"Accuracy: %0.2f (+/- %0.2f) [%s]\" % (scores.mean(), scores.std(), label))"
      ],
      "execution_count": 232,
      "outputs": [
        {
          "output_type": "stream",
          "name": "stdout",
          "text": [
            "Accuracy: -0.01 (+/- 0.01) [lr]\n",
            "Accuracy: -0.16 (+/- 0.16) [Random Forest]\n",
            "[15:30:27] WARNING: /workspace/src/objective/regression_obj.cu:152: reg:linear is now deprecated in favor of reg:squarederror.\n",
            "[15:30:28] WARNING: /workspace/src/objective/regression_obj.cu:152: reg:linear is now deprecated in favor of reg:squarederror.\n",
            "[15:30:29] WARNING: /workspace/src/objective/regression_obj.cu:152: reg:linear is now deprecated in favor of reg:squarederror.\n",
            "Accuracy: -0.02 (+/- 0.04) [StackingClassifier]\n"
          ]
        }
      ]
    },
    {
      "cell_type": "code",
      "metadata": {
        "colab": {
          "base_uri": "https://localhost:8080/"
        },
        "id": "S2Zsxjyp3NDB",
        "outputId": "f3f8c182-6420-48f5-b1f5-2732b4329cf9"
      },
      "source": [
        "stacking_gender_2=stacking_2.fit(x_train,y_train)"
      ],
      "execution_count": 233,
      "outputs": [
        {
          "output_type": "stream",
          "name": "stdout",
          "text": [
            "[15:30:51] WARNING: /workspace/src/objective/regression_obj.cu:152: reg:linear is now deprecated in favor of reg:squarederror.\n"
          ]
        }
      ]
    },
    {
      "cell_type": "code",
      "metadata": {
        "id": "bMoaMDC63d-O"
      },
      "source": [
        "y_pred=stacking_gender_2.predict(x_test)"
      ],
      "execution_count": 234,
      "outputs": []
    },
    {
      "cell_type": "code",
      "metadata": {
        "colab": {
          "base_uri": "https://localhost:8080/"
        },
        "id": "G0F4uEJw3nIi",
        "outputId": "4fa330cb-5582-4584-d99d-f7efdd88897b"
      },
      "source": [
        "y_pred"
      ],
      "execution_count": 235,
      "outputs": [
        {
          "output_type": "execute_result",
          "data": {
            "text/plain": [
              "array([31.199825, 31.717607, 37.346947, ..., 30.658606, 33.393837,\n",
              "       33.3597  ], dtype=float32)"
            ]
          },
          "metadata": {},
          "execution_count": 235
        }
      ]
    },
    {
      "cell_type": "code",
      "metadata": {
        "colab": {
          "base_uri": "https://localhost:8080/"
        },
        "id": "D1DJj5ok3ok1",
        "outputId": "e6054d10-d6d2-43f7-c371-54a0a6a17a0e"
      },
      "source": [
        "accuracy=r2_score(y_test, y_pred)\n",
        "rmse=mean_squared_error(y_test,y_pred)\n",
        "print(\"\\t\\t\\tModel Evaluation for scenario 2 (Only Phone data Present)\\n\")\n",
        "print(\"r2_score:\",accuracy)\n",
        "print(\"\\n\\rmse :\",rmse)"
      ],
      "execution_count": 236,
      "outputs": [
        {
          "output_type": "stream",
          "name": "stdout",
          "text": [
            "\t\t\tModel Evaluation for scenario 2 (Only Phone data Present)\n",
            "\n",
            "r2_score: 0.008580290427448345\n",
            "\n",
            "\rmse : 119.24573396624116\n"
          ]
        }
      ]
    },
    {
      "cell_type": "code",
      "metadata": {
        "id": "wwf0rUhj30sH"
      },
      "source": [
        "df_age=pd.DataFrame(y_test)\n",
        "df_age[\"pred\"]=y_pred"
      ],
      "execution_count": 237,
      "outputs": []
    },
    {
      "cell_type": "code",
      "metadata": {
        "id": "PMUexWl431gT"
      },
      "source": [
        "df_age[\"perc\"]=((df_age[\"age\"]-df_age[\"pred\"])/df_age[\"age\"])*100"
      ],
      "execution_count": 238,
      "outputs": []
    },
    {
      "cell_type": "code",
      "metadata": {
        "colab": {
          "base_uri": "https://localhost:8080/"
        },
        "id": "42TWNV50Ia_B",
        "outputId": "b02b1df7-cf15-4888-8662-574ab542971b"
      },
      "source": [
        "##percentage_population_distribution \n",
        "df_age[df_age[\"perc\"].between(-25,25)].count()[\"perc\"]/df_age.count()"
      ],
      "execution_count": 239,
      "outputs": [
        {
          "output_type": "execute_result",
          "data": {
            "text/plain": [
              "age     0.51245\n",
              "pred    0.51245\n",
              "perc    0.51245\n",
              "dtype: float64"
            ]
          },
          "metadata": {},
          "execution_count": 239
        }
      ]
    }
  ]
}